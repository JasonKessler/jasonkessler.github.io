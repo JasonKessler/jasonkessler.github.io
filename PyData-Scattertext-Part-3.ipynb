{
 "cells": [
  {
   "cell_type": "markdown",
   "metadata": {},
   "source": [
    "# Topic-specific term associations through word representations\n",
    "## How do Democrats and Republicans talk different about jobs\n",
    "\n",
    "https://github.com/JasonKessler/scattertext\n",
    "\n",
    "Cite as:\n",
    "Jason S. Kessler. Scattertext: a Browser-Based Tool for Visualizing how Corpora Differ. Proceedings of the 54th Annual Meeting of the Association for Computational Linguistics (ACL): System Demonstrations. 2017.\n",
    "\n",
    "Link to preprint: https://arxiv.org/abs/1703.00565\n",
    "\n",
    "`\n",
    "@article{kessler2017scattertext,\n",
    "  author    = {Kessler, Jason S.},\n",
    "  title     = {Scattertext: a Browser-Based Tool for Visualizing how Corpora Differ},\n",
    "  booktitle = {Proceedings of ACL-2017 System Demonstrations},\n",
    "  year      = {2017},\n",
    "  address   = {Vancouver, Canada},\n",
    "  publisher = {Association for Computational Linguistics},\n",
    "}\n",
    "`"
   ]
  },
  {
   "cell_type": "code",
   "execution_count": 1,
   "metadata": {},
   "outputs": [
    {
     "data": {
      "text/html": [
       "<style>.container { width:98% !important; }</style>"
      ],
      "text/plain": [
       "<IPython.core.display.HTML object>"
      ]
     },
     "metadata": {},
     "output_type": "display_data"
    }
   ],
   "source": [
    "%matplotlib inline\n",
    "import scattertext as st\n",
    "from gensim.models import word2vec\n",
    "import re, io, itertools\n",
    "from pprint import pprint\n",
    "import pandas as pd\n",
    "import numpy as np\n",
    "import spacy.en\n",
    "import os, pkgutil, json, urllib\n",
    "from urllib.request import urlopen\n",
    "from IPython.display import IFrame\n",
    "from IPython.core.display import display, HTML\n",
    "display(HTML(\"<style>.container { width:98% !important; }</style>\"))"
   ]
  },
  {
   "cell_type": "markdown",
   "metadata": {},
   "source": [
    "## Load the 2012 Conventions Dataset"
   ]
  },
  {
   "cell_type": "code",
   "execution_count": 2,
   "metadata": {
    "collapsed": true
   },
   "outputs": [],
   "source": [
    "import scattertext as st"
   ]
  },
  {
   "cell_type": "code",
   "execution_count": 3,
   "metadata": {},
   "outputs": [],
   "source": [
    "nlp = spacy.en.English()\n",
    "convention_df = st.SampleCorpora.ConventionData2012.get_data()\n",
    "convention_df['parsed'] = convention_df.text.apply(nlp)\n",
    "corpus = st.CorpusFromParsedDocuments(convention_df, category_col='party', parsed_col='parsed').build()"
   ]
  },
  {
   "cell_type": "markdown",
   "metadata": {},
   "source": [
    "## Use Gensim to run Word2Vec on the corpus.\n",
    "### Word2Vec encodes each word in a dense K-dimensional vector space\n",
    "### Cosine distances between terms vectors correspond to semantic similarity "
   ]
  },
  {
   "cell_type": "code",
   "execution_count": 4,
   "metadata": {},
   "outputs": [],
   "source": [
    "def get_line_sentences_for_word2vec(corpus):\n",
    "    return itertools.chain(*[[[t.lower_ for t in sent if not t.is_punct] \n",
    "                              for sent in doc.sents]\n",
    "                             for doc in corpus.get_parsed_docs()])"
   ]
  },
  {
   "cell_type": "code",
   "execution_count": 11,
   "metadata": {},
   "outputs": [
    {
     "data": {
      "text/plain": [
       "[('spending', 0.8147529363632202),\n",
       " ('stamps', 0.8113826513290405),\n",
       " ('jobs', 0.7794510126113892),\n",
       " ('lower', 0.742141842842102),\n",
       " ('cut', 0.7089222073554993),\n",
       " ('benefits', 0.6803330183029175),\n",
       " ('governments', 0.6802129745483398),\n",
       " ('per', 0.6799307465553284),\n",
       " ('costs', 0.6778221726417542),\n",
       " ('students', 0.6717503070831299)]"
      ]
     },
     "execution_count": 11,
     "metadata": {},
     "output_type": "execute_result"
    }
   ],
   "source": [
    "model = word2vec.Word2Vec(size=100, alpha=0.025, window=5, min_count=5, \n",
    "                          max_vocab_size=None, sample=0, seed=1, workers=1, min_alpha=0.0001, \n",
    "                          sg=1, hs=1, negative=0, cbow_mean=0, iter=1, null_word=0,\n",
    "                          trim_rule=None, sorted_vocab=1)\n",
    "model.scan_vocab(get_line_sentences_for_word2vec(corpus))\n",
    "model.build_vocab(get_line_sentences_for_word2vec(corpus))\n",
    "model.train(get_line_sentences_for_word2vec(corpus), \n",
    "            total_examples=model.corpus_count, \n",
    "            epochs=200)\n",
    "model.wv.most_similar('taxes')"
   ]
  },
  {
   "cell_type": "markdown",
   "metadata": {},
   "source": [
    "## Draw the Scattertext by only coloring points that have are associated with a category (p < 0.05 via log-odds w/ prior)\n",
    "### The top Democratic and Republican terms are raked by their similarity to \"jobs\"\n",
    "#### Only the terms associated to a category are considered. \n",
    "### On the far right, the most similar terms, regardless of category association, are listed."
   ]
  },
  {
   "cell_type": "code",
   "execution_count": 14,
   "metadata": {},
   "outputs": [
    {
     "data": {
      "text/html": [
       "\n",
       "        <iframe\n",
       "            width=\"1200\"\n",
       "            height=\"700\"\n",
       "            src=\"demo_similarity_gensim.html\"\n",
       "            frameborder=\"0\"\n",
       "            allowfullscreen\n",
       "        ></iframe>\n",
       "        "
      ],
      "text/plain": [
       "<IPython.lib.display.IFrame at 0x1a443beb8>"
      ]
     },
     "execution_count": 14,
     "metadata": {},
     "output_type": "execute_result"
    }
   ],
   "source": [
    "target_term = 'jobs'\n",
    "\n",
    "html = st.word_similarity_explorer_gensim(corpus,\n",
    "                                          category='democrat',\n",
    "                                          category_name='Democratic',\n",
    "                                          not_category_name='Republican',\n",
    "                                          target_term=target_term,\n",
    "                                          minimum_term_frequency=5,\n",
    "                                          pmi_filter_thresold=4,\n",
    "                                          width_in_pixels=1000,\n",
    "                                          word2vec=model,\n",
    "                                          metadata=convention_df['speaker'])\n",
    "file_name = 'demo_similarity_gensim.html'\n",
    "open(file_name, 'wb').write(html.encode('utf-8'))\n",
    "IFrame(src=file_name, width = 1200, height=700)"
   ]
  },
  {
   "cell_type": "markdown",
   "metadata": {},
   "source": [
    "## Instead of using vectors trained on the Corpus, we can use the spaCy-provided word vectors trained on the Common Crawl Corpus.\n",
    "### These are trained on a lot more data, but aren't specific to the corpus"
   ]
  },
  {
   "cell_type": "code",
   "execution_count": 15,
   "metadata": {},
   "outputs": [
    {
     "data": {
      "text/html": [
       "\n",
       "        <iframe\n",
       "            width=\"1200\"\n",
       "            height=\"700\"\n",
       "            src=\"demo_similarity.html\"\n",
       "            frameborder=\"0\"\n",
       "            allowfullscreen\n",
       "        ></iframe>\n",
       "        "
      ],
      "text/plain": [
       "<IPython.lib.display.IFrame at 0x1a3effc18>"
      ]
     },
     "execution_count": 15,
     "metadata": {},
     "output_type": "execute_result"
    }
   ],
   "source": [
    "html = st.word_similarity_explorer(corpus,\n",
    "                                   category='democrat',\n",
    "                                   category_name='Democratic',\n",
    "                                   not_category_name='Republican',\n",
    "                                   target_term='jobs',\n",
    "                                   minimum_term_frequency=5,\n",
    "                                   pmi_filter_thresold=4,\n",
    "                                   width_in_pixels=1000,\n",
    "                                   metadata=convention_df['speaker'])\n",
    "file_name = 'demo_similarity.html'\n",
    "open(file_name, 'wb').write(html.encode('utf-8'))\n",
    "IFrame(src=file_name, width = 1200, height=700)"
   ]
  },
  {
   "cell_type": "code",
   "execution_count": null,
   "metadata": {
    "collapsed": true
   },
   "outputs": [],
   "source": []
  }
 ],
 "metadata": {
  "anaconda-cloud": {},
  "kernelspec": {
   "display_name": "Python [Root]",
   "language": "python",
   "name": "Python [Root]"
  },
  "language_info": {
   "codemirror_mode": {
    "name": "ipython",
    "version": 3
   },
   "file_extension": ".py",
   "mimetype": "text/x-python",
   "name": "python",
   "nbconvert_exporter": "python",
   "pygments_lexer": "ipython3",
   "version": "3.5.2"
  }
 },
 "nbformat": 4,
 "nbformat_minor": 1
}

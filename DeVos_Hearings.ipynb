{
 "cells": [
  {
   "cell_type": "code",
   "execution_count": 26,
   "metadata": {
    "collapsed": false
   },
   "outputs": [
    {
     "data": {
      "text/html": [
       "<style>.container { width:98% !important; }</style>"
      ],
      "text/plain": [
       "<IPython.core.display.HTML object>"
      ]
     },
     "metadata": {},
     "output_type": "display_data"
    }
   ],
   "source": [
    "import pandas as pd\n",
    "import io, json\n",
    "import scattertext as st\n",
    "from bs4 import BeautifulSoup\n",
    "import numpy as np\n",
    "import urllib.request\n",
    "import spacy\n",
    "from IPython.display import IFrame\n",
    "from IPython.core.display import display, HTML\n",
    "display(HTML(\"<style>.container { width:98% !important; }</style>\"))"
   ]
  },
  {
   "cell_type": "code",
   "execution_count": 2,
   "metadata": {
    "collapsed": false
   },
   "outputs": [],
   "source": [
    "nlp = spacy.en.English()"
   ]
  },
  {
   "cell_type": "code",
   "execution_count": 3,
   "metadata": {
    "collapsed": false
   },
   "outputs": [],
   "source": [
    "# grap and parse the c-span trancript\n",
    "url = 'https://www.c-span.org/video/?421224-1/education-secretary-nominee-betsy-devos-testifies-confirmation-hearing&live&live=&action=getTranscript&transcriptType=cc&service-url=%2Fcommon%2Fservices%2FprogramSpeakers.php&progid=465837&appearance-filter=&personSkip=0&ccSkip=0&transcriptSpeaker=&transcriptQuery=#'\n",
    "with urllib.request.urlopen(url) as response:\n",
    "    raw_html = response.read()\n",
    "soup = BeautifulSoup(raw_html, 'html.parser')"
   ]
  },
  {
   "cell_type": "code",
   "execution_count": 4,
   "metadata": {
    "collapsed": false
   },
   "outputs": [],
   "source": [
    "transcript_df = pd.DataFrame({'speaker': [x.get_text().replace('>>','') for x in soup.find_all('strong')],\n",
    "                              'speech': [x.get_text().replace('>>','') for x in soup.find_all('p')],\n",
    "                             'time': [x.get_text().replace('>>','').strip() for x in soup.find_all('th')]})\n",
    "# save it\n",
    "transcript_df.to_csv('devos_transcript.csv')\n",
    "# strip out narrator\n",
    "transcript_df = transcript_df[transcript_df['speaker'] != 'Unidentified Speaker']\n",
    "# strip out extraneous speaker name\n",
    "transcript_df['speech'] = transcript_df['speech'].apply(lambda x: x.split(':',2)[1] if ':' in x else x)\n",
    "transcript_df['surname'] = transcript_df['speaker'].apply(lambda x: 'MURKOWSKI' if x.split()[-1] == 'KRUKOWSKI' else x.split()[-1])"
   ]
  },
  {
   "cell_type": "code",
   "execution_count": 5,
   "metadata": {
    "collapsed": false
   },
   "outputs": [
    {
     "name": "stdout",
     "output_type": "stream",
     "text": [
      "100\n",
      "101\n"
     ]
    },
    {
     "data": {
      "text/plain": [
       "Republican    53\n",
       "Democrat      48\n",
       "Name: caucus, dtype: int64"
      ]
     },
     "execution_count": 5,
     "metadata": {},
     "output_type": "execute_result"
    }
   ],
   "source": [
    "# data from govtrack.us\n",
    "congress_df = pd.read_csv('https://www.govtrack.us/api/v2/role?current=true&format=csv&limit=1000')\n",
    "# save it\n",
    "congress_df.to_csv('congress_2017_jan.csv')\n",
    "\n",
    "# Get the senate + Lieberman\n",
    "senate_df = congress_df[congress_df['role_type'] == 'senator'].reset_index()\n",
    "print(len(senate_df))\n",
    "senate_df.ix[100]=pd.Series({'caucus': 'Republican', \n",
    "                  'party': 'Republican', 'person__lastname': 'Lieberman', 'person__name': 'Fmr. Sen. Joe Lieberman [I-CT]'})\n",
    "print(len(senate_df))\n",
    "senate_df['caucus'] = senate_df.apply(lambda x: x.party if type(x.caucus) != str else x.caucus, axis=1)\n",
    "senate_df.caucus.value_counts()"
   ]
  },
  {
   "cell_type": "code",
   "execution_count": 6,
   "metadata": {
    "collapsed": false
   },
   "outputs": [],
   "source": [
    "\n",
    "senate_df['surname'] = senate_df['person__lastname'].apply(lambda x: x.upper())"
   ]
  },
  {
   "cell_type": "code",
   "execution_count": 7,
   "metadata": {
    "collapsed": false
   },
   "outputs": [],
   "source": [
    "# get dataframe joined to\n",
    "full_df = pd.merge(transcript_df, senate_df, on='surname', how='left').sort_values(by='time')"
   ]
  },
  {
   "cell_type": "code",
   "execution_count": 19,
   "metadata": {
    "collapsed": false
   },
   "outputs": [],
   "source": [
    "full_df['Caucus of Asker'] = full_df['caucus'].shift(1)\n",
    "full_df['Name of Asker'] = full_df['person__name'].shift(1)\n",
    "full_df['Question'] = full_df['speech'].shift(1)\n",
    "full_df['Caucus of Prev. Asker'] = full_df['caucus'].shift(2)\n",
    "full_df['Name of Prev. Asker'] = full_df['person__name'].shift(2)\n",
    "full_df['Prev. Question'] = full_df['speech'].shift(2)\n",
    "full_df['Caucus of Asker'] = full_df.apply(lambda x: x['Caucus of Asker'] if type(x['Caucus of Asker']) == str else x['Caucus of Prev. Asker'], axis=1)\n",
    "full_df['Name of Asker'] = full_df.apply(lambda x: x['Name of Asker'] if type(x['Name of Asker']) == str else x['Name of Prev. Asker'], axis=1)\n",
    "full_df['Question'] = full_df.apply(lambda x: x['Question'] if type(x['Question']) == str else x['Prev. Question'], axis=1)"
   ]
  },
  {
   "cell_type": "code",
   "execution_count": 20,
   "metadata": {
    "collapsed": false
   },
   "outputs": [],
   "source": [
    "# limit data frame to DeVos' answers\n",
    "devos_df = full_df[full_df['speaker'] == 'MRS. DEVOS']\n",
    "devos_df['metadata'] = devos_df['time'] + ': in response to ' + devos_df['Name of Asker'] + '<br>' + devos_df['Question']"
   ]
  },
  {
   "cell_type": "code",
   "execution_count": 21,
   "metadata": {
    "collapsed": false
   },
   "outputs": [],
   "source": [
    "devos_df['parsed'] = devos_df['speech'].apply(nlp)"
   ]
  },
  {
   "cell_type": "code",
   "execution_count": 22,
   "metadata": {
    "collapsed": false
   },
   "outputs": [],
   "source": [
    "corpus = (st.CorpusFromParsedDocuments(devos_df, \n",
    "                                       category_col = 'Caucus of Asker', \n",
    "                                       parsed_col = 'parsed', \n",
    "                                       feats_from_spacy_doc = st.FeatsFromSpacyDoc(strip_final_period=True))\n",
    "          .build()\n",
    "          .get_stoplisted_unigram_corpus())"
   ]
  },
  {
   "cell_type": "code",
   "execution_count": 23,
   "metadata": {
    "collapsed": false
   },
   "outputs": [],
   "source": [
    "corpus = corpus"
   ]
  },
  {
   "cell_type": "code",
   "execution_count": 25,
   "metadata": {
    "collapsed": false
   },
   "outputs": [
    {
     "data": {
      "text/html": [
       "\n",
       "        <iframe\n",
       "            width=\"1200\"\n",
       "            height=\"1000\"\n",
       "            src=\"Devos_Answers.html\"\n",
       "            frameborder=\"0\"\n",
       "            allowfullscreen\n",
       "        ></iframe>\n",
       "        "
      ],
      "text/plain": [
       "<IPython.lib.display.IFrame at 0x188aeb080>"
      ]
     },
     "execution_count": 25,
     "metadata": {},
     "output_type": "execute_result"
    }
   ],
   "source": [
    "html = st.produce_scattertext_explorer(corpus, \n",
    "                                       category='Democrat', \n",
    "                                       category_name='Democratic Askers', \n",
    "                                       not_category_name='Republican Askers',\n",
    "                                       minimum_term_frequency=2,\n",
    "                                       metadata=devos_df['metadata'],\n",
    "                                       use_full_doc=True,\n",
    "                                       width_in_pixels=1000)\n",
    "file_name = \"Devos_Answers.html\"\n",
    "open(\"Devos_Answers.html\", 'wb').write(html.encode('utf-8'))\n",
    "IFrame(src=file_name, width = 1200, height=1000)"
   ]
  },
  {
   "cell_type": "code",
   "execution_count": null,
   "metadata": {
    "collapsed": true
   },
   "outputs": [],
   "source": []
  }
 ],
 "metadata": {
  "anaconda-cloud": {},
  "kernelspec": {
   "display_name": "Python [Root]",
   "language": "python",
   "name": "Python [Root]"
  },
  "language_info": {
   "codemirror_mode": {
    "name": "ipython",
    "version": 3
   },
   "file_extension": ".py",
   "mimetype": "text/x-python",
   "name": "python",
   "nbconvert_exporter": "python",
   "pygments_lexer": "ipython3",
   "version": "3.5.2"
  }
 },
 "nbformat": 4,
 "nbformat_minor": 0
}

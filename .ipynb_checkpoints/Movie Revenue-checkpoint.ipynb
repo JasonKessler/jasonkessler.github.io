{
 "cells": [
  {
   "cell_type": "markdown",
   "metadata": {},
   "source": [
    "The data is from: \n",
    "\n",
    "Mahesh Joshi, Dipanjan Das, Kevin Gimpel, and Noah A. Smith. Movie Reviews and Revenues: An Experiment in Text Regression. In Proceedings of the North American Chapter of the Association for Computational Linguistics Human Language Technologies Conference, Los Angeles, CA, June 2010."
   ]
  },
  {
   "cell_type": "code",
   "execution_count": 14,
   "metadata": {
    "collapsed": false
   },
   "outputs": [
    {
     "data": {
      "text/html": [
       "<style>.container { width:98% !important; }</style>"
      ],
      "text/plain": [
       "<IPython.core.display.HTML object>"
      ]
     },
     "metadata": {},
     "output_type": "display_data"
    }
   ],
   "source": [
    "%matplotlib inline\n",
    "import scattertext as st\n",
    "import re, io\n",
    "from pprint import pprint\n",
    "import pandas as pd\n",
    "import numpy as np\n",
    "import spacy.en\n",
    "import seaborn as sns\n",
    "from urllib.request import urlopen\n",
    "from IPython.display import IFrame\n",
    "from IPython.core.display import display, HTML\n",
    "display(HTML(\"<style>.container { width:98% !important; }</style>\"))"
   ]
  },
  {
   "cell_type": "code",
   "execution_count": 10,
   "metadata": {
    "collapsed": false
   },
   "outputs": [],
   "source": [
    "nlp = spacy.en.English()"
   ]
  },
  {
   "cell_type": "code",
   "execution_count": 4,
   "metadata": {
    "collapsed": false
   },
   "outputs": [],
   "source": [
    "def draw_corpus(df, corpus, category, other_category, category_col, extra='', scores=None, \n",
    "                singleScoreMode=False, minimum_term_frequency=2, term_ranker=st.termranking.AbsoluteFrequencyRanker):\n",
    "    html = st.produce_scattertext_explorer(corpus, \n",
    "                                           category=category, \n",
    "                                           category_name=category.lower() +' Term', \n",
    "                                           not_category_name=other_category.lower() + ' Term',\n",
    "                                           pmi_filter_thresold=3,\n",
    "                                           minimum_term_frequency=minimum_term_frequency,\n",
    "                                           metadata=df['metadata'],\n",
    "                                           scores=scores,\n",
    "                                           width_in_pixels=1000,\n",
    "                                           singleScoreMode=singleScoreMode,\n",
    "                                           use_full_doc = False,\n",
    "                                           term_ranker=term_ranker)\n",
    "    file_name = category.lower() + '-' + other_category.lower() + extra + '.html'\n",
    "    open(file_name, 'wb').write(html.encode('utf-8'))\n",
    "    return IFrame(src=file_name, width = 1200, height=1000)\n",
    "\n",
    "def draw_plot(df, category, other_category, category_col, extra='', term_ranker=st.termranking.AbsoluteFrequencyRanker,minimum_term_frequency=3):\n",
    "    category_vs_other_df = df[(df[category_col] == category) | (df[category_col] == other_category)]\n",
    "    corpus = st.CorpusFromPandas(category_vs_other_df, \n",
    "                                 category_col = category_col, \n",
    "                                 text_col = 'text',\n",
    "                                 nlp = nlp).build()\n",
    "    return draw_corpus(category_vs_other_df, corpus, category, other_category, category_col, extra=extra, term_ranker=term_ranker, minimum_term_frequency=minimum_term_frequency)"
   ]
  },
  {
   "cell_type": "markdown",
   "metadata": {},
   "source": [
    "# Let's read the data and only look at the training set, and see that PG-13 movies have a large variance in revenue"
   ]
  },
  {
   "cell_type": "code",
   "execution_count": 57,
   "metadata": {
    "collapsed": false
   },
   "outputs": [],
   "source": [
    "df = pd.read_csv('movies_and_revenue.csv')\n",
    "df['revenue_level'] = df['revenue percentile'].apply(lambda x: ('High' if x >= 2./3 else ('Low' if x <= 1./3 else 'Mid')) + ' Revenue')\n",
    "df['metadata'] = df['name'] + ' Rated: ' + df['rating'] + ' Made: ' + df['revenue'].apply(lambda x:'${:,.0f}'.format(x))\n",
    "df = df[df['split'] == 'train']"
   ]
  },
  {
   "cell_type": "code",
   "execution_count": 58,
   "metadata": {
    "collapsed": false
   },
   "outputs": [
    {
     "name": "stdout",
     "output_type": "stream",
     "text": [
      "Number of review 4779\n",
      "Number of movies 1147\n"
     ]
    },
    {
     "data": {
      "text/plain": [
       "<matplotlib.axes._subplots.AxesSubplot at 0x1188f62e8>"
      ]
     },
     "execution_count": 58,
     "metadata": {},
     "output_type": "execute_result"
    },
    {
     "data": {
      "image/png": "[encoded data removed]",
      "text/plain": [
       "<matplotlib.figure.Figure at 0x118bff898>"
      ]
     },
     "metadata": {},
     "output_type": "display_data"
    }
   ],
   "source": [
    "print('Number of review', len(df))\n",
    "print('Number of movies', len(df['id'].unique()))\n",
    "import matplotlib.pyplot as plt\n",
    "plt.figure(figsize=(15, 5))\n",
    "sns.boxplot(x=\"rating\", y=\"revenue\", data=df[df['rating'].isin({'R', 'G', 'PG', 'PG-13', 'NC-17'})])"
   ]
  },
  {
   "cell_type": "markdown",
   "metadata": {},
   "source": [
    "# Let's limit to pg-13, re-percentile revenue, and take a peek at the review structure\n"
   ]
  },
  {
   "cell_type": "code",
   "execution_count": 62,
   "metadata": {
    "collapsed": false,
    "scrolled": true
   },
   "outputs": [
    {
     "name": "stdout",
     "output_type": "stream",
     "text": [
      "1383\n"
     ]
    },
    {
     "data": {
      "text/plain": [
       "id                                                                 1408\n",
       "revenue                                                     2.06177e+07\n",
       "split                                                             train\n",
       "text                  Based on a Stephen King short story that bears...\n",
       "revenue percentile                                             0.854363\n",
       "label                                                              True\n",
       "name                                                               1408\n",
       "number_of_screens                                                  2678\n",
       "origin                                                              USA\n",
       "rating                                                            PG-13\n",
       "metadata                            1408 Rated: PG-13 Made: $20,617,667\n",
       "revenue_level                                              High Revenue\n",
       "Name: 7, dtype: object"
      ]
     },
     "execution_count": 62,
     "metadata": {},
     "output_type": "execute_result"
    }
   ],
   "source": [
    "df_pg13 = df[df['rating'] == 'PG-13']\n",
    "print(len(df_pg13))\n",
    "# Replace revenue-level through a wonky one-liner\n",
    "df_pg13 = df_pg13[[c for c in df_pg13.columns if c != 'revenue_level']].join(pd.DataFrame(\n",
    "        {'revenue_level': df.ix[df_pg13['id'].drop_duplicates().index].set_index('id')['revenue']\n",
    "         .rank(pct=True)\n",
    "         .apply(lambda x: 'High Revenue' if x > 2./3 else ('Low Revenue' if x < 1./3 else 'Mid Revenue'))}), on='id')\n",
    "df_pg13.iloc[0]"
   ]
  },
  {
   "cell_type": "markdown",
   "metadata": {},
   "source": [
    "# Let plot it... something's wrong.  High and low revenue movies, directors, and actors, etc. are showing up."
   ]
  },
  {
   "cell_type": "code",
   "execution_count": 67,
   "metadata": {
    "collapsed": false
   },
   "outputs": [
    {
     "data": {
      "text/html": [
       "\n",
       "        <iframe\n",
       "            width=\"1200\"\n",
       "            height=\"1000\"\n",
       "            src=\"high revenue-low revenue.html\"\n",
       "            frameborder=\"0\"\n",
       "            allowfullscreen\n",
       "        ></iframe>\n",
       "        "
      ],
      "text/plain": [
       "<IPython.lib.display.IFrame at 0x11f7a4550>"
      ]
     },
     "execution_count": 67,
     "metadata": {},
     "output_type": "execute_result"
    }
   ],
   "source": [
    "draw_plot(df_pg13, 'High Revenue', 'Low Revenue', 'revenue_level', minimum_term_frequency=10)"
   ]
  },
  {
   "cell_type": "markdown",
   "metadata": {},
   "source": [
    "# Let's limit our term frequency count to once per document, and let's consider all reviews for a single movie one big document"
   ]
  },
  {
   "cell_type": "code",
   "execution_count": 65,
   "metadata": {
    "collapsed": false
   },
   "outputs": [
    {
     "data": {
      "text/plain": [
       "id                                                            1408\n",
       "revenue                                                2.06177e+07\n",
       "revenue_level                                         High Revenue\n",
       "rating                                                       PG-13\n",
       "name                                                          1408\n",
       "metadata                       1408 Rated: PG-13 Made: $20,617,667\n",
       "text             Based on a Stephen King short story that bears...\n",
       "Name: 0, dtype: object"
      ]
     },
     "execution_count": 65,
     "metadata": {},
     "output_type": "execute_result"
    }
   ],
   "source": [
    "one_movie_per_doc_df = (df_pg13.groupby(['id', 'revenue', 'revenue_level', 'rating', 'name', 'metadata'])\n",
    "                        .apply(lambda x: pd.Series({'text':'\\n\\n\\n'.join(x['text'])}))\n",
    "                        .reset_index())\n",
    "one_movie_per_doc_df.iloc[0]"
   ]
  },
  {
   "cell_type": "markdown",
   "metadata": {},
   "source": [
    "# A PG-13 movie will probably make a lot of money if:\n",
    "* Sequel or part of a franchise\n",
    "* Superhero should be manly, and should kick nasty, evil bad guys\n",
    "* Lots of suspenseful B-movie action sequences\n",
    "* Someone should wear a memorable t-shirt\n",
    "* Someone involved should be named Jerry\n",
    "* Avoid strong language, but have some slapstick comedy\n",
    "* Loud and dumb are probably okay, obvious may not be isn't"
   ]
  },
  {
   "cell_type": "code",
   "execution_count": 69,
   "metadata": {
    "collapsed": false,
    "scrolled": false
   },
   "outputs": [
    {
     "data": {
      "text/html": [
       "\n",
       "        <iframe\n",
       "            width=\"1200\"\n",
       "            height=\"1000\"\n",
       "            src=\"high revenue-low revenueonemoveperdoc.html\"\n",
       "            frameborder=\"0\"\n",
       "            allowfullscreen\n",
       "        ></iframe>\n",
       "        "
      ],
      "text/plain": [
       "<IPython.lib.display.IFrame at 0x126d0d828>"
      ]
     },
     "execution_count": 69,
     "metadata": {},
     "output_type": "execute_result"
    }
   ],
   "source": [
    "draw_plot(one_movie_per_doc_df, 'High Revenue', 'Low Revenue', 'revenue_level', \n",
    "          extra='onemoveperdoc', \n",
    "          term_ranker = st.termranking.OncePerDocFrequencyRanker, # only count one mention per document in frequency ranking\n",
    "          minimum_term_frequency=8)"
   ]
  },
  {
   "cell_type": "code",
   "execution_count": null,
   "metadata": {
    "collapsed": true
   },
   "outputs": [],
   "source": []
  },
  {
   "cell_type": "code",
   "execution_count": null,
   "metadata": {
    "collapsed": true
   },
   "outputs": [],
   "source": []
  }
 ],
 "metadata": {
  "kernelspec": {
   "display_name": "Python [Root]",
   "language": "python",
   "name": "Python [Root]"
  },
  "language_info": {
   "codemirror_mode": {
    "name": "ipython",
    "version": 3
   },
   "file_extension": ".py",
   "mimetype": "text/x-python",
   "name": "python",
   "nbconvert_exporter": "python",
   "pygments_lexer": "ipython3",
   "version": "3.5.2"
  }
 },
 "nbformat": 4,
 "nbformat_minor": 0
}

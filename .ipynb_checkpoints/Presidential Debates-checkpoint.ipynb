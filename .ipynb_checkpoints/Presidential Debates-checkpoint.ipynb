{
 "cells": [
  {
   "cell_type": "code",
   "execution_count": 1,
   "metadata": {
    "collapsed": false
   },
   "outputs": [],
   "source": [
    "import scattertext as st\n",
    "import re\n",
    "from pprint import pprint\n",
    "import pandas as pd\n",
    "import spacy.en\n",
    "from IPython.display import IFrame"
   ]
  },
  {
   "cell_type": "code",
   "execution_count": 2,
   "metadata": {
    "collapsed": true
   },
   "outputs": [],
   "source": [
    "nlp = spacy.en.English()"
   ]
  },
  {
   "cell_type": "code",
   "execution_count": 3,
   "metadata": {
    "collapsed": false
   },
   "outputs": [],
   "source": [
    "def debate_transcript_to_dataframe(fn, speakers):\n",
    "    lines = open(fn).read().split('\\n')\n",
    "    cur_speaker = None\n",
    "    speaker_start_re = re.compile(r'^([(]?[A-Z][A-Z][A-Z]+):?(.+)$')\n",
    "    transcript = []\n",
    "    cur_statement = ''\n",
    "    cur_speaker = None\n",
    "    for line in lines:\n",
    "        match = speaker_start_re.match(line)\n",
    "        if match:\n",
    "            if match.group(1).startswith('('):\n",
    "                continue\n",
    "            if cur_speaker is not None:\n",
    "                transcript.append({'speaker': cur_speaker, 'statement': cur_statement})\n",
    "            cur_speaker = match.group(1).strip()\n",
    "            cur_statement = match.group(2).strip() + '\\n'\n",
    "            for other_name in speakers:\n",
    "                if other_name+':' in cur_statement:\n",
    "                    cur_statement, other_statement = cur_statement.split(other_name)\n",
    "                    transcript.append({'speaker': cur_speaker, 'statement': cur_statement.strip()})\n",
    "                    transcript.append({'speaker': other_name, 'statement': other_statement.strip()})   \n",
    "        else:\n",
    "            cur_statement += line \n",
    "    df = pd.DataFrame(transcript)\n",
    "    return df"
   ]
  },
  {
   "cell_type": "code",
   "execution_count": 4,
   "metadata": {
    "collapsed": false
   },
   "outputs": [],
   "source": [
    "parties = {'QUIJANO':'Moderator', \n",
    "           'KAINE':'Democratic', \n",
    "           'PENCE':'Republican', \n",
    "           'HOLT':'Moderator', \n",
    "           'CLINTON':'Democratic', \n",
    "           'TRUMP':'Republican'}\n",
    "df = pd.concat([\n",
    "        debate_transcript_to_dataframe('presidential-debate-2016-09-26.txt', ['TRUMP','CLINTON','HOLT']),\n",
    "        debate_transcript_to_dataframe('vp-debate-2016-10-04.txt', ['PENCE','KAINE','QUIJANO'])\n",
    "])\n",
    "df['party'] = df['speaker'].apply(lambda x: parties[x])"
   ]
  },
  {
   "cell_type": "code",
   "execution_count": 8,
   "metadata": {
    "collapsed": false
   },
   "outputs": [],
   "source": [
    "def draw_plot(df, category, other_category, category_col):\n",
    "    corpus = st.CorpusFromPandas(data_frame = df[(df[category_col] == category) \n",
    "                                                              | (df[category_col] == other_category)], \n",
    "                                              category_col = category_col, \n",
    "                                              text_col = 'statement',\n",
    "                                              nlp = nlp).build()\n",
    "    html = st.produce_scattertext_html(corpus, \n",
    "                                       category=category, \n",
    "                                       category_name=category.title() +' Term', \n",
    "                                       not_category_name=other_category.title() + ' Term',\n",
    "                                       protocol='https',\n",
    "                                       pmi_filter_thresold=2,\n",
    "                                       minimum_term_frequency=2)\n",
    "    file_name = category.lower() + '-' + other_category.lower() + '.html'\n",
    "    open(file_name, 'wb').write(html.encode('utf-8'))\n",
    "    return IFrame(src=file_name, width = 1000, height=1000)"
   ]
  },
  {
   "cell_type": "code",
   "execution_count": 9,
   "metadata": {
    "collapsed": false
   },
   "outputs": [
    {
     "data": {
      "text/html": [
       "\n",
       "        <iframe\n",
       "            width=\"1000\"\n",
       "            height=\"1000\"\n",
       "            src=\"clinton-trump.html\"\n",
       "            frameborder=\"0\"\n",
       "            allowfullscreen\n",
       "        ></iframe>\n",
       "        "
      ],
      "text/plain": [
       "<IPython.lib.display.IFrame at 0x185a3b9b0>"
      ]
     },
     "execution_count": 9,
     "metadata": {},
     "output_type": "execute_result"
    }
   ],
   "source": [
    "draw_plot(df, 'CLINTON', 'TRUMP', 'speaker')"
   ]
  },
  {
   "cell_type": "code",
   "execution_count": 7,
   "metadata": {
    "collapsed": false
   },
   "outputs": [
    {
     "data": {
      "text/html": [
       "\n",
       "        <iframe\n",
       "            width=\"1000\"\n",
       "            height=\"1000\"\n",
       "            src=\"clinton-kaine.html\"\n",
       "            frameborder=\"0\"\n",
       "            allowfullscreen\n",
       "        ></iframe>\n",
       "        "
      ],
      "text/plain": [
       "<IPython.lib.display.IFrame at 0x185a06d30>"
      ]
     },
     "execution_count": 7,
     "metadata": {},
     "output_type": "execute_result"
    }
   ],
   "source": [
    "draw_plot(df, 'CLINTON', 'KAINE', 'speaker')"
   ]
  },
  {
   "cell_type": "code",
   "execution_count": 21,
   "metadata": {
    "collapsed": false
   },
   "outputs": [
    {
     "data": {
      "text/html": [
       "\n",
       "        <iframe\n",
       "            width=\"1000\"\n",
       "            height=\"1000\"\n",
       "            src=\"trump-pence.html\"\n",
       "            frameborder=\"0\"\n",
       "            allowfullscreen\n",
       "        ></iframe>\n",
       "        "
      ],
      "text/plain": [
       "<IPython.lib.display.IFrame at 0x150e740f0>"
      ]
     },
     "execution_count": 21,
     "metadata": {},
     "output_type": "execute_result"
    }
   ],
   "source": [
    "draw_plot(df, 'TRUMP', 'PENCE', 'speaker')"
   ]
  },
  {
   "cell_type": "code",
   "execution_count": 22,
   "metadata": {
    "collapsed": false
   },
   "outputs": [
    {
     "data": {
      "text/html": [
       "\n",
       "        <iframe\n",
       "            width=\"1000\"\n",
       "            height=\"1000\"\n",
       "            src=\"kaine-pence.html\"\n",
       "            frameborder=\"0\"\n",
       "            allowfullscreen\n",
       "        ></iframe>\n",
       "        "
      ],
      "text/plain": [
       "<IPython.lib.display.IFrame at 0x150e79f98>"
      ]
     },
     "execution_count": 22,
     "metadata": {},
     "output_type": "execute_result"
    }
   ],
   "source": [
    "draw_plot(df, 'KAINE', 'PENCE', 'speaker')"
   ]
  },
  {
   "cell_type": "code",
   "execution_count": 23,
   "metadata": {
    "collapsed": false
   },
   "outputs": [
    {
     "data": {
      "text/html": [
       "\n",
       "        <iframe\n",
       "            width=\"1000\"\n",
       "            height=\"1000\"\n",
       "            src=\"democratic-republican.html\"\n",
       "            frameborder=\"0\"\n",
       "            allowfullscreen\n",
       "        ></iframe>\n",
       "        "
      ],
      "text/plain": [
       "<IPython.lib.display.IFrame at 0x1190efb70>"
      ]
     },
     "execution_count": 23,
     "metadata": {},
     "output_type": "execute_result"
    }
   ],
   "source": [
    "draw_plot(df, 'Democratic', 'Republican', 'party')"
   ]
  },
  {
   "cell_type": "code",
   "execution_count": null,
   "metadata": {
    "collapsed": false
   },
   "outputs": [],
   "source": []
  },
  {
   "cell_type": "code",
   "execution_count": null,
   "metadata": {
    "collapsed": true
   },
   "outputs": [],
   "source": []
  }
 ],
 "metadata": {
  "anaconda-cloud": {},
  "kernelspec": {
   "display_name": "Python [Root]",
   "language": "python",
   "name": "Python [Root]"
  },
  "language_info": {
   "codemirror_mode": {
    "name": "ipython",
    "version": 3
   },
   "file_extension": ".py",
   "mimetype": "text/x-python",
   "name": "python",
   "nbconvert_exporter": "python",
   "pygments_lexer": "ipython3",
   "version": "3.5.2"
  }
 },
 "nbformat": 4,
 "nbformat_minor": 0
}

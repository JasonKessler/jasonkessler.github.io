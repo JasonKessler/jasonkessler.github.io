{
 "cells": [
  {
   "cell_type": "code",
   "execution_count": 2,
   "metadata": {
    "collapsed": false
   },
   "outputs": [
    {
     "data": {
      "text/html": [
       "<style>.container { width:90% !important; }</style>"
      ],
      "text/plain": [
       "<IPython.core.display.HTML object>"
      ]
     },
     "metadata": {},
     "output_type": "display_data"
    }
   ],
   "source": [
    "import scattertext as st\n",
    "import tarfile, urllib, io\n",
    "import pandas as pd\n",
    "from IPython.display import IFrame\n",
    "from IPython.core.display import display, HTML\n",
    "import spacy\n",
    "display(HTML(\"<style>.container { width:90% !important; }</style>\"))"
   ]
  },
  {
   "cell_type": "markdown",
   "metadata": {},
   "source": [
    "# Exploring subjective vs. objective language in Movie Reviews\n",
    "\n",
    "From Bo Pang's website: https://www.cs.cornell.edu/people/pabo/movie-review-data/\n",
    "\n",
    "Data from:\n",
    "A Sentimental Education: Sentiment Analysis Using Subjectivity Summarization \n",
    "Based on Minimum Cuts'', Proceedings of the ACL, 2004"
   ]
  },
  {
   "cell_type": "code",
   "execution_count": 20,
   "metadata": {
    "collapsed": true
   },
   "outputs": [],
   "source": [
    "SUBJECTIVITY_URL = 'http://www.cs.cornell.edu/people/pabo/movie-review-data/rotten_imdb.tar.gz'\n",
    "data = io.BytesIO(urllib.request.urlopen(SUBJECTIVITY_URL).read())\n",
    "tarball = tarfile.open(fileobj=data, mode = 'r:gz')\n",
    "readme = tarball.extractfile('subjdata.README.1.0').read()\n",
    "quote = tarball.extractfile('quote.tok.gt9.5000').read()\n",
    "plot = tarball.extractfile('plot.tok.gt9.5000').read()"
   ]
  },
  {
   "cell_type": "code",
   "execution_count": 21,
   "metadata": {
    "collapsed": false
   },
   "outputs": [],
   "source": [
    "#print(readme.decode('utf-8'))"
   ]
  },
  {
   "cell_type": "code",
   "execution_count": 22,
   "metadata": {
    "collapsed": false
   },
   "outputs": [
    {
     "data": {
      "text/plain": [
       "['smart and alert , thirteen conversations about one thing is a small gem . ',\n",
       " 'color , musical bounce and warm seas lapping on island shores . and just enough science to send you home thinking . ',\n",
       " 'it is not a mass-market entertainment but an uncompromising attempt by one artist to think about another . ']"
      ]
     },
     "execution_count": 22,
     "metadata": {},
     "output_type": "execute_result"
    }
   ],
   "source": [
    "# Examples of subjective sentences in corpus\n",
    "quote.decode('utf-8', errors='ignore').split('\\n')[:3]"
   ]
  },
  {
   "cell_type": "markdown",
   "metadata": {},
   "source": [
    "Construct subjective vs. objective pandas dataframe, \n",
    "treating review quotes as subjective, and plot points as objective.  \n",
    "Use spaCy to parse documents before putting them into the dataframe.\n",
    "\n",
    "Print out the first and last few lines (note that text is in spaCy \n",
    "format), and examine the size of the corpus."
   ]
  },
  {
   "cell_type": "code",
   "execution_count": 42,
   "metadata": {
    "collapsed": false
   },
   "outputs": [
    {
     "data": {
      "text/html": [
       "<div>\n",
       "<table border=\"1\" class=\"dataframe\">\n",
       "  <thead>\n",
       "    <tr style=\"text-align: right;\">\n",
       "      <th></th>\n",
       "      <th>label</th>\n",
       "      <th>text</th>\n",
       "    </tr>\n",
       "  </thead>\n",
       "  <tbody>\n",
       "    <tr>\n",
       "      <th>0</th>\n",
       "      <td>subjective</td>\n",
       "      <td>(smart, and, alert, ,, thirteen, conversations...</td>\n",
       "    </tr>\n",
       "    <tr>\n",
       "      <th>1</th>\n",
       "      <td>subjective</td>\n",
       "      <td>(color, ,, musical, bounce, and, warm, seas, l...</td>\n",
       "    </tr>\n",
       "    <tr>\n",
       "      <th>2</th>\n",
       "      <td>subjective</td>\n",
       "      <td>(it, is, not, a, mass, -, market, entertainmen...</td>\n",
       "    </tr>\n",
       "    <tr>\n",
       "      <th>9997</th>\n",
       "      <td>objective</td>\n",
       "      <td>(enter, the, beautiful, and, mysterious, secre...</td>\n",
       "    </tr>\n",
       "    <tr>\n",
       "      <th>9998</th>\n",
       "      <td>objective</td>\n",
       "      <td>(after, listening, to, a, missionary, from, ch...</td>\n",
       "    </tr>\n",
       "    <tr>\n",
       "      <th>9999</th>\n",
       "      <td>objective</td>\n",
       "      <td>(looking, for, a, short, cut, to, fame, ,, gla...</td>\n",
       "    </tr>\n",
       "  </tbody>\n",
       "</table>\n",
       "</div>"
      ],
      "text/plain": [
       "           label                                               text\n",
       "0     subjective  (smart, and, alert, ,, thirteen, conversations...\n",
       "1     subjective  (color, ,, musical, bounce, and, warm, seas, l...\n",
       "2     subjective  (it, is, not, a, mass, -, market, entertainmen...\n",
       "9997   objective  (enter, the, beautiful, and, mysterious, secre...\n",
       "9998   objective  (after, listening, to, a, missionary, from, ch...\n",
       "9999   objective  (looking, for, a, short, cut, to, fame, ,, gla..."
      ]
     },
     "execution_count": 42,
     "metadata": {},
     "output_type": "execute_result"
    }
   ],
   "source": [
    "nlp = spacy.en.English()\n",
    "df = pd.DataFrame(\n",
    "    [{'text': nlp(text.strip()), 'label': 'subjective'} \n",
    "     for text \n",
    "     in quote.decode('utf-8', errors='ignore').split('\\n') \n",
    "     if text.strip()] \n",
    "    + [{'text': nlp(text.strip()), 'label': 'objective'} for text \n",
    "       in plot.decode('utf-8', errors='ignore').split('\\n') \n",
    "       if text.strip()]\n",
    ")\n",
    "pd.concat([df.iloc[:3], df.iloc[-3:]])"
   ]
  },
  {
   "cell_type": "code",
   "execution_count": 43,
   "metadata": {
    "collapsed": false
   },
   "outputs": [
    {
     "name": "stdout",
     "output_type": "stream",
     "text": [
      "Number documents: 10000\n",
      "\n",
      "Subjective vs. objective document counts:\n",
      "objective     5000\n",
      "subjective    5000\n",
      "Name: label, dtype: int64\n",
      "\n",
      "Subjective vs. objective word counts:\n"
     ]
    },
    {
     "data": {
      "text/plain": [
       "label\n",
       "objective     130336\n",
       "subjective    121183\n",
       "dtype: int64"
      ]
     },
     "execution_count": 43,
     "metadata": {},
     "output_type": "execute_result"
    }
   ],
   "source": [
    "print(\"Number documents:\", len(df))\n",
    "print()\n",
    "print(\"Subjective vs. objective document counts:\")\n",
    "print(df['label'].value_counts())\n",
    "print()\n",
    "print(\"Subjective vs. objective word counts:\")\n",
    "df.groupby('label').apply(lambda subdf: subdf['text'].apply(len).sum())"
   ]
  },
  {
   "cell_type": "markdown",
   "metadata": {},
   "source": [
    "Convert Pandas dataframe to a term-document matrix, indicating\n",
    "the category column is \"label\" and the text column name is \"text\""
   ]
  },
  {
   "cell_type": "code",
   "execution_count": 44,
   "metadata": {
    "collapsed": false
   },
   "outputs": [],
   "source": [
    "corpus = st.CorpusFromParsedDocuments(df, category_col = 'label', parsed_col = 'text').build()"
   ]
  },
  {
   "cell_type": "markdown",
   "metadata": {},
   "source": [
    "Filter out bigrams with PMI < 2 * 5, and unigrams and bigrams that occur less than 10 times.  The variable html is a string containing the HTML that makes up the scattertext visualization.   In order to get the visualization to render in a notebook, we need to write it to a file and  read it back in."
   ]
  },
  {
   "cell_type": "code",
   "execution_count": 45,
   "metadata": {
    "collapsed": false
   },
   "outputs": [
    {
     "data": {
      "text/html": [
       "\n",
       "        <iframe\n",
       "            width=\"1400\"\n",
       "            height=\"1000\"\n",
       "            src=\"subj_obj_scatter.html\"\n",
       "            frameborder=\"0\"\n",
       "            allowfullscreen\n",
       "        ></iframe>\n",
       "        "
      ],
      "text/plain": [
       "<IPython.lib.display.IFrame at 0x135f02f60>"
      ]
     },
     "execution_count": 45,
     "metadata": {},
     "output_type": "execute_result"
    }
   ],
   "source": [
    "html = st.produce_scattertext_explorer(corpus, \n",
    "                                       category='subjective', \n",
    "                                       category_name='Subjective', \n",
    "                                       not_category_name='Objective',\n",
    "                                       protocol='https',\n",
    "                                       pmi_filter_thresold=4,\n",
    "                                       minimum_term_frequency=10,\n",
    "                                       width_in_pixels=1200)\n",
    "\n",
    "# Hack to display HTML with D3 in Jupyter Notebook\n",
    "open('subj_obj_scatter.html', 'wb').write(html.encode('utf-8'))\n",
    "IFrame(src='subj_obj_scatter.html', width = 1400, height=1000)"
   ]
  },
  {
   "cell_type": "markdown",
   "metadata": {},
   "source": [
    "Alternatively, view this on a log axis.  This disproportionally emphasises stopwords."
   ]
  },
  {
   "cell_type": "code",
   "execution_count": 39,
   "metadata": {
    "collapsed": false
   },
   "outputs": [
    {
     "data": {
      "text/html": [
       "\n",
       "        <iframe\n",
       "            width=\"1400\"\n",
       "            height=\"1000\"\n",
       "            src=\"subj_obj_scatter_log.html\"\n",
       "            frameborder=\"0\"\n",
       "            allowfullscreen\n",
       "        ></iframe>\n",
       "        "
      ],
      "text/plain": [
       "<IPython.lib.display.IFrame at 0x15e42b0b8>"
      ]
     },
     "execution_count": 39,
     "metadata": {},
     "output_type": "execute_result"
    }
   ],
   "source": [
    "html = st.produce_scattertext_explorer(corpus, \n",
    "                                       category='subjective', \n",
    "                                       category_name='Subjective', \n",
    "                                       not_category_name='Objective',\n",
    "                                       protocol='https',\n",
    "                                       pmi_filter_thresold=4,\n",
    "                                       minimum_term_frequency=10,\n",
    "                                       width_in_pixels=1200,\n",
    "                                       transform=st.Scalers.log_scale_standardize)\n",
    "# Hack to display HTML with D3 in Jupyter Notebook\n",
    "open('subj_obj_scatter_log.html', 'wb').write(html.encode('utf-8'))\n",
    "IFrame(src='subj_obj_scatter_log.html', width = 1400, height=1000)"
   ]
  },
  {
   "cell_type": "markdown",
   "metadata": {},
   "source": [
    "See how \"war\" (or another word of your choice) is used in subjective or objective contexts.  This uses glove word vectors via spaCy."
   ]
  },
  {
   "cell_type": "code",
   "execution_count": 27,
   "metadata": {
    "collapsed": false
   },
   "outputs": [
    {
     "data": {
      "text/html": [
       "\n",
       "        <iframe\n",
       "            width=\"1400\"\n",
       "            height=\"1000\"\n",
       "            src=\"subj_obj_scatter_war.html\"\n",
       "            frameborder=\"0\"\n",
       "            allowfullscreen\n",
       "        ></iframe>\n",
       "        "
      ],
      "text/plain": [
       "<IPython.lib.display.IFrame at 0x15e680ba8>"
      ]
     },
     "execution_count": 27,
     "metadata": {},
     "output_type": "execute_result"
    }
   ],
   "source": [
    "target_term = 'war'\n",
    "html = st.word_similarity_explorer(corpus, \n",
    "                                   category='subjective', \n",
    "                                   category_name='Subjective', \n",
    "                                   not_category_name='Objective',\n",
    "                                   protocol='https',\n",
    "                                   target_term = target_term,\n",
    "                                   pmi_filter_thresold=4,\n",
    "                                   minimum_term_frequency=10,\n",
    "                                   width_in_pixels=1200,\n",
    "                                   alpha=0.01,\n",
    "                                   max_p_val=0.05)\n",
    "\n",
    "# Hack to display HTML with D3 in Jupyter Notebook\n",
    "open('subj_obj_scatter_war.html', 'wb').write(html.encode('utf-8'))\n",
    "IFrame(src='subj_obj_scatter_war.html', width = 1400, height=1000)"
   ]
  },
  {
   "cell_type": "code",
   "execution_count": null,
   "metadata": {
    "collapsed": false
   },
   "outputs": [],
   "source": []
  },
  {
   "cell_type": "code",
   "execution_count": null,
   "metadata": {
    "collapsed": true
   },
   "outputs": [],
   "source": []
  }
 ],
 "metadata": {
  "anaconda-cloud": {},
  "kernelspec": {
   "display_name": "Python [Root]",
   "language": "python",
   "name": "Python [Root]"
  },
  "language_info": {
   "codemirror_mode": {
    "name": "ipython",
    "version": 3
   },
   "file_extension": ".py",
   "mimetype": "text/x-python",
   "name": "python",
   "nbconvert_exporter": "python",
   "pygments_lexer": "ipython3",
   "version": "3.5.2"
  }
 },
 "nbformat": 4,
 "nbformat_minor": 0
}

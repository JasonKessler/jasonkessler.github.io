{
 "cells": [
  {
   "cell_type": "code",
   "execution_count": 2,
   "metadata": {
    "collapsed": false
   },
   "outputs": [
    {
     "data": {
      "text/html": [
       "<style>.container { width:90% !important; }</style>"
      ],
      "text/plain": [
       "<IPython.core.display.HTML object>"
      ]
     },
     "metadata": {},
     "output_type": "display_data"
    }
   ],
   "source": [
    "import scattertext as st\n",
    "import tarfile, urllib, io\n",
    "import pandas as pd\n",
    "from IPython.display import IFrame\n",
    "from IPython.core.display import display, HTML\n",
    "import spacy\n",
    "display(HTML(\"<style>.container { width:90% !important; }</style>\"))"
   ]
  },
  {
   "cell_type": "code",
   "execution_count": 3,
   "metadata": {
    "collapsed": true
   },
   "outputs": [],
   "source": [
    "'''From Bo Pang's website: https://www.cs.cornell.edu/people/pabo/movie-review-data/\n",
    "\n",
    "Data from:\n",
    "A Sentimental Education: Sentiment Analysis Using Subjectivity Summarization \n",
    "Based on Minimum Cuts'', Proceedings of the ACL, 2004\n",
    "'''\n",
    "SUBJECTIVITY_URL = 'http://www.cs.cornell.edu/people/pabo/movie-review-data/rotten_imdb.tar.gz'\n",
    "data = io.BytesIO(urllib.request.urlopen(SUBJECTIVITY_URL).read())\n",
    "tarball = tarfile.open(fileobj=data, mode = 'r:gz')\n",
    "readme = tarball.extractfile('subjdata.README.1.0').read()\n",
    "quote = tarball.extractfile('quote.tok.gt9.5000').read()\n",
    "plot = tarball.extractfile('plot.tok.gt9.5000').read()"
   ]
  },
  {
   "cell_type": "code",
   "execution_count": 4,
   "metadata": {
    "collapsed": false
   },
   "outputs": [],
   "source": [
    "#print(readme.decode('utf-8'))"
   ]
  },
  {
   "cell_type": "code",
   "execution_count": 5,
   "metadata": {
    "collapsed": false
   },
   "outputs": [
    {
     "data": {
      "text/plain": [
       "['smart and alert , thirteen conversations about one thing is a small gem . ',\n",
       " 'color , musical bounce and warm seas lapping on island shores . and just enough science to send you home thinking . ',\n",
       " 'it is not a mass-market entertainment but an uncompromising attempt by one artist to think about another . ']"
      ]
     },
     "execution_count": 5,
     "metadata": {},
     "output_type": "execute_result"
    }
   ],
   "source": [
    "# Examples of subjective sentences in corpus\n",
    "quote.decode('utf-8', errors='ignore').split('\\n')[:3]"
   ]
  },
  {
   "cell_type": "code",
   "execution_count": 6,
   "metadata": {
    "collapsed": false
   },
   "outputs": [
    {
     "data": {
      "text/plain": [
       "label                                           subjective\n",
       "text     (smart, and, alert, ,, thirteen, conversations...\n",
       "Name: 0, dtype: object"
      ]
     },
     "execution_count": 6,
     "metadata": {},
     "output_type": "execute_result"
    }
   ],
   "source": [
    "'''Construct subjective vs. objective pandas dataframe, \n",
    "treating review quotes as subjective, and plot points as objective.  \n",
    "Use spaCy to parse documents before putting them into the dataframe.\n",
    "\n",
    "Print out the first line.\n",
    "'''\n",
    "nlp = spacy.en.English()\n",
    "df = pd.DataFrame(\n",
    "    [{'text': nlp(text.strip()), 'label': 'subjective'} \n",
    "     for text \n",
    "     in quote.decode('utf-8', errors='ignore').split('\\n') \n",
    "     if text.strip()] \n",
    "    + [{'text': nlp(text.strip()), 'label': 'objective'} for text \n",
    "       in plot.decode('utf-8', errors='ignore').split('\\n') \n",
    "       if text.strip()]\n",
    ")\n",
    "df.iloc[0]"
   ]
  },
  {
   "cell_type": "code",
   "execution_count": 7,
   "metadata": {
    "collapsed": false
   },
   "outputs": [
    {
     "name": "stdout",
     "output_type": "stream",
     "text": [
      "Number documents: 10000\n",
      "\n",
      "Subjective vs. objective document counts:\n",
      "objective     5000\n",
      "subjective    5000\n",
      "Name: label, dtype: int64\n",
      "\n",
      "Subjective vs. objective word counts:\n"
     ]
    },
    {
     "data": {
      "text/plain": [
       "label\n",
       "objective     130336\n",
       "subjective    121183\n",
       "dtype: int64"
      ]
     },
     "execution_count": 7,
     "metadata": {},
     "output_type": "execute_result"
    }
   ],
   "source": [
    "'''Look at the size of the corpus'''\n",
    "print(\"Number documents:\", len(df))\n",
    "print()\n",
    "print(\"Subjective vs. objective document counts:\")\n",
    "print(df['label'].value_counts())\n",
    "print()\n",
    "print(\"Subjective vs. objective word counts:\")\n",
    "df.groupby('label').apply(lambda subdf: subdf['text'].apply(len).sum())"
   ]
  },
  {
   "cell_type": "code",
   "execution_count": 8,
   "metadata": {
    "collapsed": false
   },
   "outputs": [],
   "source": [
    "'''Convert Pandas dataframe to a term-document matrix, indicating\n",
    "the category column is \"label\" and the text column name is \"text\".'''\n",
    "\n",
    "corpus = st.CorpusFromParsedDocuments(df, category_col = 'label', parsed_col = 'text').build()"
   ]
  },
  {
   "cell_type": "code",
   "execution_count": 9,
   "metadata": {
    "collapsed": false
   },
   "outputs": [
    {
     "data": {
      "text/html": [
       "\n",
       "        <iframe\n",
       "            width=\"1400\"\n",
       "            height=\"1000\"\n",
       "            src=\"subj_obj_scatter.html\"\n",
       "            frameborder=\"0\"\n",
       "            allowfullscreen\n",
       "        ></iframe>\n",
       "        "
      ],
      "text/plain": [
       "<IPython.lib.display.IFrame at 0x12555ce80>"
      ]
     },
     "execution_count": 9,
     "metadata": {},
     "output_type": "execute_result"
    }
   ],
   "source": [
    "'''\n",
    "Filter out bigrams with PMI < 2 * 5, and unigrams and bigrams that occur less than 10 times.  \n",
    "The variable html is a string containing the HTML that makes up the scattertext visualization\n",
    "'''\n",
    "html = st.produce_scattertext_explorer(corpus, \n",
    "                                       category='subjective', \n",
    "                                       category_name='Subjective', \n",
    "                                       not_category_name='Objective',\n",
    "                                       protocol='https',\n",
    "                                       pmi_filter_thresold=4,\n",
    "                                       minimum_term_frequency=10,\n",
    "                                       width_in_pixels=1200)\n",
    "\n",
    "# Hack to display HTML with D3 in Jupyter Notebook\n",
    "open('subj_obj_scatter.html', 'wb').write(html.encode('utf-8'))\n",
    "IFrame(src='subj_obj_scatter.html', width = 1400, height=1000)"
   ]
  },
  {
   "cell_type": "code",
   "execution_count": 11,
   "metadata": {
    "collapsed": false
   },
   "outputs": [
    {
     "data": {
      "text/html": [
       "\n",
       "        <iframe\n",
       "            width=\"1400\"\n",
       "            height=\"1000\"\n",
       "            src=\"subj_obj_scatter.html\"\n",
       "            frameborder=\"0\"\n",
       "            allowfullscreen\n",
       "        ></iframe>\n",
       "        "
      ],
      "text/plain": [
       "<IPython.lib.display.IFrame at 0x13628c898>"
      ]
     },
     "execution_count": 11,
     "metadata": {},
     "output_type": "execute_result"
    }
   ],
   "source": [
    "'''\n",
    "See how violence (or another word of your choice) is used in subjective or objective contexts.\n",
    "'''\n",
    "target_term = 'violence'\n",
    "html = st.word_similarity_explorer(corpus, \n",
    "                                   category='subjective', \n",
    "                                   category_name='Subjective', \n",
    "                                   not_category_name='Objective',\n",
    "                                   protocol='https',\n",
    "                                   target_term = target_term,\n",
    "                                   pmi_filter_thresold=4,\n",
    "                                   minimum_term_frequency=10,\n",
    "                                   width_in_pixels=1200,\n",
    "                                   alpha=0.01,\n",
    "                                   max_p_val=0.05)\n",
    "\n",
    "# Hack to display HTML with D3 in Jupyter Notebook\n",
    "open('subj_obj_scatter.html', 'wb').write(html.encode('utf-8'))\n",
    "IFrame(src='subj_obj_scatter.html', width = 1400, height=1000)"
   ]
  },
  {
   "cell_type": "code",
   "execution_count": null,
   "metadata": {
    "collapsed": true
   },
   "outputs": [],
   "source": []
  }
 ],
 "metadata": {
  "anaconda-cloud": {},
  "kernelspec": {
   "display_name": "Python [Root]",
   "language": "python",
   "name": "Python [Root]"
  },
  "language_info": {
   "codemirror_mode": {
    "name": "ipython",
    "version": 3
   },
   "file_extension": ".py",
   "mimetype": "text/x-python",
   "name": "python",
   "nbconvert_exporter": "python",
   "pygments_lexer": "ipython3",
   "version": "3.5.2"
  }
 },
 "nbformat": 4,
 "nbformat_minor": 0
}

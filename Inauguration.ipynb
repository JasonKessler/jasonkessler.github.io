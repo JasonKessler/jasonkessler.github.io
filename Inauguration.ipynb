{
 "cells": [
  {
   "cell_type": "code",
   "execution_count": 2,
   "metadata": {
    "collapsed": false
   },
   "outputs": [
    {
     "data": {
      "text/html": [
       "<style>.container { width:98% !important; }</style>"
      ],
      "text/plain": [
       "<IPython.core.display.HTML object>"
      ]
     },
     "metadata": {},
     "output_type": "display_data"
    }
   ],
   "source": [
    "import scattertext as st\n",
    "import re\n",
    "from pprint import pprint\n",
    "import numpy as np\n",
    "import pandas as pd\n",
    "import spacy.en\n",
    "from IPython.display import IFrame\n",
    "from IPython.core.display import display, HTML\n",
    "display(HTML(\"<style>.container { width:98% !important; }</style>\"))"
   ]
  },
  {
   "cell_type": "code",
   "execution_count": 3,
   "metadata": {
    "collapsed": true
   },
   "outputs": [],
   "source": [
    "nlp = spacy.en.English()"
   ]
  },
  {
   "cell_type": "code",
   "execution_count": 23,
   "metadata": {
    "collapsed": false
   },
   "outputs": [
    {
     "data": {
      "text/plain": [
       "[(0.99999993356195649, <spacy.lexeme.Lexeme at 0x136788fc0>),\n",
       " (0.99999993356195649, <spacy.lexeme.Lexeme at 0x137850558>),\n",
       " (0.99999993356195649, <spacy.lexeme.Lexeme at 0x13784eb88>),\n",
       " (0.79165682190815179, <spacy.lexeme.Lexeme at 0x136cb0510>),\n",
       " (0.79165682190815179, <spacy.lexeme.Lexeme at 0x1c3928090>),\n",
       " (0.79165682190815179, <spacy.lexeme.Lexeme at 0x136685d80>),\n",
       " (0.76924962455655532, <spacy.lexeme.Lexeme at 0x1c129b0d8>),\n",
       " (0.76924962455655532, <spacy.lexeme.Lexeme at 0x1c048ccf0>),\n",
       " (0.76924962455655532, <spacy.lexeme.Lexeme at 0x1c0574240>),\n",
       " (0.69017421203602203, <spacy.lexeme.Lexeme at 0x13740f630>)]"
      ]
     },
     "execution_count": 23,
     "metadata": {},
     "output_type": "execute_result"
    }
   ],
   "source": [
    "import itertools\n",
    "targ = nlp('president')\n",
    "x = list(itertools.islice(reversed(sorted((targ.similarity(w), w) for w in nlp.vocab)), 10))"
   ]
  },
  {
   "cell_type": "code",
   "execution_count": 26,
   "metadata": {
    "collapsed": false
   },
   "outputs": [
    {
     "data": {
      "text/plain": [
       "['PRESIDENT',\n",
       " 'President',\n",
       " 'president',\n",
       " 'VICE',\n",
       " 'Vice',\n",
       " 'vice',\n",
       " 'vice-president',\n",
       " 'VICE-PRESIDENT',\n",
       " 'Vice-President',\n",
       " 'CHAIRMAN']"
      ]
     },
     "execution_count": 26,
     "metadata": {},
     "output_type": "execute_result"
    }
   ],
   "source": [
    "[s[1].orth_ for s in x]"
   ]
  },
  {
   "cell_type": "code",
   "execution_count": 24,
   "metadata": {
    "collapsed": false
   },
   "outputs": [
    {
     "data": {
      "text/html": [
       "\n",
       "        <iframe\n",
       "            width=\"90%\"\n",
       "            height=\"1000\"\n",
       "            src=\"trump_vs_obama_inaugural.html\"\n",
       "            frameborder=\"0\"\n",
       "            allowfullscreen\n",
       "        ></iframe>\n",
       "        "
      ],
      "text/plain": [
       "<IPython.lib.display.IFrame at 0x1c1b14fd0>"
      ]
     },
     "execution_count": 24,
     "metadata": {},
     "output_type": "execute_result"
    }
   ],
   "source": [
    "data = [{'President': 'Trump', 'Year':'2017', 'Address':open('trump_inaugural.txt').read()},\n",
    "        {'President': 'Obama', 'Year':'2013', 'Address':open('obama_second_inaugural.txt').read()},\n",
    "        {'President': 'Obama', 'Year':'2009', 'Address':open('obama_first_inaugural.txt').read()}]\n",
    "df = pd.DataFrame(data)\n",
    "df['Address'] = df['Address'].apply(lambda x: x.replace('(Applause.)',''))\n",
    "corpus = st.CorpusFromPandas(df, category_col='President', text_col='Address', nlp=nlp).build().get_stoplisted_unigram_corpus()\n",
    "html = st.produce_scattertext_explorer(corpus, \n",
    "                                       category='Obama', \n",
    "                                       category_name='Pres. Obama', \n",
    "                                       not_category_name='Pres. Trump',\n",
    "                                       pmi_filter_thresold=3,\n",
    "                                       minimum_term_frequency=2,\n",
    "                                       metadata=df['President'] + ' ' + df['Year'],\n",
    "                                       scores=None,\n",
    "                                       width_in_pixels=1000,\n",
    "                                       grey_zero_scores=False,\n",
    "                                       singleScoreMode=False,\n",
    "                                       sort_by_dist=True)\n",
    "file_name ='trump_vs_obama_inaugural.html'\n",
    "open(file_name, 'wb').write(html.encode('utf-8'))\n",
    "IFrame(src=file_name, width = '90%', height=1000)\n"
   ]
  },
  {
   "cell_type": "code",
   "execution_count": 25,
   "metadata": {
    "collapsed": false
   },
   "outputs": [
    {
     "data": {
      "text/html": [
       "\n",
       "        <iframe\n",
       "            width=\"90%\"\n",
       "            height=\"1000\"\n",
       "            src=\"trump_rnc_vs_inaugural.html\"\n",
       "            frameborder=\"0\"\n",
       "            allowfullscreen\n",
       "        ></iframe>\n",
       "        "
      ],
      "text/plain": [
       "<IPython.lib.display.IFrame at 0x106584be0>"
      ]
     },
     "execution_count": 25,
     "metadata": {},
     "output_type": "execute_result"
    }
   ],
   "source": [
    "data = [{'Speech': 'Trump Inaugural', 'Address':open('trump_inaugural.txt').read()},\n",
    "        {'Speech': 'Trump RNC', 'Address':open('trump_rnc.txt').read()}]\n",
    "df = pd.DataFrame(data)\n",
    "df['Address'] = df['Address'].apply(lambda x: x.replace('(Applause.)',''))\n",
    "corpus = st.CorpusFromPandas(df, category_col='Speech', text_col='Address', nlp=nlp).build().get_stoplisted_unigram_corpus()\n",
    "html = st.produce_scattertext_explorer(corpus, \n",
    "                                       category='Trump RNC', \n",
    "                                       category_name='Trump RNC', \n",
    "                                       not_category_name='Trump Inaugural',\n",
    "                                       pmi_filter_thresold=3,\n",
    "                                       minimum_term_frequency=2,\n",
    "                                       metadata=df['Speech'],\n",
    "                                       scores=None,\n",
    "                                       width_in_pixels=1000,\n",
    "                                       grey_zero_scores=False,\n",
    "                                       singleScoreMode=False,\n",
    "                                       sort_by_dist=True)\n",
    "file_name ='trump_rnc_vs_inaugural.html'\n",
    "open(file_name, 'wb').write(html.encode('utf-8'))\n",
    "IFrame(src=file_name, width = '90%', height=1000)\n"
   ]
  },
  {
   "cell_type": "code",
   "execution_count": null,
   "metadata": {
    "collapsed": true
   },
   "outputs": [],
   "source": []
  }
 ],
 "metadata": {
  "anaconda-cloud": {},
  "kernelspec": {
   "display_name": "Python [Root]",
   "language": "python",
   "name": "Python [Root]"
  },
  "language_info": {
   "codemirror_mode": {
    "name": "ipython",
    "version": 3
   },
   "file_extension": ".py",
   "mimetype": "text/x-python",
   "name": "python",
   "nbconvert_exporter": "python",
   "pygments_lexer": "ipython3",
   "version": "3.5.2"
  }
 },
 "nbformat": 4,
 "nbformat_minor": 0
}

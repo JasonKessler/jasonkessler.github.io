{
 "cells": [
  {
   "cell_type": "code",
   "execution_count": 1,
   "metadata": {
    "collapsed": false
   },
   "outputs": [
    {
     "name": "stderr",
     "output_type": "stream",
     "text": [
      "/Users/kesslej/anaconda3/lib/python3.5/site-packages/sklearn/cross_validation.py:44: DeprecationWarning: This module was deprecated in version 0.18 in favor of the model_selection module into which all the refactored classes and functions are moved. Also note that the interface of the new CV iterators are different from that of this module. This module will be removed in 0.20.\n",
      "  \"This module will be removed in 0.20.\", DeprecationWarning)\n"
     ]
    },
    {
     "data": {
      "text/html": [
       "<style>.container { width:98% !important; }</style>"
      ],
      "text/plain": [
       "<IPython.core.display.HTML object>"
      ]
     },
     "metadata": {},
     "output_type": "display_data"
    }
   ],
   "source": [
    "import scattertext as st\n",
    "import re\n",
    "from pprint import pprint\n",
    "import numpy as np\n",
    "import pandas as pd\n",
    "import spacy.en\n",
    "from IPython.display import IFrame\n",
    "from IPython.core.display import display, HTML\n",
    "display(HTML(\"<style>.container { width:98% !important; }</style>\"))"
   ]
  },
  {
   "cell_type": "code",
   "execution_count": 2,
   "metadata": {
    "collapsed": true
   },
   "outputs": [],
   "source": [
    "nlp = spacy.en.English()"
   ]
  },
  {
   "cell_type": "code",
   "execution_count": 13,
   "metadata": {
    "collapsed": false
   },
   "outputs": [
    {
     "data": {
      "text/html": [
       "\n",
       "        <iframe\n",
       "            width=\"90%\"\n",
       "            height=\"1000\"\n",
       "            src=\"trump_vs_obama_inaugural.html\"\n",
       "            frameborder=\"0\"\n",
       "            allowfullscreen\n",
       "        ></iframe>\n",
       "        "
      ],
      "text/plain": [
       "<IPython.lib.display.IFrame at 0x1052aa9b0>"
      ]
     },
     "execution_count": 13,
     "metadata": {},
     "output_type": "execute_result"
    }
   ],
   "source": [
    "data = [{'President': 'Trump', 'Year':'2017', 'Address':open('trump_inaugural.txt').read()},\n",
    "        {'President': 'Obama', 'Year':'2013', 'Address':open('obama_second_inaugural.txt').read()},\n",
    "        {'President': 'Obama', 'Year':'2009', 'Address':open('obama_first_inaugural.txt').read()}]\n",
    "df = pd.DataFrame(data)\n",
    "df['Address'] = df['Address'].apply(lambda x: x.replace('(Applause.)',''))\n",
    "corpus = st.CorpusFromPandas(df, category_col='President', text_col='Address', nlp=nlp).build().get_stoplisted_unigram_corpus()\n",
    "html = st.produce_scattertext_explorer(corpus, \n",
    "                                       category='Obama', \n",
    "                                       category_name='Pres. Obama', \n",
    "                                       not_category_name='Pres. Trump',\n",
    "                                       pmi_filter_thresold=3,\n",
    "                                       minimum_term_frequency=2,\n",
    "                                       metadata=df['President'] + ' ' + df['Year'],\n",
    "                                       scores=None,\n",
    "                                       width_in_pixels=1000,\n",
    "                                       grey_zero_scores=False,\n",
    "                                       singleScoreMode=False,\n",
    "                                       sort_by_dist=True)\n",
    "file_name ='trump_vs_obama_inaugural.html'\n",
    "open(file_name, 'wb').write(html.encode('utf-8'))\n",
    "IFrame(src=file_name, width = '90%', height=1000)\n"
   ]
  },
  {
   "cell_type": "code",
   "execution_count": 10,
   "metadata": {
    "collapsed": false
   },
   "outputs": [
    {
     "data": {
      "text/html": [
       "\n",
       "        <iframe\n",
       "            width=\"90%\"\n",
       "            height=\"1000\"\n",
       "            src=\"trump_rnc_vs_inaugural.html\"\n",
       "            frameborder=\"0\"\n",
       "            allowfullscreen\n",
       "        ></iframe>\n",
       "        "
      ],
      "text/plain": [
       "<IPython.lib.display.IFrame at 0x105309048>"
      ]
     },
     "execution_count": 10,
     "metadata": {},
     "output_type": "execute_result"
    }
   ],
   "source": [
    "data = [{'Speech': 'Trump Inaugural', 'Address':open('trump_inaugural.txt').read()},\n",
    "        {'Speech': 'Trump RNC', 'Address':open('trump_rnc.txt').read()}]\n",
    "df = pd.DataFrame(data)\n",
    "df['Address'] = df['Address'].apply(lambda x: x.replace('(Applause.)',''))\n",
    "corpus = st.CorpusFromPandas(df, category_col='Speech', text_col='Address', nlp=nlp).build().get_stoplisted_unigram_corpus()\n",
    "html = st.produce_scattertext_explorer(corpus, \n",
    "                                       category='Trump RNC', \n",
    "                                       category_name='Trump RNC', \n",
    "                                       not_category_name='Trump Inaugural',\n",
    "                                       pmi_filter_thresold=3,\n",
    "                                       minimum_term_frequency=2,\n",
    "                                       metadata=df['Speech'],\n",
    "                                       scores=None,\n",
    "                                       width_in_pixels=1000,\n",
    "                                       grey_zero_scores=False,\n",
    "                                       singleScoreMode=False,\n",
    "                                       sort_by_dist=True)\n",
    "file_name ='trump_rnc_vs_inaugural.html'\n",
    "open(file_name, 'wb').write(html.encode('utf-8'))\n",
    "IFrame(src=file_name, width = '90%', height=1000)\n"
   ]
  },
  {
   "cell_type": "code",
   "execution_count": null,
   "metadata": {
    "collapsed": true
   },
   "outputs": [],
   "source": []
  }
 ],
 "metadata": {
  "kernelspec": {
   "display_name": "Python [Root]",
   "language": "python",
   "name": "Python [Root]"
  },
  "language_info": {
   "codemirror_mode": {
    "name": "ipython",
    "version": 3
   },
   "file_extension": ".py",
   "mimetype": "text/x-python",
   "name": "python",
   "nbconvert_exporter": "python",
   "pygments_lexer": "ipython3",
   "version": "3.5.2"
  }
 },
 "nbformat": 4,
 "nbformat_minor": 0
}

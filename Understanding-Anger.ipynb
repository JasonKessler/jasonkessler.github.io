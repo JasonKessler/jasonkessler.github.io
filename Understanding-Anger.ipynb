{
 "cells": [
  {
   "cell_type": "code",
   "execution_count": 121,
   "metadata": {},
   "outputs": [
    {
     "data": {
      "text/html": [
       "<style>.container { width:98% !important; }</style>"
      ],
      "text/plain": [
       "<IPython.core.display.HTML object>"
      ]
     },
     "metadata": {},
     "output_type": "display_data"
    }
   ],
   "source": [
    "%matplotlib inline\n",
    "import twitter, tweepy\n",
    "import scattertext as st\n",
    "import re, io, itertools\n",
    "from pprint import pprint\n",
    "import pandas as pd\n",
    "import numpy as np\n",
    "import spacy.en\n",
    "import os, pkgutil, json, urllib, datetime, time, itertools\n",
    "from urllib.request import urlopen\n",
    "from IPython.display import IFrame\n",
    "from IPython.core.display import display, HTML\n",
    "import warnings\n",
    "warnings.filterwarnings(\"ignore\", category=DeprecationWarning) \n",
    "display(HTML(\"<style>.container { width:98% !important; }</style>\"))"
   ]
  },
  {
   "cell_type": "code",
   "execution_count": 122,
   "metadata": {
    "collapsed": true
   },
   "outputs": [],
   "source": [
    "secret_key, consumer_key = os.environ['TWITTER_SECRET_KEY'], os.environ['TWITTER_CONSUMER_KEY']\n",
    "access_token, token_secret = os.environ['TWITTER_ACCESS_TOKEN'], os.environ['TWITTER_TOKEN_SECRET']"
   ]
  },
  {
   "cell_type": "code",
   "execution_count": 123,
   "metadata": {
    "collapsed": true
   },
   "outputs": [],
   "source": [
    "api = twitter.Api(consumer_key=consumer_key,\n",
    "                  consumer_secret=secret_key,\n",
    "                  access_token_key=access_token,\n",
    "                  access_token_secret=token_secret)"
   ]
  },
  {
   "cell_type": "code",
   "execution_count": 124,
   "metadata": {
    "collapsed": true
   },
   "outputs": [],
   "source": [
    "auth = tweepy.OAuthHandler(consumer_key, secret_key)\n",
    "auth.set_access_token(access_token, token_secret)\n",
    "api = tweepy.API(auth)"
   ]
  },
  {
   "cell_type": "code",
   "execution_count": 127,
   "metadata": {
    "collapsed": true
   },
   "outputs": [],
   "source": [
    "def pull_statuses(screen_name, verbose=False, last_id = None):\n",
    "    pages = []\n",
    "    for page in tweepy.Cursor(api.user_timeline, screen_name=screen_name).pages():\n",
    "        if verbose: print(len(page))\n",
    "        pages.append(page)\n",
    "    return pages"
   ]
  },
  {
   "cell_type": "code",
   "execution_count": 128,
   "metadata": {
    "collapsed": true
   },
   "outputs": [],
   "source": [
    "pages = pull_statuses('themaddimension')"
   ]
  },
  {
   "cell_type": "code",
   "execution_count": null,
   "metadata": {
    "collapsed": true,
    "scrolled": false
   },
   "outputs": [],
   "source": [
    "status_df = pd.concat([pd.DataFrame([x._json for x in page]) for page in pages])\n",
    "status_df['created_at'] = pd.to_datetime(status_df['created_at'])"
   ]
  },
  {
   "cell_type": "code",
   "execution_count": 98,
   "metadata": {
    "collapsed": true
   },
   "outputs": [],
   "source": [
    "status_df['time_segment'] = status_df.created_at.apply(lambda x: 'Before 2016' if x < datetime.datetime(2015, 10, 1) else '2016 and later')"
   ]
  },
  {
   "cell_type": "code",
   "execution_count": 99,
   "metadata": {
    "collapsed": true
   },
   "outputs": [],
   "source": [
    "nlp = spacy.en.English()\n",
    "status_df['parse'] = status_df['text'].apply(nlp)"
   ]
  },
  {
   "cell_type": "code",
   "execution_count": 100,
   "metadata": {
    "collapsed": true
   },
   "outputs": [],
   "source": [
    "corpus = st.CorpusFromParsedDocuments(status_df, \n",
    "                                      category_col='time_segment', \n",
    "                                      parsed_col='parse').build()"
   ]
  },
  {
   "cell_type": "code",
   "execution_count": 104,
   "metadata": {
    "collapsed": true
   },
   "outputs": [],
   "source": [
    "corpus = corpus.remove_terms([t for t in corpus.get_term_freq_df().index if '@' in t])"
   ]
  },
  {
   "cell_type": "markdown",
   "metadata": {},
   "source": [
    "## Let's look at how language in his tweets differed between the end of 2016 and after 2016, when we started the Wes Bellamy recall drive\n",
    "* Before 2016 tweeted a lot about Baseball, Gamergate, the science fair clock/bomb mix-up, atheism, and pro-Netanyahu issues\n",
    "* He expressed very strong opinions, but nothing too radical"
   ]
  },
  {
   "cell_type": "code",
   "execution_count": 108,
   "metadata": {},
   "outputs": [
    {
     "data": {
      "text/html": [
       "\n",
       "        <iframe\n",
       "            width=\"1300\"\n",
       "            height=\"700\"\n",
       "            src=\"other_jk.html\"\n",
       "            frameborder=\"0\"\n",
       "            allowfullscreen\n",
       "        ></iframe>\n",
       "        "
      ],
      "text/plain": [
       "<IPython.lib.display.IFrame at 0x1219b68d0>"
      ]
     },
     "execution_count": 108,
     "metadata": {},
     "output_type": "execute_result"
    }
   ],
   "source": [
    "html = st.produce_scattertext_explorer(corpus,\n",
    "                                       category='Before 2016',\n",
    "                                       category_name='Before 2016',\n",
    "                                       not_category_name='2016 and later',\n",
    "                                       use_full_doc=True,\n",
    "                                       minimum_term_frequency=5,\n",
    "                                       pmi_filter_thresold=6,\n",
    "                                       #minimum_not_category_term_frequency=10,\n",
    "                                       width_in_pixels=1000,\n",
    "                                       metadata=status_df['created_at'].astype(str),\n",
    "                                       sort_by_dist=False)\n",
    "file_name = 'other_jk.html'\n",
    "open(file_name, 'wb').write(html.encode('utf-8'))\n",
    "IFrame(src=file_name, width = 1300, height=700)"
   ]
  },
  {
   "cell_type": "markdown",
   "metadata": {},
   "source": [
    "## Before and after last Orioles Tweet and start of 2016\n",
    "### It seems he stopped tweeted about baseball and moved on to other issues.  Let's examine what those issues were, and what he was talking about pre-radicalization.\n",
    "* In the baseball-era, he talked about Baseball (Orioles, Royals, Baltimore, etc...), as well as on animal rights\n",
    "* After he stopped tweeting about baseball (Oct 12, 2014 was his last Orioles tweet), he began tweeting about standard alt-right topics along with topics about his writing\n",
    "* \"Women\" tends to be used in tweets critical fo the pay gap\n",
    "* Issues around rape reporting, Gamergate\n",
    "* He also begins talking about race.  The term \"white\" was only used in his post-baseball period, and occurs frequently and in racially charged contexts"
   ]
  },
  {
   "cell_type": "code",
   "execution_count": 120,
   "metadata": {
    "scrolled": false
   },
   "outputs": [
    {
     "data": {
      "text/html": [
       "\n",
       "        <iframe\n",
       "            width=\"1300\"\n",
       "            height=\"700\"\n",
       "            src=\"other_jk_pre_rad.html\"\n",
       "            frameborder=\"0\"\n",
       "            allowfullscreen\n",
       "        ></iframe>\n",
       "        "
      ],
      "text/plain": [
       "<IPython.lib.display.IFrame at 0x121ee1b70>"
      ]
     },
     "execution_count": 120,
     "metadata": {},
     "output_type": "execute_result"
    }
   ],
   "source": [
    "status_df['era'] = status_df.created_at.apply(lambda x: 'Orioles Era' if x < datetime.datetime(2014, 10, 12) \n",
    "                                                  else ('Emerging Radical' if x < datetime.datetime(2016, 1, 1) else 'Radical'))\n",
    "pre_rad_status_df = status_df[status_df['era'].isin(['Orioles Era', 'Emerging Radical'])]\n",
    "corpus = (st.CorpusFromParsedDocuments(pre_rad_status_df, \n",
    "                                       category_col='era', \n",
    "                                       parsed_col='parse')\n",
    "          .build().get_stoplisted_unigram_corpus())\n",
    "corpus = corpus.remove_terms([t for t in corpus.get_term_freq_df().index if '@' in t])\n",
    "html = st.produce_scattertext_explorer(corpus,\n",
    "                                       category='Orioles Era',\n",
    "                                       category_name='Orioles Era',\n",
    "                                       not_category_name='Emerging Radical',\n",
    "                                       use_full_doc=True,\n",
    "                                       minimum_term_frequency=2,\n",
    "                                       pmi_filter_thresold=6,\n",
    "                                       minimum_not_category_term_frequency=10,\n",
    "                                       width_in_pixels=1000,\n",
    "                                       metadata=pre_rad_status_df['created_at'].astype(str))\n",
    "file_name = 'other_jk_pre_rad.html'\n",
    "open(file_name, 'wb').write(html.encode('utf-8'))\n",
    "IFrame(src=file_name, width = 1300, height=700)"
   ]
  },
  {
   "cell_type": "code",
   "execution_count": null,
   "metadata": {
    "collapsed": true
   },
   "outputs": [],
   "source": []
  }
 ],
 "metadata": {
  "anaconda-cloud": {},
  "kernelspec": {
   "display_name": "Python [Root]",
   "language": "python",
   "name": "Python [Root]"
  },
  "language_info": {
   "codemirror_mode": {
    "name": "ipython",
    "version": 3
   },
   "file_extension": ".py",
   "mimetype": "text/x-python",
   "name": "python",
   "nbconvert_exporter": "python",
   "pygments_lexer": "ipython3",
   "version": "3.5.2"
  }
 },
 "nbformat": 4,
 "nbformat_minor": 2
}

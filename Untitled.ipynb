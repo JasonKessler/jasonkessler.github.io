{
 "cells": [
  {
   "cell_type": "code",
   "execution_count": 1,
   "metadata": {
    "collapsed": true
   },
   "outputs": [],
   "source": [
    "import spacy\n",
    "\n",
    "from scattertext import SampleCorpora\n",
    "from scattertext import produce_scattertext_explorer\n",
    "from scattertext.CorpusFromPandas import CorpusFromPandas"
   ]
  },
  {
   "cell_type": "code",
   "execution_count": 2,
   "metadata": {
    "collapsed": true
   },
   "outputs": [],
   "source": [
    "nlp = spacy.en.English()\n",
    "convention_df = SampleCorpora.ConventionData2012.get_data()"
   ]
  },
  {
   "cell_type": "code",
   "execution_count": 5,
   "metadata": {
    "collapsed": false
   },
   "outputs": [],
   "source": [
    "convention_df['doctype'] = 'speech'"
   ]
  },
  {
   "cell_type": "code",
   "execution_count": 6,
   "metadata": {
    "collapsed": true
   },
   "outputs": [],
   "source": [
    "corpus = CorpusFromPandas(convention_df,\n",
    "                          category_col='doctype',\n",
    "                          text_col='text',\n",
    "                          nlp=nlp).build()"
   ]
  },
  {
   "cell_type": "code",
   "execution_count": 99,
   "metadata": {
    "collapsed": false
   },
   "outputs": [],
   "source": [
    "term_freq_df = corpus.get_stoplisted_unigram_corpus().get_term_freq_df()\n",
    "corpus_vec = (np.array([nlp(row.name).vector * sum(row.values) \n",
    "                        for _, row in term_freq_df.iterrows()])\n",
    "              .sum(axis=0))/term_freq_df.sum().sum()"
   ]
  },
  {
   "cell_type": "code",
   "execution_count": 180,
   "metadata": {
    "collapsed": false
   },
   "outputs": [],
   "source": [
    "bg_term_freq_df = corpus._get_corpus_joined_to_background()\n",
    "bg_term_freq_df = bg_term_freq_df[bg_term_freq_df['corpus'] > 0]\n",
    "for col in ['corpus','background']:\n",
    "    bg_term_freq_df[col+'-rank'] = (-1*bg_term_freq_df[col]).rank(method='min')\n",
    "bg_term_freq_df['diff'] = bg_term_freq_df['corpus-rank'] - bg_term_freq_df['background-rank']"
   ]
  },
  {
   "cell_type": "code",
   "execution_count": 182,
   "metadata": {
    "collapsed": false
   },
   "outputs": [],
   "source": [
    "#bg_term_freq_df.sort_values(by='diff')"
   ]
  },
  {
   "cell_type": "code",
   "execution_count": 139,
   "metadata": {
    "collapsed": false
   },
   "outputs": [],
   "source": [
    "#bg_term_freq_df.sort_values(by='corpus',ascending=False)\n",
    "bg_term_freq_df['corpus-rank']=(-1*bg_term_freq_df['corpus']).argsort()"
   ]
  },
  {
   "cell_type": "code",
   "execution_count": 183,
   "metadata": {
    "collapsed": false
   },
   "outputs": [
    {
     "data": {
      "text/plain": [
       "{'able',\n",
       " 'actually',\n",
       " 'already',\n",
       " 'always',\n",
       " 'anything',\n",
       " 'because',\n",
       " 'believe',\n",
       " 'better',\n",
       " 'but',\n",
       " 'could',\n",
       " 'did',\n",
       " 'enough',\n",
       " 'even',\n",
       " 'ever',\n",
       " 'everyone',\n",
       " 'far',\n",
       " 'get',\n",
       " 'give',\n",
       " 'going',\n",
       " 'he',\n",
       " 'how',\n",
       " 'if',\n",
       " 'it',\n",
       " 'just',\n",
       " 'keep',\n",
       " 'kind',\n",
       " 'know',\n",
       " 'knowing',\n",
       " 'let',\n",
       " 'make',\n",
       " 'might',\n",
       " 'much',\n",
       " 'need',\n",
       " 'never',\n",
       " 'not',\n",
       " 'nothing',\n",
       " 'one',\n",
       " 'only',\n",
       " 'people',\n",
       " 'perhaps',\n",
       " 'put',\n",
       " 'rather',\n",
       " 'really',\n",
       " 'reason',\n",
       " 'same',\n",
       " 'say',\n",
       " 'should',\n",
       " 'so',\n",
       " 'some',\n",
       " 'something',\n",
       " 'still',\n",
       " 'sure',\n",
       " 'take',\n",
       " 'that',\n",
       " 'them',\n",
       " 'there',\n",
       " 'they',\n",
       " 'thing',\n",
       " 'things',\n",
       " 'think',\n",
       " 'those',\n",
       " 'though',\n",
       " 'thought',\n",
       " 'too',\n",
       " 'trying',\n",
       " 'want',\n",
       " 'wanted',\n",
       " 'way',\n",
       " 'we',\n",
       " 'well',\n",
       " 'what',\n",
       " 'when',\n",
       " 'where',\n",
       " 'why',\n",
       " 'you'}"
      ]
     },
     "execution_count": 183,
     "metadata": {},
     "output_type": "execute_result"
    }
   ],
   "source": [
    "[x[1].lower_, i for x in enumerate(sorted(spacy_vocab))]"
   ]
  },
  {
   "cell_type": "code",
   "execution_count": 109,
   "metadata": {
    "collapsed": false
   },
   "outputs": [
    {
     "data": {
      "text/plain": [
       "(300,)"
      ]
     },
     "execution_count": 109,
     "metadata": {},
     "output_type": "execute_result"
    }
   ],
   "source": [
    "(nlp('hi').vector * 2).shape"
   ]
  },
  {
   "cell_type": "code",
   "execution_count": null,
   "metadata": {
    "collapsed": true
   },
   "outputs": [],
   "source": []
  }
 ],
 "metadata": {
  "kernelspec": {
   "display_name": "Python [Root]",
   "language": "python",
   "name": "Python [Root]"
  },
  "language_info": {
   "codemirror_mode": {
    "name": "ipython",
    "version": 3
   },
   "file_extension": ".py",
   "mimetype": "text/x-python",
   "name": "python",
   "nbconvert_exporter": "python",
   "pygments_lexer": "ipython3",
   "version": "3.5.2"
  }
 },
 "nbformat": 4,
 "nbformat_minor": 0
}

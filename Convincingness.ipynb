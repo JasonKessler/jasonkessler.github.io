{
 "cells": [
  {
   "cell_type": "code",
   "execution_count": 1,
   "metadata": {
    "collapsed": false
   },
   "outputs": [
    {
     "name": "stderr",
     "output_type": "stream",
     "text": [
      "/Users/kesslej/anaconda3/lib/python3.5/site-packages/sklearn/cross_validation.py:44: DeprecationWarning: This module was deprecated in version 0.18 in favor of the model_selection module into which all the refactored classes and functions are moved. Also note that the interface of the new CV iterators are different from that of this module. This module will be removed in 0.20.\n",
      "  \"This module will be removed in 0.20.\", DeprecationWarning)\n"
     ]
    },
    {
     "data": {
      "text/html": [
       "<style>.container { width:98% !important; }</style>"
      ],
      "text/plain": [
       "<IPython.core.display.HTML object>"
      ]
     },
     "metadata": {},
     "output_type": "display_data"
    }
   ],
   "source": [
    "import scattertext as st\n",
    "import re, io\n",
    "from pprint import pprint\n",
    "import pandas as pd\n",
    "import numpy as np\n",
    "import spacy.en\n",
    "from urllib.request import urlopen\n",
    "from IPython.display import IFrame\n",
    "from IPython.core.display import display, HTML\n",
    "display(HTML(\"<style>.container { width:98% !important; }</style>\"))"
   ]
  },
  {
   "cell_type": "code",
   "execution_count": 2,
   "metadata": {
    "collapsed": false
   },
   "outputs": [],
   "source": [
    "nlp = spacy.en.English()"
   ]
  },
  {
   "cell_type": "markdown",
   "metadata": {},
   "source": [
    "Data is from:\n",
    "\n",
    "Habernal, Ivan, and Iryna Gurevych. \"Which argument is more convincing? Analyzing and predicting convincingness of Web arguments using bidirectional LSTM.\" Proceedings of the 54th Annual Meeting of the Association for Computational Linguistics (ACL). 2016.\n",
    "(https://github.com/UKPLab/acl2016-convincing-arguments/)"
   ]
  },
  {
   "cell_type": "code",
   "execution_count": 3,
   "metadata": {
    "collapsed": false
   },
   "outputs": [],
   "source": [
    "file_names = ['ban-plastic-water-bottles_no-bad-for-the-economy.csv', 'ban-plastic-water-bottles_yes-emergencies-only.csv', 'christianity-or-atheism-_atheism.csv', 'christianity-or-atheism-_christianity.csv', 'evolution-vs-creation_creation.csv', 'evolution-vs-creation_evolution.csv', 'firefox-vs-internet-explorer_it-has-a-cute-logo-oh-and-extensions-err-add-ons.csv', 'firefox-vs-internet-explorer_there-s-more-browsers-than-the-ie-firefox-is-an-animal.csv', 'gay-marriage-right-or-wrong_allowing-gay-marriage-is-right.csv', 'gay-marriage-right-or-wrong_allowing-gay-marriage-is-wrong.csv', 'human-growth-and-development-should-parents-use-spanking-as-an-option-to-discipline-_no.csv', 'human-growth-and-development-should-parents-use-spanking-as-an-option-to-discipline-_yes.csv', 'if-your-spouse-committed-murder-and-he-or-she-confided-in-you-would-you-turn-them-in-_no.csv', 'if-your-spouse-committed-murder-and-he-or-she-confided-in-you-would-you-turn-them-in-_yes.csv', 'india-has-the-potential-to-lead-the-world-_no-against.csv', 'india-has-the-potential-to-lead-the-world-_yes-for.csv', 'is-it-better-to-have-a-lousy-father-or-to-be-fatherless-_fatherless.csv', 'is-it-better-to-have-a-lousy-father-or-to-be-fatherless-_lousy-father.csv', 'is-porn-wrong-_no-is-is-not.csv', 'is-porn-wrong-_yes-porn-is-wrong.csv', 'is-the-school-uniform-a-good-or-bad-idea-_bad.csv', 'is-the-school-uniform-a-good-or-bad-idea-_good.csv', 'personal-pursuit-or-advancing-the-common-good-_advancing-the-common-good.csv', 'personal-pursuit-or-advancing-the-common-good-_personal-pursuit.csv', 'pro-choice-vs-pro-life_pro-choice.csv', 'pro-choice-vs-pro-life_pro-life.csv', 'should-physical-education-be-mandatory-in-schools-_no-.csv', 'should-physical-education-be-mandatory-in-schools-_yes-.csv', 'tv-is-better-than-books_books.csv', 'tv-is-better-than-books_tv.csv', 'william-farquhar-ought-to-be-honoured-as-the-rightful-founder-of-singapore_no-it-is-raffles-.csv', 'william-farquhar-ought-to-be-honoured-as-the-rightful-founder-of-singapore_yes-of-course-.csv']\n",
    "url_base = 'https://raw.githubusercontent.com/UKPLab/acl2016-convincing-arguments/master/data/UKPConvArg1-Ranking-CSV/'\n",
    "\n",
    "dfs = []\n",
    "for fn in file_names:\n",
    "    df = pd.read_csv(io.BytesIO(urlopen(url_base + fn).read()), sep='\\t')\n",
    "    argument, stance = fn.split('_')\n",
    "    df['topic'] = argument.replace('-', ' ').strip()\n",
    "    df['stance'] = stance.replace('-', ' ').replace('.csv', '').strip()\n",
    "    dfs.append(df)\n",
    "df = pd.concat(dfs, ignore_index=True).sort_values(by='rank')\n",
    "df = df.ix[df['argument'].drop_duplicates().index] # dropping duplicate arguments\n",
    "df['metadata'] = df.index.astype(str) + ': ' + df['topic'] + ': ' + df['stance'] + ' ('+df['rank'].astype(str)+')'"
   ]
  },
  {
   "cell_type": "code",
   "execution_count": 4,
   "metadata": {
    "collapsed": false
   },
   "outputs": [],
   "source": [
    "df['norm-rank'] = np.nan\n",
    "for _, gdf in df.groupby(['topic', 'stance']):\n",
    "    df['norm-rank'].ix[gdf.index] = gdf['rank'].rank()/len(gdf)"
   ]
  },
  {
   "cell_type": "markdown",
   "metadata": {},
   "source": [
    "# Three of the best (lowest ranking) arguments"
   ]
  },
  {
   "cell_type": "code",
   "execution_count": 5,
   "metadata": {
    "collapsed": false
   },
   "outputs": [
    {
     "name": "stdout",
     "output_type": "stream",
     "text": [
      "Score: 0.0042899999999999995\n",
      "Topic: is the school uniform a good or bad idea\n",
      "Stance: bad\n",
      "Argument:\n",
      "\tThe school my mother works at, plus the school district my cousin's 3 children are in, are utilizing school uniforms. One reason is to \"reduce bullying\", which in reality, doesn't even address the problem concerning bullying. The only good it does is that it gets rid of or reduces students being bullied because they aren't wearing a specific clothing label that they dictate is the IN thing to wear. While it's a problem, all it does is sweep the one basic type of bullying under the rug. Kids will find other reasons to bully others. It also infringes upon their basic rights to be individuals and to express their individuality.\n",
      "\n",
      "Score: 0.0042899999999999995\n",
      "Topic: is the school uniform a good or bad idea\n",
      "Stance: good\n",
      "Argument:\n",
      "\tAccording to the legacy educational resources, as fashion and trends change, students become more concerned with how they look and how they are perceived than they do with their academic success and achievement. The fashion of low rise jeans, bagging jeans, large trench coats, low cut shirts, and many others contribute to behavior problems and safety issues in the classrooms and in the hallways of schools today.\n",
      "\n",
      "Score: 0.0042899999999999995\n",
      "Topic: tv is better than books\n",
      "Stance: tv\n",
      "Argument:\n",
      "\tI think T.V. is more helpful as the you can watch and listen to something being explained like if we read about budding or spore formation we have to create an image about that in mind, but when we watch the animation of budding then we could understand better. Some people can't even imagine so T.V. is helpful. As concerning the time limit or harm to our eyes, we should watch T.V. in a limit, because the excess of everything is harmful, even reading of books. <br/> Surveys have found that a normal person can remember 10% of what he had read and 50% of what he had listened and watched.\n",
      "\n"
     ]
    }
   ],
   "source": [
    "for _, row in df.iloc[:3].iterrows():\n",
    "    print('Score:',row['rank'])\n",
    "    print('Topic:',row['topic'])\n",
    "    print('Stance:',row['stance'])\n",
    "    print('Argument:')\n",
    "    print('\\t'+row['argument'])\n",
    "    print()"
   ]
  },
  {
   "cell_type": "markdown",
   "metadata": {},
   "source": [
    "# Three of the worst (highest ranking) arguments"
   ]
  },
  {
   "cell_type": "code",
   "execution_count": 6,
   "metadata": {
    "collapsed": false
   },
   "outputs": [
    {
     "name": "stdout",
     "output_type": "stream",
     "text": [
      "Score: 0.33148\n",
      "Topic: gay marriage right or wrong\n",
      "Stance: allowing gay marriage is right\n",
      "Argument:\n",
      "\tone reason is just because so many more people agree with this side now\n",
      "\n",
      "Score: 0.33296\n",
      "Topic: tv is better than books\n",
      "Stance: books\n",
      "Argument:\n",
      "\tIf those who have actually read a book, then there is really no debate.\n",
      "\n",
      "Score: 0.35163\n",
      "Topic: if your spouse committed murder and he or she confided in you would you turn them in\n",
      "Stance: no\n",
      "Argument:\n",
      "\tAll I want to say to the spouses of the people on this side of the debate, \"Don't confide in your spouse and tell them that you killed somebody; they'll turn you in! And if they find out on their own, take them out before they turn you in!\" ;)\n",
      "\n"
     ]
    }
   ],
   "source": [
    "for _, row in df.iloc[-3:].iterrows():\n",
    "    print('Score:',row['rank'])\n",
    "    print('Topic:',row['topic'])\n",
    "    print('Stance:',row['stance'])\n",
    "    print('Argument:')\n",
    "    \n",
    "    print('\\t'+row['argument'])\n",
    "    print()"
   ]
  },
  {
   "cell_type": "markdown",
   "metadata": {},
   "source": [
    "# Scattertext helper functions"
   ]
  },
  {
   "cell_type": "code",
   "execution_count": 7,
   "metadata": {
    "collapsed": true
   },
   "outputs": [],
   "source": [
    "def draw_corpus(df, corpus, category, other_category, category_col, extra='', scores=None, singleScoreMode=False, minimum_term_frequency=2):\n",
    "    html = st.produce_scattertext_explorer(corpus, \n",
    "                                           category=category, \n",
    "                                           category_name=category.lower() +' Term', \n",
    "                                           not_category_name=other_category.lower() + ' Term',\n",
    "                                           pmi_filter_thresold=2,\n",
    "                                           minimum_term_frequency=minimum_term_frequency,\n",
    "                                           metadata=df['metadata'],\n",
    "                                           scores=scores,\n",
    "                                           width_in_pixels=1000,\n",
    "                                           singleScoreMode=singleScoreMode,\n",
    "                                           use_full_doc = True)\n",
    "    file_name = category.lower() + '-' + other_category.lower() + extra + '.html'\n",
    "    open(file_name, 'wb').write(html.encode('utf-8'))\n",
    "    return IFrame(src=file_name, width = 1200, height=1000)\n",
    "\n",
    "def draw_plot(df, category, other_category, category_col, extra=''):\n",
    "    # Scattertext can only do a one column vs. all analysis.  We're excluding any other speakrs\n",
    "    category_vs_other_df = df[(df[category_col] == category) | (df[category_col] == other_category)]\n",
    "    corpus = st.CorpusFromPandas(category_vs_other_df, \n",
    "                                 category_col = category_col, \n",
    "                                 text_col = 'argument',\n",
    "                                 nlp = nlp).build()\n",
    "    return draw_corpus(category_vs_other_df, corpus, category, other_category, category_col, extra=extra)"
   ]
  },
  {
   "cell_type": "markdown",
   "metadata": {},
   "source": [
    "## Let's see how the best third and worst third of arguments differ, and put this in the is_persusasive field"
   ]
  },
  {
   "cell_type": "code",
   "execution_count": 8,
   "metadata": {
    "collapsed": false,
    "scrolled": false
   },
   "outputs": [
    {
     "name": "stdout",
     "output_type": "stream",
     "text": [
      "Argument count 1038\n",
      "Extremely good or bad count 692\n"
     ]
    }
   ],
   "source": [
    "print('Argument count', len(df))\n",
    "lower_bound, upper_bound = np.array(df['rank'].quantile([1./3,2./3]))\n",
    "extreme_df = df[np.logical_or(df['rank'] <= lower_bound, df['rank'] >= upper_bound)]\n",
    "extreme_df['strength'] = (extreme_df['rank'] <= lower_bound).apply(lambda x: 'strong' if x else 'weak')\n",
    "extreme_df = extreme_df.reset_index()\n",
    "print('Extremely good or bad count', len(extreme_df))"
   ]
  },
  {
   "cell_type": "code",
   "execution_count": null,
   "metadata": {
    "collapsed": false
   },
   "outputs": [],
   "source": []
  },
  {
   "cell_type": "code",
   "execution_count": 9,
   "metadata": {
    "collapsed": false,
    "scrolled": false
   },
   "outputs": [
    {
     "data": {
      "text/html": [
       "\n",
       "        <iframe\n",
       "            width=\"1200\"\n",
       "            height=\"1000\"\n",
       "            src=\"strong-weak.html\"\n",
       "            frameborder=\"0\"\n",
       "            allowfullscreen\n",
       "        ></iframe>\n",
       "        "
      ],
      "text/plain": [
       "<IPython.lib.display.IFrame at 0x188e5d128>"
      ]
     },
     "execution_count": 9,
     "metadata": {},
     "output_type": "execute_result"
    }
   ],
   "source": [
    "draw_plot(extreme_df, 'strong', 'weak', 'strength', extra='')"
   ]
  },
  {
   "cell_type": "code",
   "execution_count": null,
   "metadata": {
    "collapsed": true
   },
   "outputs": [],
   "source": []
  }
 ],
 "metadata": {
  "anaconda-cloud": {},
  "kernelspec": {
   "display_name": "Python [Root]",
   "language": "python",
   "name": "Python [Root]"
  },
  "language_info": {
   "codemirror_mode": {
    "name": "ipython",
    "version": 3
   },
   "file_extension": ".py",
   "mimetype": "text/x-python",
   "name": "python",
   "nbconvert_exporter": "python",
   "pygments_lexer": "ipython3",
   "version": "3.5.2"
  }
 },
 "nbformat": 4,
 "nbformat_minor": 0
}

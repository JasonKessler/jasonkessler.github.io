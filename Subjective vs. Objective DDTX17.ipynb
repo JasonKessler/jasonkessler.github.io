{
 "cells": [
  {
   "cell_type": "code",
   "execution_count": 11,
   "metadata": {
    "collapsed": false
   },
   "outputs": [
    {
     "data": {
      "text/html": [
       "<style>.container { width:90% !important; }</style>"
      ],
      "text/plain": [
       "<IPython.core.display.HTML object>"
      ]
     },
     "metadata": {},
     "output_type": "display_data"
    }
   ],
   "source": [
    "import scattertext as st\n",
    "import tarfile, urllib, io\n",
    "import pandas as pd\n",
    "from IPython.display import IFrame\n",
    "from IPython.core.display import display, HTML\n",
    "import spacy\n",
    "display(HTML(\"<style>.container { width:90% !important; }</style>\"))"
   ]
  },
  {
   "cell_type": "code",
   "execution_count": 2,
   "metadata": {
    "collapsed": true
   },
   "outputs": [],
   "source": [
    "'''From Bo Pang's website: https://www.cs.cornell.edu/people/pabo/movie-review-data/\n",
    "\n",
    "Data from:\n",
    "A Sentimental Education: Sentiment Analysis Using Subjectivity Summarization \n",
    "Based on Minimum Cuts'', Proceedings of the ACL, 2004\n",
    "'''\n",
    "SUBJECTIVITY_URL = 'http://www.cs.cornell.edu/people/pabo/movie-review-data/rotten_imdb.tar.gz'\n",
    "data = io.BytesIO(urllib.request.urlopen(SUBJECTIVITY_URL).read())\n",
    "tarball = tarfile.open(fileobj=data, mode = 'r:gz')\n",
    "readme = tarball.extractfile('subjdata.README.1.0').read()\n",
    "quote = tarball.extractfile('quote.tok.gt9.5000').read()\n",
    "plot = tarball.extractfile('plot.tok.gt9.5000').read()"
   ]
  },
  {
   "cell_type": "code",
   "execution_count": 3,
   "metadata": {
    "collapsed": false
   },
   "outputs": [
    {
     "data": {
      "text/plain": [
       "['smart and alert , thirteen conversations about one thing is a small gem . ',\n",
       " 'color , musical bounce and warm seas lapping on island shores . and just enough science to send you home thinking . ',\n",
       " 'it is not a mass-market entertainment but an uncompromising attempt by one artist to think about another . ']"
      ]
     },
     "execution_count": 3,
     "metadata": {},
     "output_type": "execute_result"
    }
   ],
   "source": [
    "# Examples of subjective sentences in corpus\n",
    "quote.decode('utf-8', errors='ignore').split('\\n')[:3]"
   ]
  },
  {
   "cell_type": "code",
   "execution_count": 65,
   "metadata": {
    "collapsed": false
   },
   "outputs": [
    {
     "data": {
      "text/plain": [
       "label                                           subjective\n",
       "text     (smart, and, alert, ,, thirteen, conversations...\n",
       "Name: 0, dtype: object"
      ]
     },
     "execution_count": 65,
     "metadata": {},
     "output_type": "execute_result"
    }
   ],
   "source": [
    "'''Construct subjective vs. objective pandas dataframe, \n",
    "treating review quotes as subjective, and plot points as objective.  \n",
    "Use spaCy to parse documents before putting them into the dataframe.\n",
    "\n",
    "Print out the first line.\n",
    "'''\n",
    "nlp = spacy.en.English()\n",
    "df = pd.DataFrame(\n",
    "    [{'text': nlp(text.strip()), 'label': 'subjective'} \n",
    "     for text \n",
    "     in quote.decode('utf-8', errors='ignore').split('\\n') \n",
    "     if text.strip()] \n",
    "    + [{'text': nlp(text.strip()), 'label': 'objective'} for text \n",
    "       in plot.decode('utf-8', errors='ignore').split('\\n') \n",
    "       if text.strip()]\n",
    ")\n",
    "df.iloc[0]"
   ]
  },
  {
   "cell_type": "code",
   "execution_count": 66,
   "metadata": {
    "collapsed": false
   },
   "outputs": [
    {
     "name": "stdout",
     "output_type": "stream",
     "text": [
      "Number documents: 10000\n",
      "\n",
      "Subjective vs. objective document counts:\n",
      "subjective    5000\n",
      "objective     5000\n",
      "Name: label, dtype: int64\n",
      "\n",
      "Subjective vs. objective word counts:\n"
     ]
    },
    {
     "data": {
      "text/plain": [
       "label\n",
       "objective     130336\n",
       "subjective    121183\n",
       "dtype: int64"
      ]
     },
     "execution_count": 66,
     "metadata": {},
     "output_type": "execute_result"
    }
   ],
   "source": [
    "'''Look at the size of the corpus'''\n",
    "print(\"Number documents:\", len(df))\n",
    "print()\n",
    "print(\"Subjective vs. objective document counts:\")\n",
    "print(df['label'].value_counts())\n",
    "print()\n",
    "print(\"Subjective vs. objective word counts:\")\n",
    "df.groupby('label').apply(lambda subdf: subdf['text'].apply(len).sum())\n",
    "\n"
   ]
  },
  {
   "cell_type": "code",
   "execution_count": 67,
   "metadata": {
    "collapsed": false
   },
   "outputs": [],
   "source": [
    "'''Convert Pandas dataframe to a term-document matrix, indicating\n",
    "the category column is \"label\" and the text column name is \"text\".'''\n",
    "\n",
    "corpus = st.CorpusFromParsedDocuments(df, category_col = 'label', parsed_col = 'text').build()"
   ]
  },
  {
   "cell_type": "code",
   "execution_count": null,
   "metadata": {
    "collapsed": false
   },
   "outputs": [],
   "source": []
  },
  {
   "cell_type": "code",
   "execution_count": 68,
   "metadata": {
    "collapsed": false
   },
   "outputs": [
    {
     "data": {
      "text/html": [
       "\n",
       "        <iframe\n",
       "            width=\"1200\"\n",
       "            height=\"1000\"\n",
       "            src=\"subj_obj_scatter.html\"\n",
       "            frameborder=\"0\"\n",
       "            allowfullscreen\n",
       "        ></iframe>\n",
       "        "
      ],
      "text/plain": [
       "<IPython.lib.display.IFrame at 0x11c692080>"
      ]
     },
     "execution_count": 68,
     "metadata": {},
     "output_type": "execute_result"
    }
   ],
   "source": [
    "'''\n",
    "Filter out bigrams with PMI < 3, and unigrams and bigrams that occur less than 20 times.  \n",
    "The variable html is a string containing the HTML that makes up the scattertext visualization\n",
    "'''\n",
    "html = st.produce_scattertext_explorer(corpus, \n",
    "                                       category='subjective', \n",
    "                                       category_name='Subjective', \n",
    "                                       not_category_name='Objective',\n",
    "                                       protocol='https',\n",
    "                                       pmi_filter_thresold=3,\n",
    "                                       minimum_term_frequency=20,\n",
    "                                       width_in_pixels=1000)\n",
    "\n",
    "# Hack to display HTML with D3 in Jupyter Notebook\n",
    "open('subj_obj_scatter.html', 'wb').write(html.encode('utf-8'))\n",
    "IFrame(src='subj_obj_scatter.html', width = 1200, height=1000)"
   ]
  },
  {
   "cell_type": "code",
   "execution_count": 72,
   "metadata": {
    "collapsed": false
   },
   "outputs": [
    {
     "data": {
      "text/html": [
       "<div>\n",
       "<table border=\"1\" class=\"dataframe\">\n",
       "  <thead>\n",
       "    <tr style=\"text-align: right;\">\n",
       "      <th></th>\n",
       "      <th>objective freq</th>\n",
       "      <th>subjective freq</th>\n",
       "      <th>Subjective Score</th>\n",
       "    </tr>\n",
       "    <tr>\n",
       "      <th>term</th>\n",
       "      <th></th>\n",
       "      <th></th>\n",
       "      <th></th>\n",
       "    </tr>\n",
       "  </thead>\n",
       "  <tbody>\n",
       "    <tr>\n",
       "      <th>movie that</th>\n",
       "      <td>0</td>\n",
       "      <td>73</td>\n",
       "      <td>0.802352</td>\n",
       "    </tr>\n",
       "    <tr>\n",
       "      <th>it does</th>\n",
       "      <td>0</td>\n",
       "      <td>51</td>\n",
       "      <td>0.779370</td>\n",
       "    </tr>\n",
       "    <tr>\n",
       "      <th>entertaining</th>\n",
       "      <td>2</td>\n",
       "      <td>73</td>\n",
       "      <td>0.771975</td>\n",
       "    </tr>\n",
       "    <tr>\n",
       "      <th>film 's</th>\n",
       "      <td>2</td>\n",
       "      <td>69</td>\n",
       "      <td>0.767833</td>\n",
       "    </tr>\n",
       "    <tr>\n",
       "      <th>but it</th>\n",
       "      <td>6</td>\n",
       "      <td>156</td>\n",
       "      <td>0.767110</td>\n",
       "    </tr>\n",
       "    <tr>\n",
       "      <th>i</th>\n",
       "      <td>13</td>\n",
       "      <td>273</td>\n",
       "      <td>0.756298</td>\n",
       "    </tr>\n",
       "    <tr>\n",
       "      <th>interesting</th>\n",
       "      <td>3</td>\n",
       "      <td>70</td>\n",
       "      <td>0.752625</td>\n",
       "    </tr>\n",
       "    <tr>\n",
       "      <th>film that</th>\n",
       "      <td>4</td>\n",
       "      <td>77</td>\n",
       "      <td>0.745429</td>\n",
       "    </tr>\n",
       "    <tr>\n",
       "      <th>performances</th>\n",
       "      <td>5</td>\n",
       "      <td>89</td>\n",
       "      <td>0.743702</td>\n",
       "    </tr>\n",
       "    <tr>\n",
       "      <th>of its</th>\n",
       "      <td>6</td>\n",
       "      <td>103</td>\n",
       "      <td>0.742833</td>\n",
       "    </tr>\n",
       "    <tr>\n",
       "      <th>movie is</th>\n",
       "      <td>5</td>\n",
       "      <td>86</td>\n",
       "      <td>0.740772</td>\n",
       "    </tr>\n",
       "    <tr>\n",
       "      <th>in its</th>\n",
       "      <td>5</td>\n",
       "      <td>84</td>\n",
       "      <td>0.738659</td>\n",
       "    </tr>\n",
       "    <tr>\n",
       "      <th>me</th>\n",
       "      <td>2</td>\n",
       "      <td>51</td>\n",
       "      <td>0.737897</td>\n",
       "    </tr>\n",
       "    <tr>\n",
       "      <th>script</th>\n",
       "      <td>4</td>\n",
       "      <td>71</td>\n",
       "      <td>0.737524</td>\n",
       "    </tr>\n",
       "    <tr>\n",
       "      <th>if you</th>\n",
       "      <td>6</td>\n",
       "      <td>95</td>\n",
       "      <td>0.736238</td>\n",
       "    </tr>\n",
       "    <tr>\n",
       "      <th>fascinating</th>\n",
       "      <td>2</td>\n",
       "      <td>48</td>\n",
       "      <td>0.730475</td>\n",
       "    </tr>\n",
       "    <tr>\n",
       "      <th>cinematic</th>\n",
       "      <td>2</td>\n",
       "      <td>47</td>\n",
       "      <td>0.727804</td>\n",
       "    </tr>\n",
       "    <tr>\n",
       "      <th>funny</th>\n",
       "      <td>9</td>\n",
       "      <td>125</td>\n",
       "      <td>0.726910</td>\n",
       "    </tr>\n",
       "    <tr>\n",
       "      <th>you 're</th>\n",
       "      <td>4</td>\n",
       "      <td>64</td>\n",
       "      <td>0.725822</td>\n",
       "    </tr>\n",
       "    <tr>\n",
       "      <th>movie 's</th>\n",
       "      <td>0</td>\n",
       "      <td>30</td>\n",
       "      <td>0.725297</td>\n",
       "    </tr>\n",
       "  </tbody>\n",
       "</table>\n",
       "</div>"
      ],
      "text/plain": [
       "              objective freq  subjective freq  Subjective Score\n",
       "term                                                           \n",
       "movie that                 0               73          0.802352\n",
       "it does                    0               51          0.779370\n",
       "entertaining               2               73          0.771975\n",
       "film 's                    2               69          0.767833\n",
       "but it                     6              156          0.767110\n",
       "i                         13              273          0.756298\n",
       "interesting                3               70          0.752625\n",
       "film that                  4               77          0.745429\n",
       "performances               5               89          0.743702\n",
       "of its                     6              103          0.742833\n",
       "movie is                   5               86          0.740772\n",
       "in its                     5               84          0.738659\n",
       "me                         2               51          0.737897\n",
       "script                     4               71          0.737524\n",
       "if you                     6               95          0.736238\n",
       "fascinating                2               48          0.730475\n",
       "cinematic                  2               47          0.727804\n",
       "funny                      9              125          0.726910\n",
       "you 're                    4               64          0.725822\n",
       "movie 's                   0               30          0.725297"
      ]
     },
     "execution_count": 72,
     "metadata": {},
     "output_type": "execute_result"
    }
   ],
   "source": [
    "''' Display top 20 terms that are characteristic of a subjective document-label (using Scaled F-Score) and their frequencies.\n",
    "'''\n",
    "term_freq_df = corpus.get_term_freq_df()\n",
    "corpus.get_scaled_f_scores('subjective')#, scaler_algo='percentile')\n",
    "term_freq_df['Subjective Score'] = corpus.get_scaled_f_scores('subjective', scaler_algo='percentile')\n",
    "term_freq_df = term_freq_df.sort_values(by='Subjective Score', ascending=False)\n",
    "term_freq_df.iloc[:20]"
   ]
  },
  {
   "cell_type": "code",
   "execution_count": 78,
   "metadata": {
    "collapsed": false
   },
   "outputs": [
    {
     "data": {
      "text/html": [
       "<div>\n",
       "<table border=\"1\" class=\"dataframe\">\n",
       "  <thead>\n",
       "    <tr style=\"text-align: right;\">\n",
       "      <th></th>\n",
       "      <th>corpus</th>\n",
       "      <th>background</th>\n",
       "      <th>Scaled f-score</th>\n",
       "    </tr>\n",
       "  </thead>\n",
       "  <tbody>\n",
       "    <tr>\n",
       "      <th>nete</th>\n",
       "      <td>12.0</td>\n",
       "      <td>0.0</td>\n",
       "      <td>0.000113</td>\n",
       "    </tr>\n",
       "    <tr>\n",
       "      <th>roxie</th>\n",
       "      <td>19.0</td>\n",
       "      <td>211370.0</td>\n",
       "      <td>0.000089</td>\n",
       "    </tr>\n",
       "    <tr>\n",
       "      <th>rupi</th>\n",
       "      <td>9.0</td>\n",
       "      <td>0.0</td>\n",
       "      <td>0.000084</td>\n",
       "    </tr>\n",
       "    <tr>\n",
       "      <th>clichs</th>\n",
       "      <td>9.0</td>\n",
       "      <td>0.0</td>\n",
       "      <td>0.000084</td>\n",
       "    </tr>\n",
       "    <tr>\n",
       "      <th>stifler</th>\n",
       "      <td>10.0</td>\n",
       "      <td>34086.0</td>\n",
       "      <td>0.000081</td>\n",
       "    </tr>\n",
       "    <tr>\n",
       "      <th>huppert</th>\n",
       "      <td>10.0</td>\n",
       "      <td>69896.0</td>\n",
       "      <td>0.000071</td>\n",
       "    </tr>\n",
       "    <tr>\n",
       "      <th>melodrama</th>\n",
       "      <td>22.0</td>\n",
       "      <td>422158.0</td>\n",
       "      <td>0.000069</td>\n",
       "    </tr>\n",
       "    <tr>\n",
       "      <th>forgettable</th>\n",
       "      <td>13.0</td>\n",
       "      <td>170591.0</td>\n",
       "      <td>0.000068</td>\n",
       "    </tr>\n",
       "    <tr>\n",
       "      <th>devdas</th>\n",
       "      <td>9.0</td>\n",
       "      <td>56498.0</td>\n",
       "      <td>0.000067</td>\n",
       "    </tr>\n",
       "    <tr>\n",
       "      <th>cinematic</th>\n",
       "      <td>49.0</td>\n",
       "      <td>1255895.0</td>\n",
       "      <td>0.000067</td>\n",
       "    </tr>\n",
       "    <tr>\n",
       "      <th>smoochy</th>\n",
       "      <td>9.0</td>\n",
       "      <td>57732.0</td>\n",
       "      <td>0.000066</td>\n",
       "    </tr>\n",
       "    <tr>\n",
       "      <th>clich</th>\n",
       "      <td>8.0</td>\n",
       "      <td>28977.0</td>\n",
       "      <td>0.000066</td>\n",
       "    </tr>\n",
       "    <tr>\n",
       "      <th>ghisu</th>\n",
       "      <td>7.0</td>\n",
       "      <td>0.0</td>\n",
       "      <td>0.000066</td>\n",
       "    </tr>\n",
       "    <tr>\n",
       "      <th>munnabhai</th>\n",
       "      <td>7.0</td>\n",
       "      <td>0.0</td>\n",
       "      <td>0.000066</td>\n",
       "    </tr>\n",
       "    <tr>\n",
       "      <th>kanna</th>\n",
       "      <td>9.0</td>\n",
       "      <td>66013.0</td>\n",
       "      <td>0.000064</td>\n",
       "    </tr>\n",
       "    <tr>\n",
       "      <th>discovers</th>\n",
       "      <td>70.0</td>\n",
       "      <td>1974534.0</td>\n",
       "      <td>0.000064</td>\n",
       "    </tr>\n",
       "    <tr>\n",
       "      <th>formulaic</th>\n",
       "      <td>13.0</td>\n",
       "      <td>203777.0</td>\n",
       "      <td>0.000062</td>\n",
       "    </tr>\n",
       "    <tr>\n",
       "      <th>majidi</th>\n",
       "      <td>7.0</td>\n",
       "      <td>13480.0</td>\n",
       "      <td>0.000062</td>\n",
       "    </tr>\n",
       "    <tr>\n",
       "      <th>drumline</th>\n",
       "      <td>10.0</td>\n",
       "      <td>112924.0</td>\n",
       "      <td>0.000061</td>\n",
       "    </tr>\n",
       "    <tr>\n",
       "      <th>melodramatic</th>\n",
       "      <td>13.0</td>\n",
       "      <td>218390.0</td>\n",
       "      <td>0.000060</td>\n",
       "    </tr>\n",
       "  </tbody>\n",
       "</table>\n",
       "</div>"
      ],
      "text/plain": [
       "              corpus  background  Scaled f-score\n",
       "nete            12.0         0.0        0.000113\n",
       "roxie           19.0    211370.0        0.000089\n",
       "rupi             9.0         0.0        0.000084\n",
       "clichs           9.0         0.0        0.000084\n",
       "stifler         10.0     34086.0        0.000081\n",
       "huppert         10.0     69896.0        0.000071\n",
       "melodrama       22.0    422158.0        0.000069\n",
       "forgettable     13.0    170591.0        0.000068\n",
       "devdas           9.0     56498.0        0.000067\n",
       "cinematic       49.0   1255895.0        0.000067\n",
       "smoochy          9.0     57732.0        0.000066\n",
       "clich            8.0     28977.0        0.000066\n",
       "ghisu            7.0         0.0        0.000066\n",
       "munnabhai        7.0         0.0        0.000066\n",
       "kanna            9.0     66013.0        0.000064\n",
       "discovers       70.0   1974534.0        0.000064\n",
       "formulaic       13.0    203777.0        0.000062\n",
       "majidi           7.0     13480.0        0.000062\n",
       "drumline        10.0    112924.0        0.000061\n",
       "melodramatic    13.0    218390.0        0.000060"
      ]
     },
     "execution_count": 78,
     "metadata": {},
     "output_type": "execute_result"
    }
   ],
   "source": [
    "''' Display top 20 terms that are characteristic of being related to movies.\n",
    "'''\n",
    "term_freq_df = corpus.get_scaled_f_scores_vs_background()\n",
    "term_freq_df.iloc[:20]\n"
   ]
  },
  {
   "cell_type": "code",
   "execution_count": null,
   "metadata": {
    "collapsed": true
   },
   "outputs": [],
   "source": []
  },
  {
   "cell_type": "code",
   "execution_count": null,
   "metadata": {
    "collapsed": true
   },
   "outputs": [],
   "source": []
  }
 ],
 "metadata": {
  "anaconda-cloud": {},
  "kernelspec": {
   "display_name": "Python [Root]",
   "language": "python",
   "name": "Python [Root]"
  },
  "language_info": {
   "codemirror_mode": {
    "name": "ipython",
    "version": 3
   },
   "file_extension": ".py",
   "mimetype": "text/x-python",
   "name": "python",
   "nbconvert_exporter": "python",
   "pygments_lexer": "ipython3",
   "version": "3.5.2"
  }
 },
 "nbformat": 4,
 "nbformat_minor": 0
}

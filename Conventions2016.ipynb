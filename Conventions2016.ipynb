{
 "cells": [
  {
   "cell_type": "code",
   "execution_count": 1,
   "metadata": {},
   "outputs": [
    {
     "data": {
      "text/html": [
       "<style>.container { width:98% !important; }</style>"
      ],
      "text/plain": [
       "<IPython.core.display.HTML object>"
      ]
     },
     "metadata": {},
     "output_type": "display_data"
    }
   ],
   "source": [
    "import pandas as pd\n",
    "import scattertext as st\n",
    "import spacy\n",
    "import requests\n",
    "from bs4 import BeautifulSoup\n",
    "from IPython.display import IFrame\n",
    "from IPython.core.display import display, HTML\n",
    "\n",
    "display(HTML(\"<style>.container { width:98% !important; }</style>\"))"
   ]
  },
  {
   "cell_type": "code",
   "execution_count": 298,
   "metadata": {
    "collapsed": true
   },
   "outputs": [],
   "source": [
    "nlp = spacy.load('en')"
   ]
  },
  {
   "cell_type": "code",
   "execution_count": 132,
   "metadata": {},
   "outputs": [
    {
     "name": "stdout",
     "output_type": "stream",
     "text": [
      "https://presidentialcampaignselectionsreference.wordpress.com/2016-campaign-election/conventions/republican-national-convention/731-2/\n",
      "https://presidentialcampaignselectionsreference.wordpress.com/2016-campaign-election/conventions/republican-national-convention/gop-convention-speeches-day-2/\n",
      "https://presidentialcampaignselectionsreference.wordpress.com/2016-campaign-election/conventions/republican-national-convention/gop-convention-speeches-day-3/\n",
      "https://presidentialcampaignselectionsreference.wordpress.com/2016-campaign-election/conventions/republican-national-convention/gop-convention-speeches-day-4/\n"
     ]
    }
   ],
   "source": [
    "urls = [\n",
    "    'https://presidentialcampaignselectionsreference.wordpress.com/2016-campaign-election/conventions/republican-national-convention/731-2/',\n",
    "    'https://presidentialcampaignselectionsreference.wordpress.com/2016-campaign-election/conventions/republican-national-convention/gop-convention-speeches-day-2/',\n",
    "    'https://presidentialcampaignselectionsreference.wordpress.com/2016-campaign-election/conventions/republican-national-convention/gop-convention-speeches-day-3/',\n",
    "    'https://presidentialcampaignselectionsreference.wordpress.com/2016-campaign-election/conventions/republican-national-convention/gop-convention-speeches-day-4/'\n",
    "]\n",
    "data = []\n",
    "for url in urls:\n",
    "    print(url)\n",
    "    soup = BeautifulSoup(requests.get(url).text, 'lxml')\n",
    "    entry = None\n",
    "    for tag in soup.find_all('p'):\n",
    "        #print(tag.contents[0].get_text())\n",
    "        if tag.get_text()[:8] != 'Source: ':\n",
    "            if len(str(tag)) > 6 and (str(tag)[:6] == '<p><b>' or str(tag)[:7] == '<p><str'):\n",
    "                speaker =  tag.get_text().split(',')[0].split('\\n')[0]\n",
    "                if str(tag)[:7] == '<p><str':\n",
    "                    speaker = tag.find_all('strong')[0].get_text().split(',')[0].split('\\n')[0]\n",
    "                if entry != None and entry['speech'] != '' and entry['speaker'].strip():\n",
    "                    data.append(entry)\n",
    "                entry = {'speaker': speaker, 'speech': ''}\n",
    "            else:\n",
    "                if tag and tag.get_text():\n",
    "                    entry['speech'] += tag.get_text() + '\\n\\n'\n",
    "if entry != None and entry['speech'] != '' and entry['speaker'].strip() != '':\n",
    "    data.append(entry)\n",
    "df = pd.DataFrame(data)"
   ]
  },
  {
   "cell_type": "code",
   "execution_count": 133,
   "metadata": {
    "collapsed": true
   },
   "outputs": [],
   "source": [
    "df.iloc[11]['speech'] = '''I am here to speak to you about how to make America safe.\\n\\nThe vast majority of Americans today do not feel safe.\\xa0 They fear for their children and they fear for themselves.\\n\\nThey fear for our police officers who are being targeted.\\n\\nWe pray for our police officers in Dallas and Baton Rouge and their families; And we say thank you to the Cleveland Police Department for protecting us and all police officers protecting all of us.\\n\\nWe also reach out with understanding and compassion to those who have lost loved ones because of police shootings unjustified and justified.\\n\\nIt’s time to make America safe again.\\n\\nIt’s time to make America ONE again.\\n\\nI know it can be done because I did it by changing New York City from ‘the crime capital of America’ to according to the FBI the safest large city in America.\\n\\nWhat I did for New York City…….\\n\\nDonald Trump WILL do for America.\\n\\nI have known Donald Trump for almost 30 years. And he has created and accomplished great things.\\xa0\\xa0 But beyond that this is a man with a big heart.\\n\\nEvery time New York City suffered a tragedy, Donald Trump was there to help.\\n\\nAnd he did it anonymously. (I bet that’s a surprise)\\n\\nYou deserve to know this personal side about our next President.\\xa0 He has been a great father, father-in-law, grandfather and friend to me and my family.\\n\\nHe will keep us safe and help us achieve and embrace our greatness.\\n\\nIn the last seven months, there have been five major Islamic extremist terrorists attacks on us and our allies.\\xa0 We must not be afraid to define our enemy;\\n\\n\n",
    "\n",
    " It is Islamic extremist terrorism.\n",
    "\n",
    "'I did not say all of Islam.\\n\\nI said Islamic extremist terrorism.\\n\\nFailing to identify them properly maligns decent Muslims around the world.\\n\\nIt also sets up a fear of being politically incorrect that can have serious consequences.\\xa0And it has.\\n\\nThis is why our enemies see us as weak and vulnerable.\\n\\nDonald Trump has said the first step in defeating our enemies is to identify them properly and see the connections between them.\\n\\nTo defeat Islamic extremist terrorism we must put them on defense.If they are at war against us — which they have declared — we must commit ourselves to\\xa0unconditional victory against them.\\n\\nThis includes undoing one of the worst deals America ever made – Obama’s Nuclear Agreement with Iran that will eventually let them become a nuclear power and put billions of dollars back into a country that the world’s biggest state sponsor of terrorism.\\n\\nDonald Trump will make sure that any agreement with Iran meets the original goals of the U.N and our allies: a non-nuclear Iran.\\n\\nDonald Trump is a leader.\\xa0 He will reassert America’s position as the nation with the best values to lead the world.\\n\\nIt was Hillary Clinton who advocated for the overthrow of Qaddafi in Libya.\\n\\nNow Libya is in chaos.\\n\\nHillary Clinton is accountable for this and much more.\\n\\nHer dereliction of duty and failure to keep her people safe played a major role in the horrific Islamic terrorist murders on September 11-12, 2012 in Benghazi which claimed the lives of four brave Americans; our Ambassador J. Christopher Stevens, U.S. Foreign Service Officer Sean Smith, and CIA agents Tyrone S. Woods, and Glen Doherty.\\n\\nAnd Clinton, and the Obama administration, for political reasons lied about the purpose of the attacks including her lying directly to the families of those who were killed.\\n\\nHillary Clinton’s answer to Congress about the death of these four brave Americans because of her failures as Secretary of State was “what difference at this point does it make?”\\n\\nWatch the video for yourself and see the arrogant disregard for American lives lost unnecessarily.\\xa0 Make up your own mind.\\n\\nAnyone who can say that it makes no difference how or why people serving America are killed, should not be entrusted with the awesome responsibility to protect them and us and should not be allowed to be our Commander in Chief.\\n\\nWho would trust her to protect them?\\n\\nI do not.\\n\\nDo you?\\n\\nDonald Trump will change all of that.\\n\\nIn short he will lead by leading, not by following.\\n\\nYou know Donald Trump will secure our borders\\nHis opponent has had her chance to do this and failed. Hillary Clinton is for open borders.\\n\\nShe is in favor of taking in Syrian refugees even though the Islamic state\\xa0 has told us they are going to put their operatives in these groups so they can carry out terrorist acts against us and our allies.\\n\\nWe can’t afford to repeat the mistakes of the past.\\n\\nHillary Clinton’s experience is the basis for her campaign.\\xa0 Well, Hillary Clinton’sexperience is exactly the reason she should not be our president.\\n\\nThere is no more time for us left to revive our great country.\\xa0 No more time to repeat our mistakes of the past.\\n\\nWashington needs a complete turnaround and Donald Trump is the agent of change and he will be the leader of the change we need.\\n\\nHe will make America, like the president I worked for Ronald Reagan, once again be the shining City on the Hill.\\n\\nVote for Donald Trump for a safer America and for an America headed in a different direction………Greatness!\\xa0\\xa0God Bless the United States of America.\\n\\n'\n",
    "'''"
   ]
  },
  {
   "cell_type": "code",
   "execution_count": 140,
   "metadata": {
    "collapsed": true
   },
   "outputs": [],
   "source": [
    "df_corrected = pd.concat([df.iloc[:12], df.iloc[13:]])"
   ]
  },
  {
   "cell_type": "code",
   "execution_count": 143,
   "metadata": {
    "collapsed": true
   },
   "outputs": [],
   "source": [
    "df_corrected.columns = ['speaker', 'text']"
   ]
  },
  {
   "cell_type": "code",
   "execution_count": 144,
   "metadata": {
    "collapsed": true
   },
   "outputs": [],
   "source": [
    "df_corrected['year'] = 2016\n",
    "df_corrected['party'] = 'republican'"
   ]
  },
  {
   "cell_type": "code",
   "execution_count": 145,
   "metadata": {
    "collapsed": true
   },
   "outputs": [],
   "source": [
    "df_corrected.to_csv('../scattertext/scattertext/data/republican_convention_2016.csv', index=False)"
   ]
  },
  {
   "cell_type": "code",
   "execution_count": 174,
   "metadata": {
    "collapsed": true
   },
   "outputs": [],
   "source": [
    "dem_url_dfs = []\n",
    "dem_urls = ['https://wtop.com/presidential-election/2016/07/day-1-speeches-democratic-national-convention/',\n",
    "            'http://wtop.com/presidential-election/2016/07/day-2-speeches-democratic-national-convention/',\n",
    "            'http://wtop.com/presidential-election/2016/07/day-3-speakers-democratic-national-convention/']\n",
    "for urls in dem_urls:\n",
    "    soup = BeautifulSoup(requests.get(url).text, 'lxml')\n",
    "    speakers = []\n",
    "    for tag in soup.find_all('p'):\n",
    "        for strong_tag in tag.find_all('strong'):\n",
    "            speakers.append(strong_tag.get_text().strip())\n",
    "    videos = []        \n",
    "    for tag in soup.find_all('div', class_=\"flex-video\"):\n",
    "        for iframe_tag in tag.find_all('iframe'):\n",
    "            videos.append(iframe_tag.attrs['src'])\n",
    "    dem_url_dfs.append(pd.DataFrame({'speaker': speakers[:len(videos)], 'urls': videos}))"
   ]
  },
  {
   "cell_type": "code",
   "execution_count": 177,
   "metadata": {
    "collapsed": true
   },
   "outputs": [],
   "source": [
    "dem_url_df = pd.concat(dem_url_dfs)"
   ]
  },
  {
   "cell_type": "code",
   "execution_count": 178,
   "metadata": {},
   "outputs": [
    {
     "data": {
      "text/html": [
       "<div>\n",
       "<style scoped>\n",
       "    .dataframe tbody tr th:only-of-type {\n",
       "        vertical-align: middle;\n",
       "    }\n",
       "\n",
       "    .dataframe tbody tr th {\n",
       "        vertical-align: top;\n",
       "    }\n",
       "\n",
       "    .dataframe thead th {\n",
       "        text-align: right;\n",
       "    }\n",
       "</style>\n",
       "<table border=\"1\" class=\"dataframe\">\n",
       "  <thead>\n",
       "    <tr style=\"text-align: right;\">\n",
       "      <th></th>\n",
       "      <th>speaker</th>\n",
       "      <th>urls</th>\n",
       "    </tr>\n",
       "  </thead>\n",
       "  <tbody>\n",
       "    <tr>\n",
       "      <th>0</th>\n",
       "      <td>First lady Michelle Obama</td>\n",
       "      <td>https://www.youtube.com/embed/4ZNWYqDU948</td>\n",
       "    </tr>\n",
       "    <tr>\n",
       "      <th>1</th>\n",
       "      <td>Sen. Bernie Sanders</td>\n",
       "      <td>https://www.youtube.com/embed/9rtXaPV5SYM</td>\n",
       "    </tr>\n",
       "    <tr>\n",
       "      <th>2</th>\n",
       "      <td>Astrid Silva</td>\n",
       "      <td>https://www.youtube.com/embed/wyrSSBQClGQ</td>\n",
       "    </tr>\n",
       "    <tr>\n",
       "      <th>3</th>\n",
       "      <td>Sen. Elizabeth Warren, D-Mass.</td>\n",
       "      <td>https://www.youtube.com/embed/tVhdg7Yl5ws</td>\n",
       "    </tr>\n",
       "    <tr>\n",
       "      <th>4</th>\n",
       "      <td>Sen. Cory Booker, D-NJ</td>\n",
       "      <td>https://www.youtube.com/embed/NrO5qGhqu5Q</td>\n",
       "    </tr>\n",
       "  </tbody>\n",
       "</table>\n",
       "</div>"
      ],
      "text/plain": [
       "                          speaker                                       urls\n",
       "0       First lady Michelle Obama  https://www.youtube.com/embed/4ZNWYqDU948\n",
       "1             Sen. Bernie Sanders  https://www.youtube.com/embed/9rtXaPV5SYM\n",
       "2                    Astrid Silva  https://www.youtube.com/embed/wyrSSBQClGQ\n",
       "3  Sen. Elizabeth Warren, D-Mass.  https://www.youtube.com/embed/tVhdg7Yl5ws\n",
       "4          Sen. Cory Booker, D-NJ  https://www.youtube.com/embed/NrO5qGhqu5Q"
      ]
     },
     "execution_count": 178,
     "metadata": {},
     "output_type": "execute_result"
    }
   ],
   "source": [
    "dem_url_df.iloc[:5]"
   ]
  },
  {
   "cell_type": "code",
   "execution_count": 185,
   "metadata": {
    "collapsed": true
   },
   "outputs": [],
   "source": [
    "def get_transcript(url):\n",
    "    code = url.split('/')[-1].strip()\n",
    "    caption_url = 'http://diycaptions.com/php/get-automatic-captions-as-txt.php?id=%s&language=en' % (code)\n",
    "    soup = BeautifulSoup(requests.get(caption_url).text, 'lxml')\n",
    "    return '\\n'.join(soup.find_all('div', class_='well')[0].get_text().split('\\n')[1:])"
   ]
  },
  {
   "cell_type": "code",
   "execution_count": 189,
   "metadata": {},
   "outputs": [
    {
     "data": {
      "text/plain": [
       "0    Character count: 9108  |    Duration in second...\n",
       "1    Unable to obtain automatic captions for the vi...\n",
       "2    Unable to obtain automatic captions for the vi...\n",
       "3    Unable to obtain automatic captions for the vi...\n",
       "4    Unable to obtain automatic captions for the vi...\n",
       "5    Unable to obtain automatic captions for the vi...\n",
       "6    Unable to obtain automatic captions for the vi...\n",
       "7    Unable to obtain automatic captions for the vi...\n",
       "8    Unable to obtain automatic captions for the vi...\n",
       "9    Unable to obtain automatic captions for the vi...\n",
       "Name: urls, dtype: object"
      ]
     },
     "execution_count": 189,
     "metadata": {},
     "output_type": "execute_result"
    }
   ],
   "source": [
    "dem_url_df['urls'][:10].apply(get_transcript)"
   ]
  },
  {
   "cell_type": "code",
   "execution_count": 198,
   "metadata": {
    "collapsed": true
   },
   "outputs": [],
   "source": [
    "\n",
    "dem_urls = ['https://www.prnewswire.com/news/2016-democratic-national-convention-committee&c=n&page=1&pagesize=100',\n",
    "            'https://www.prnewswire.com/news/2016-democratic-national-convention-committee&c=n&page=2&pagesize=100'\n",
    "           ]\n",
    "dem_data = []\n",
    "for urls in dem_urls:\n",
    "    soup = BeautifulSoup(requests.get(url).text, 'lxml')\n",
    "    for a in soup.find_all('a'):\n",
    "        if 'title' in a.attrs and a.attrs['title'].startswith('Remarks'):\n",
    "            dem_data.append({'speaker': a.attrs['title'], 'url': a.attrs['href']})\n",
    "dem_url_df = pd.DataFrame(dem_data)            "
   ]
  },
  {
   "cell_type": "code",
   "execution_count": 220,
   "metadata": {
    "collapsed": true
   },
   "outputs": [],
   "source": [
    "dem_urls_deduped = dem_url_df.groupby('speaker')['url'].apply(lambda x: [url for url in x if url.startswith('http')])\n",
    "dem_urls_deduped = pd.DataFrame(dem_urls_deduped.apply(lambda x: pd.np.nan if len(x) == 0 else x[0]).dropna()).reset_index()"
   ]
  },
  {
   "cell_type": "code",
   "execution_count": 237,
   "metadata": {
    "collapsed": true
   },
   "outputs": [],
   "source": [
    "def get_newswire_text(url):\n",
    "    try:\n",
    "        soup = BeautifulSoup(requests.get(url).text, 'lxml')\n",
    "        for section in soup.find_all('section'):\n",
    "            if section.attrs.get('itemprop', '') == 'articleBody':\n",
    "                return section.get_text().split('/PRNewswire-USNewswire/ --')[1].split('Media contact:')[0].strip()\n",
    "    except:\n",
    "        return None"
   ]
  },
  {
   "cell_type": "code",
   "execution_count": 239,
   "metadata": {
    "collapsed": true
   },
   "outputs": [],
   "source": [
    "dem_urls_deduped['text'] = dem_urls_deduped.apply(lambda x: get_newswire_text(x.url), axis=1)"
   ]
  },
  {
   "cell_type": "code",
   "execution_count": 264,
   "metadata": {},
   "outputs": [
    {
     "data": {
      "text/plain": [
       "Series([], Name: url, dtype: object)"
      ]
     },
     "execution_count": 264,
     "metadata": {},
     "output_type": "execute_result"
    }
   ],
   "source": [
    "dem_urls_deduped[dem_urls_deduped.text.apply(type) != str].url"
   ]
  },
  {
   "cell_type": "code",
   "execution_count": 263,
   "metadata": {
    "collapsed": true
   },
   "outputs": [],
   "source": [
    "dem_urls_deduped.iloc[96].text = '''Good evening! Buenas noches! Thank you! And how about we thank all the volunteers, the police officers, and security; the workers who set up, cleaned up, and fed us – who've made this convention a success.\n",
    "\n",
    "Anyone here an immigrant or the child or grandchild of immigrants? Anyone the first in your family to go to college? \n",
    "\n",
    "Who here makes a living working with your hands, making this country better? This is what a GREAT America looks like. So when I hear someone say, \"America isn't great,\" it hits me, like when someone says, \"your father was just a ditch digger; your mother wasn't even born here.\"\n",
    "\n",
    "This election is about us. It's personal. It's about telling every little boy and every little girl: You can grow up to be the President of the United States. When she was 18, my mom came from Guadalajara, Jalisco, Mexico. She was the boss. She juggled her jobs at home and as a clerical worker. \n",
    "\n",
    "My father, he had to leave school by the sixth grade to help support the family. I remember: He would leave for work long before my three sisters and I would get up for school. When you work in the fields, and in construction, you rise with the sun. In winter, when Sacramento turned cold and rainy, and the construction jobs disappeared, my dad would somehow find other work – laying a tile floor, canning tomatoes, or hauling someone's trash. \n",
    "\n",
    "My parents didn't go to college, but they encouraged us – and like so many of you, I became the first in my family to graduate with a four-year degree. I know that education opens doors. \n",
    "\n",
    "Hillary Clinton gets that. She understands that every child deserves a great education, no matter their zip code. As First Lady of Arkansas, Hillary had what she called the Chelsea test. If a school wasn't good enough for her daughter, it wasn't good enough for anyone's child. That's why as President, she'll bring preschool to every four-year-old in America. She'll rebuild our crumbling schools. She'll give our teachers the support and tools they need, and the pay they deserve.\n",
    "\n",
    "How many of you have student debt? Hillary will fight for debt-free college tuition, because nobody should be priced out of college. And she'll ensure folks can refinance their student loans, because nobody should be held down by the crush of student debt.\n",
    "\n",
    "I recently went with Carolina my wife to witness our youngest daughter Natalia graduate from high school. Natalia knows the sky's the limit. Hillary wants for all children what we give to our children. Hillary wants to build schools – Donald Trump wants to build walls. His idea of an education plan – Trump University.\n",
    "\n",
    "He once demanded that President Obama release his college transcripts because it would be, \"very revealing.\"\n",
    "\n",
    "I think it would be \"very revealing\" for Donald Trump to release his college transcript. Who here thinks he did as well as he says he did?\n",
    "\n",
    "At every stage in his life, Donald Trump has exploited America's laws to put himself first. He uses lawsuits the way my mom uses coupons to drive down prices. He uses bankruptcies – six of them – like a wealthy man's get-out-jail-free card. I can't tell you if this man has ever had a callous on his hands. Does he know the price of a gallon of milk or a loaf of bread? And why won't he release his tax returns? What is he hiding? Why won't he show the American people who he is?\n",
    "\n",
    "Let me tell you who Hillary Clinton is. A few months ago, Hillary came to my city of Los Angeles and sat down with people like my parents: grandmothers, DREAMers, and men who work all day in the sun, yet remain in the shadows. As the meeting ended, the crowd swelled around her. She took every photo requested with families who had never been anywhere close to a future President. People who couldn't even vote. She embraced them and consoled them – and she listened to them. It's those moments that make this election personal, that define a President.\n",
    "\n",
    "The Hillary I've known for 24 years is someone who has always listened to those who have been silenced. Our next Vice-President Tim Kaine nos escucha también – \"he listens to us too.\"\n",
    "\n",
    "We've come a long way from the days when my dad couldn't walk into a restaurant because of signs that read, \"No dogs or Mexicans allowed.\" Now is not the time to turn back. There's a saying in Spanish – Dime con quién andas y te diré quién eres – \"Tell me with whom you walk and I'll tell you who you are.\" Hillary Clinton has walked with us all her life.\n",
    "\n",
    "No matter who we are, or where we come from, or what we look like, or how much money we have, or who we love, Hillary Clinton walks with us. So, now, the question is: Are we going to walk with her? Are we going to fight for a nation where love trumps hate? Are we going to build an America that's Stronger Together? \n",
    "\n",
    "Then, together, let's elect the next President of the United States, Hillary Clinton!'''"
   ]
  },
  {
   "cell_type": "code",
   "execution_count": 266,
   "metadata": {
    "collapsed": true
   },
   "outputs": [],
   "source": [
    "dem_urls_deduped['year'] = 2016"
   ]
  },
  {
   "cell_type": "code",
   "execution_count": 267,
   "metadata": {
    "collapsed": true
   },
   "outputs": [],
   "source": [
    "dem_urls_deduped['party'] = 'democrat'"
   ]
  },
  {
   "cell_type": "code",
   "execution_count": 281,
   "metadata": {
    "collapsed": true
   },
   "outputs": [],
   "source": [
    "dem_urls_deduped['speaker'] = dem_urls_deduped['speaker'].apply(lambda x: x.split('by')[1] if ' by' in x else x.split('By')[1]).apply(str.strip)"
   ]
  },
  {
   "cell_type": "code",
   "execution_count": 268,
   "metadata": {
    "collapsed": true
   },
   "outputs": [],
   "source": [
    "dem_urls_deduped.to_csv('../scattertext/scattertext/data/democratic_convention_2016.csv', index=False)"
   ]
  },
  {
   "cell_type": "code",
   "execution_count": 286,
   "metadata": {
    "collapsed": true
   },
   "outputs": [],
   "source": [
    "convention_df = pd.concat([dem_urls_deduped[[c for c in dem_urls_deduped.columns if c != 'url']], \n",
    "           df_corrected]).reset_index(drop=True)"
   ]
  },
  {
   "cell_type": "code",
   "execution_count": 321,
   "metadata": {},
   "outputs": [
    {
     "name": "stdout",
     "output_type": "stream",
     "text": [
      "Jake: I was so happy after I got hired last month at Pizza Studio that I immediately shared the news on SnapChat. My friend Jensen messaged me and told me she got hired there, too. We were excited that we'd be working together. Then we started talking and figured out that I would be making $8.25 an hour, but Jensen was only offered $8. We are the same age. We were hired for the same job on the same day. And as far as we could tell, we both had the same knowledge of pizza. So we didn't understand why we wouldn't be paid the same amount. \n",
      "Jensen: I thought it was a mistake, so I called our new boss to ask. Instead of fixing it, she fired me and Jake for talking about our wages. And she never answered my question about why I was going to be paid less. Then our story started getting out. We couldn't believe it when Hillary Clinton tweeted her support for me and shared our story. I may have lost my job, but I'm proud that I spoke up for myself, and I'm glad that Jake stood with me. And we're both glad that Hillary Clinton stood with us.\n",
      "Jake: Our story isn't just about fighting for equal pay. It's about doing the right thing and having each other's back. Because if we don't do that, nothing will change. \n",
      "Jensen: It doesn't matter how old you are. We all need to be brave enough to speak up for ourselves and stand up for each other. That's what this country is all about. We are stronger when we Stand Together.\n"
     ]
    }
   ],
   "source": [
    "print(convention_df.iloc[26].text)"
   ]
  },
  {
   "cell_type": "code",
   "execution_count": 316,
   "metadata": {
    "collapsed": true
   },
   "outputs": [],
   "source": [
    "convention_df.to_csv('../scattertext/scattertext/data/2016_conventions.csv', index=False)"
   ]
  },
  {
   "cell_type": "code",
   "execution_count": 294,
   "metadata": {},
   "outputs": [
    {
     "data": {
      "text/plain": [
       "democrat      98\n",
       "republican    56\n",
       "Name: party, dtype: int64"
      ]
     },
     "execution_count": 294,
     "metadata": {},
     "output_type": "execute_result"
    }
   ],
   "source": [
    "convention_df['party'].value_counts()"
   ]
  },
  {
   "cell_type": "code",
   "execution_count": 335,
   "metadata": {
    "collapsed": true
   },
   "outputs": [],
   "source": [
    "import scattertext, imp\n",
    "st = imp.reload(scattertext)"
   ]
  },
  {
   "cell_type": "code",
   "execution_count": 326,
   "metadata": {
    "collapsed": true
   },
   "outputs": [],
   "source": [
    "corpus = st.CorpusFromPandas(convention_df, \n",
    "                             category_col = 'party', \n",
    "                             text_col = 'text',\n",
    "                             nlp = st.whitespace_nlp_with_sentences).build()"
   ]
  },
  {
   "cell_type": "code",
   "execution_count": 312,
   "metadata": {
    "collapsed": true
   },
   "outputs": [],
   "source": [
    "html = st.produce_scattertext_explorer(corpus, \n",
    "                                       category='democrat', \n",
    "                                       category_name='Democratic', \n",
    "                                       not_category_name='Republican',\n",
    "                                       metadata=convention_df['speaker'],\n",
    "                                       pmi_threshold_coefficient=10,\n",
    "                                       term_ranker=st.OncePerDocFrequencyRanker,\n",
    "                                       width_in_pixels=1000,\n",
    "                                       use_full_doc = True)"
   ]
  },
  {
   "cell_type": "code",
   "execution_count": 313,
   "metadata": {},
   "outputs": [
    {
     "data": {
      "text/html": [
       "\n",
       "        <iframe\n",
       "            width=\"1200\"\n",
       "            height=\"1000\"\n",
       "            src=\"conventions2016.html\"\n",
       "            frameborder=\"0\"\n",
       "            allowfullscreen\n",
       "        ></iframe>\n",
       "        "
      ],
      "text/plain": [
       "<IPython.lib.display.IFrame at 0x12bb5fcf8>"
      ]
     },
     "execution_count": 313,
     "metadata": {},
     "output_type": "execute_result"
    }
   ],
   "source": [
    "file_name = 'conventions2016.html'\n",
    "open(file_name, 'wb').write(html.encode('utf-8'))\n",
    "IFrame(src=file_name, width = 1200, height=1000)"
   ]
  },
  {
   "cell_type": "code",
   "execution_count": 336,
   "metadata": {},
   "outputs": [
    {
     "ename": "AttributeError",
     "evalue": "module 'scattertext' has no attribute 'ScaledFScoreSignificance'",
     "output_type": "error",
     "traceback": [
      "\u001b[0;31m---------------------------------------------------------------------------\u001b[0m",
      "\u001b[0;31mAttributeError\u001b[0m                            Traceback (most recent call last)",
      "\u001b[0;32m<ipython-input-336-3fbc23ca8f3b>\u001b[0m in \u001b[0;36m<module>\u001b[0;34m()\u001b[0m\n\u001b[1;32m      7\u001b[0m                                          \u001b[0mterm_ranker\u001b[0m\u001b[0;34m=\u001b[0m\u001b[0mst\u001b[0m\u001b[0;34m.\u001b[0m\u001b[0mOncePerDocFrequencyRanker\u001b[0m\u001b[0;34m,\u001b[0m\u001b[0;34m\u001b[0m\u001b[0m\n\u001b[1;32m      8\u001b[0m                                          \u001b[0mwidth_in_pixels\u001b[0m\u001b[0;34m=\u001b[0m\u001b[0;36m1200\u001b[0m\u001b[0;34m,\u001b[0m\u001b[0;34m\u001b[0m\u001b[0m\n\u001b[0;32m----> 9\u001b[0;31m                                          \u001b[0mterm_scorer\u001b[0m\u001b[0;34m=\u001b[0m\u001b[0mst\u001b[0m\u001b[0;34m.\u001b[0m\u001b[0mScaledFScoreSignificance\u001b[0m\u001b[0;34m,\u001b[0m\u001b[0;34m\u001b[0m\u001b[0m\n\u001b[0m\u001b[1;32m     10\u001b[0m                                          use_full_doc = True)\n\u001b[1;32m     11\u001b[0m \u001b[0mfile_name\u001b[0m \u001b[0;34m=\u001b[0m \u001b[0;34m'conventions2016fw.html'\u001b[0m\u001b[0;34m\u001b[0m\u001b[0m\n",
      "\u001b[0;31mAttributeError\u001b[0m: module 'scattertext' has no attribute 'ScaledFScoreSignificance'"
     ]
    }
   ],
   "source": [
    "html = st.produce_fightin_words_explorer(corpus, \n",
    "                                         category='democrat', \n",
    "                                         category_name='Democratic', \n",
    "                                         not_category_name='Republican',\n",
    "                                         metadata=convention_df['speaker'],\n",
    "                                         pmi_threshold_coefficient=10,\n",
    "                                         term_ranker=st.OncePerDocFrequencyRanker,\n",
    "                                         width_in_pixels=1200,\n",
    "                                         term_scorer=st.ScaledFScoreSignificance,\n",
    "                                         use_full_doc = True)\n",
    "file_name = 'conventions2016fw.html'\n",
    "open(file_name, 'wb').write(html.encode('utf-8'))\n",
    "IFrame(src=file_name, width = 1200, height=1000)"
   ]
  },
  {
   "cell_type": "code",
   "execution_count": 342,
   "metadata": {},
   "outputs": [
    {
     "data": {
      "text/plain": [
       "['AsianNLP',\n",
       " 'CSRMatrixFactory',\n",
       " 'CSRMatrixTools',\n",
       " 'Common',\n",
       " 'Corpus',\n",
       " 'CorpusFromPandas',\n",
       " 'CorpusFromParsedDocuments',\n",
       " 'DEFAULT_MINIMUM_TERM_FREQUENCY',\n",
       " 'DEFAULT_PMI_THRESHOLD_COEFFICIENT',\n",
       " 'DocsAndLabelsFromCorpus',\n",
       " 'FeatsFromDoc',\n",
       " 'FeatsFromOnlyEmpath',\n",
       " 'FeatsFromSpacyDoc',\n",
       " 'FeatsFromSpacyDocAndEmpath',\n",
       " 'FeatsFromSpacyDocOnlyEmoji',\n",
       " 'FeatsFromSpacyDocOnlyNounChunks',\n",
       " 'FeatureOuput',\n",
       " 'HTMLVisualizationAssembly',\n",
       " 'IndexStore',\n",
       " 'IndexStoreFromDict',\n",
       " 'IndexStoreFromList',\n",
       " 'InvalidScalerException',\n",
       " 'LogOddsRatioUninformativeDirichletPrior',\n",
       " 'OncePerDocFrequencyRanker',\n",
       " 'PValGetter',\n",
       " 'ParsedCorpus',\n",
       " 'SampleCorpora',\n",
       " 'Scalers',\n",
       " 'ScatterChart',\n",
       " 'ScatterChartExplorer',\n",
       " 'TermDocMatrix',\n",
       " 'TermDocMatrixFactory',\n",
       " 'TermDocMatrixFilter',\n",
       " 'TermDocMatrixFromPandas',\n",
       " 'VizDataAdapter',\n",
       " 'WhitespaceNLP',\n",
       " 'Word2VecFromParsedCorpus',\n",
       " 'Word2VecFromParsedCorpusBigrams',\n",
       " '__builtins__',\n",
       " '__cached__',\n",
       " '__doc__',\n",
       " '__file__',\n",
       " '__loader__',\n",
       " '__name__',\n",
       " '__package__',\n",
       " '__path__',\n",
       " '__spec__',\n",
       " '__version__',\n",
       " 'chinese_nlp',\n",
       " 'emojis',\n",
       " 'features',\n",
       " 'filter_bigrams_by_pmis',\n",
       " 'indexstore',\n",
       " 'japanese_nlp',\n",
       " 'np',\n",
       " 'percentile_alphabetical',\n",
       " 'print_function',\n",
       " 'produce_fightin_words_explorer',\n",
       " 'produce_scattertext_explorer',\n",
       " 'produce_scattertext_html',\n",
       " 'representations',\n",
       " 'scale',\n",
       " 'scale_neg_1_to_1_with_zero_mean_abs_max',\n",
       " 'scattertext',\n",
       " 'sparse_explorer',\n",
       " 'termranking',\n",
       " 'termscoring',\n",
       " 'termsignificance',\n",
       " 'tweet_tokenzier_factory',\n",
       " 'version',\n",
       " 'viz',\n",
       " 'warnings',\n",
       " 'whitespace_nlp',\n",
       " 'whitespace_nlp_with_sentences',\n",
       " 'word_similarity_explorer',\n",
       " 'word_similarity_explorer_gensim']"
      ]
     },
     "execution_count": 342,
     "metadata": {},
     "output_type": "execute_result"
    }
   ],
   "source": [
    "import imp\n",
    "st = imp.reload(scattertext)\n",
    "dir(scattertext)"
   ]
  },
  {
   "cell_type": "code",
   "execution_count": null,
   "metadata": {
    "collapsed": true
   },
   "outputs": [],
   "source": []
  }
 ],
 "metadata": {
  "anaconda-cloud": {},
  "kernelspec": {
   "display_name": "Python [py36]",
   "language": "python",
   "name": "Python [py36]"
  },
  "language_info": {
   "codemirror_mode": {
    "name": "ipython",
    "version": 3
   },
   "file_extension": ".py",
   "mimetype": "text/x-python",
   "name": "python",
   "nbconvert_exporter": "python",
   "pygments_lexer": "ipython3",
   "version": "3.6.1"
  }
 },
 "nbformat": 4,
 "nbformat_minor": 2
}

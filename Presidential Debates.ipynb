{
 "cells": [
  {
   "cell_type": "code",
   "execution_count": 1,
   "metadata": {
    "collapsed": false
   },
   "outputs": [
    {
     "name": "stderr",
     "output_type": "stream",
     "text": [
      "/Users/kesslej/anaconda3/lib/python3.5/site-packages/sklearn/cross_validation.py:44: DeprecationWarning: This module was deprecated in version 0.18 in favor of the model_selection module into which all the refactored classes and functions are moved. Also note that the interface of the new CV iterators are different from that of this module. This module will be removed in 0.20.\n",
      "  \"This module will be removed in 0.20.\", DeprecationWarning)\n"
     ]
    }
   ],
   "source": [
    "import scattertext as st\n",
    "import re\n",
    "from pprint import pprint\n",
    "import pandas as pd\n",
    "import spacy.en\n",
    "from IPython.display import IFrame"
   ]
  },
  {
   "cell_type": "code",
   "execution_count": 2,
   "metadata": {
    "collapsed": true
   },
   "outputs": [],
   "source": [
    "nlp = spacy.en.English()"
   ]
  },
  {
   "cell_type": "markdown",
   "metadata": {},
   "source": [
    "# Parse debates and create plotting interface"
   ]
  },
  {
   "cell_type": "code",
   "execution_count": 3,
   "metadata": {
    "collapsed": false
   },
   "outputs": [],
   "source": [
    "def debate_transcript_to_dataframe(fn, speakers):\n",
    "    lines = open(fn).read().split('\\n')\n",
    "    cur_speaker = None\n",
    "    speaker_start_re = re.compile(r'^([(]?[A-Z][A-Z][A-Z]+):?(.+)$')\n",
    "    transcript = []\n",
    "    cur_statement = ''\n",
    "    cur_speaker = None\n",
    "    for line in lines:\n",
    "        match = speaker_start_re.match(line)\n",
    "        if match:\n",
    "            if match.group(1).startswith('('):\n",
    "                continue\n",
    "            if cur_speaker is not None:\n",
    "                transcript.append({'speaker': cur_speaker, 'statement': cur_statement})\n",
    "            cur_speaker = match.group(1).strip()\n",
    "            cur_statement = match.group(2).strip() + '\\n'\n",
    "            for other_name in speakers:\n",
    "                if other_name+':' in cur_statement:\n",
    "                    cur_statement, other_statement = cur_statement.split(other_name)\n",
    "                    transcript.append({'speaker': cur_speaker, 'statement': cur_statement.strip()})\n",
    "                    transcript.append({'speaker': other_name, 'statement': other_statement.strip()})   \n",
    "        else:\n",
    "            cur_statement += line \n",
    "    df = pd.DataFrame(transcript)\n",
    "    return df"
   ]
  },
  {
   "cell_type": "code",
   "execution_count": 4,
   "metadata": {
    "collapsed": false
   },
   "outputs": [],
   "source": [
    "parties = {'QUIJANO':'Moderator', \n",
    "           'KAINE':'Democratic', \n",
    "           'PENCE':'Republican', \n",
    "           'HOLT':'Moderator', \n",
    "           'CLINTON':'Democratic', \n",
    "           'TRUMP':'Republican',\n",
    "           'COOPER':'Moderator',\n",
    "           'RADDATZ':'Moderator',\n",
    "           'WALLACE':'Moderator'}\n",
    "df_1st = debate_transcript_to_dataframe('presidential-debate-2016-09-26.txt', ['TRUMP','CLINTON','HOLT'])\n",
    "df_vp = debate_transcript_to_dataframe('vp-debate-2016-10-04.txt', ['PENCE','KAINE','QUIJANO'])\n",
    "df_1st['debate'] = '1st'\n",
    "df_vp['debate'] = 'VP'\n",
    "df = pd.concat([df_1st, df_vp])\n",
    "df['party'] = df['speaker'].apply(lambda x: parties[x])\n",
    "df['speaker and debate']=df['speaker'].apply(lambda x: x + ' 1st')\n",
    "df_2nd = debate_transcript_to_dataframe('debate-2016-10-09-rush.txt', ['TRUMP','CLINTON','COOPER','RADDATZ'])\n",
    "df_2nd['speaker and debate']=df_2nd['speaker'].apply(lambda x: x + ' 2nd')\n",
    "df_2nd['party'] = df_2nd['speaker'].apply(lambda x: parties[x])\n",
    "df_2nd['debate'] = '2nd'\n",
    "df_3rd = debate_transcript_to_dataframe('debate-2016-10-19.txt', ['TRUMP','CLINTON','WALLACE'])\n",
    "df_3rd['speaker and debate']=df_3rd['speaker'].apply(lambda x: x + ' 3rd')\n",
    "df_3rd['party'] = df_3rd['speaker'].apply(lambda x: parties[x])\n",
    "df_3rd['debate'] = '3rd'\n",
    "df_all = pd.concat([df, df_2nd, df_3rd])\n"
   ]
  },
  {
   "cell_type": "code",
   "execution_count": null,
   "metadata": {
    "collapsed": false
   },
   "outputs": [],
   "source": []
  },
  {
   "cell_type": "code",
   "execution_count": 5,
   "metadata": {
    "collapsed": false
   },
   "outputs": [],
   "source": [
    "def draw_plot(df, category, other_category, category_col, extra=''):\n",
    "    corpus = st.CorpusFromPandas(data_frame = df[(df[category_col] == category) \n",
    "                                                              | (df[category_col] == other_category)], \n",
    "                                              category_col = category_col, \n",
    "                                              text_col = 'statement',\n",
    "                                              nlp = nlp).build()\n",
    "    html = st.produce_scattertext_html(corpus, \n",
    "                                       category=category, \n",
    "                                       category_name=category.lower() +' Term', \n",
    "                                       not_category_name=other_category.lower() + ' Term',\n",
    "                                       protocol='https',\n",
    "                                       pmi_filter_thresold=2,\n",
    "                                       minimum_term_frequency=2,\n",
    "                                       width=1000)\n",
    "    file_name = category.lower() + '-' + other_category.lower() + extra + '.html'\n",
    "    open(file_name, 'wb').write(html.encode('utf-8'))\n",
    "    return IFrame(src=file_name, width = 1200, height=1000)"
   ]
  },
  {
   "cell_type": "code",
   "execution_count": 6,
   "metadata": {
    "collapsed": true
   },
   "outputs": [],
   "source": [
    "category, other_category, category_col = 'CLINTON', 'TRUMP', 'speaker'\n",
    "corpus = st.CorpusFromPandas(data_frame = df[(df[category_col] == category) \n",
    "                                                              | (df[category_col] == other_category)], \n",
    "                                              category_col = category_col, \n",
    "                                              text_col = 'statement',\n",
    "                                              nlp = nlp).build()"
   ]
  },
  {
   "cell_type": "code",
   "execution_count": 7,
   "metadata": {
    "collapsed": false
   },
   "outputs": [],
   "source": [
    "category, other_category, category_col = 'CLINTON', 'TRUMP', 'speaker'\n",
    "debate_3 = st.CorpusFromPandas(data_frame = df_3rd[(df_3rd[category_col] == category) \n",
    "                                                              | (df_3rd[category_col] == other_category)], \n",
    "                                              category_col = category_col, \n",
    "                                              text_col = 'statement',\n",
    "                                              nlp = nlp).build()"
   ]
  },
  {
   "cell_type": "markdown",
   "metadata": {},
   "source": [
    "# Find the top words used by the candidates in the 3rd debate"
   ]
  },
  {
   "cell_type": "code",
   "execution_count": 8,
   "metadata": {
    "collapsed": false
   },
   "outputs": [
    {
     "name": "stdout",
     "output_type": "stream",
     "text": [
      "Trump top terms\n",
      "Index(['hillary', 'bad', 'she wants', 'you have', 'the border', 'and she',\n",
      "       'justices', 'signed', 'no idea', 'percent', 'deals', 'strong',\n",
      "       'a disaster', 'outsmarted', 'she 's', '$ 6', '6', 'have no', 'the baby',\n",
      "       'baby'],\n",
      "      dtype='object', name='term')\n",
      "Clinton top terms\n",
      "Index(['women', 'kind of', 'against', 'that is', 'stand', 'work',\n",
      "       'undocumented', 'also', 'most', 'stand up', 'the debt', 'rights',\n",
      "       'guns', 'the kind', 'immigrants', 'million', 'against it', 'security',\n",
      "       'v. wade', 'opportunities'],\n",
      "      dtype='object', name='term')\n"
     ]
    }
   ],
   "source": [
    "term_df = debate_3.get_term_freq_df()\n",
    "\n",
    "term_df['Trump'] = debate_3.get_scaled_f_scores('TRUMP')\n",
    "term_df['Clinton'] = debate_3.get_scaled_f_scores('CLINTON')\n",
    "print('Trump top terms')\n",
    "print(term_df.sort_values(by='Trump', ascending=False).iloc[:20].index)\n",
    "print('Clinton top terms')\n",
    "print(term_df.sort_values(by='Clinton', ascending=False).iloc[:20].index)"
   ]
  },
  {
   "cell_type": "code",
   "execution_count": 9,
   "metadata": {
    "collapsed": false
   },
   "outputs": [
    {
     "data": {
      "text/html": [
       "\n",
       "        <iframe\n",
       "            width=\"1000\"\n",
       "            height=\"1000\"\n",
       "            src=\"clinton-trumpThird Debate.html\"\n",
       "            frameborder=\"0\"\n",
       "            allowfullscreen\n",
       "        ></iframe>\n",
       "        "
      ],
      "text/plain": [
       "<IPython.lib.display.IFrame at 0x1851f1828>"
      ]
     },
     "execution_count": 9,
     "metadata": {},
     "output_type": "execute_result"
    }
   ],
   "source": [
    "draw_plot(df_3rd, 'CLINTON', 'TRUMP', 'speaker', 'Third Debate')\n"
   ]
  },
  {
   "cell_type": "markdown",
   "metadata": {},
   "source": [
    "## Find most characteristic terms used by Trump and Clinton"
   ]
  },
  {
   "cell_type": "code",
   "execution_count": 10,
   "metadata": {
    "collapsed": false,
    "scrolled": false
   },
   "outputs": [
    {
     "name": "stdout",
     "output_type": "stream",
     "text": [
      "Trump top terms\n",
      "Index(['secretary clinton', 'clinton', 'tell you', 'leaving', 'agree',\n",
      "       'should have', 'i 'll', 'you were', 'politicians', 'the war', 'wrong',\n",
      "       'but you', 'tremendous', 'the way', 'our jobs', 'i just', 'she does',\n",
      "       'very very', 'chicago', 'i agree'],\n",
      "      dtype='object', name='term')\n",
      "Clinton top terms\n",
      "Index(['need to', ''ve got', 'that he', 'information', 'proposed', 'justice',\n",
      "       'national', 'everyone', 'people who', 'us to', 'about what', 'part',\n",
      "       'at home', 'not just', 'hope', 'incomes', 'kinds', 'the debt',\n",
      "       'criminal', 'looked at'],\n",
      "      dtype='object', name='term')\n"
     ]
    }
   ],
   "source": [
    "term_df = corpus.get_term_freq_df()\n",
    "\n",
    "term_df['Trump'] = corpus.get_scaled_f_scores('TRUMP')\n",
    "term_df['Clinton'] = corpus.get_scaled_f_scores('CLINTON')\n",
    "print('Trump top terms')\n",
    "print(term_df.sort_values(by='Trump', ascending=False).iloc[:20].index)\n",
    "print('Clinton top terms')\n",
    "print(term_df.sort_values(by='Clinton', ascending=False).iloc[:20].index)"
   ]
  },
  {
   "cell_type": "markdown",
   "metadata": {},
   "source": [
    "# Comare Clinton and Trump's 1st debate"
   ]
  },
  {
   "cell_type": "code",
   "execution_count": 11,
   "metadata": {
    "collapsed": false
   },
   "outputs": [
    {
     "data": {
      "text/html": [
       "\n",
       "        <iframe\n",
       "            width=\"1000\"\n",
       "            height=\"1000\"\n",
       "            src=\"clinton-trump1st.html\"\n",
       "            frameborder=\"0\"\n",
       "            allowfullscreen\n",
       "        ></iframe>\n",
       "        "
      ],
      "text/plain": [
       "<IPython.lib.display.IFrame at 0x11ecfe6d8>"
      ]
     },
     "execution_count": 11,
     "metadata": {},
     "output_type": "execute_result"
    }
   ],
   "source": [
    "draw_plot(df, 'CLINTON', 'TRUMP', 'speaker', '1st')\n"
   ]
  },
  {
   "cell_type": "markdown",
   "metadata": {},
   "source": [
    "# Comare Clinton and Trump's 2nd debate"
   ]
  },
  {
   "cell_type": "code",
   "execution_count": 12,
   "metadata": {
    "collapsed": false
   },
   "outputs": [
    {
     "data": {
      "text/html": [
       "\n",
       "        <iframe\n",
       "            width=\"1000\"\n",
       "            height=\"1000\"\n",
       "            src=\"clinton-trump2nd.html\"\n",
       "            frameborder=\"0\"\n",
       "            allowfullscreen\n",
       "        ></iframe>\n",
       "        "
      ],
      "text/plain": [
       "<IPython.lib.display.IFrame at 0x11ed5cc18>"
      ]
     },
     "execution_count": 12,
     "metadata": {},
     "output_type": "execute_result"
    }
   ],
   "source": [
    "draw_plot(df_2nd, 'CLINTON', 'TRUMP', 'speaker', '2nd')"
   ]
  },
  {
   "cell_type": "markdown",
   "metadata": {
    "collapsed": false,
    "scrolled": false
   },
   "source": [
    "# Compare Trump's 1st and 2nd Debates"
   ]
  },
  {
   "cell_type": "code",
   "execution_count": 13,
   "metadata": {
    "collapsed": false
   },
   "outputs": [
    {
     "data": {
      "text/html": [
       "\n",
       "        <iframe\n",
       "            width=\"1000\"\n",
       "            height=\"1000\"\n",
       "            src=\"trump 1st-trump 2nd.html\"\n",
       "            frameborder=\"0\"\n",
       "            allowfullscreen\n",
       "        ></iframe>\n",
       "        "
      ],
      "text/plain": [
       "<IPython.lib.display.IFrame at 0x11eca2fd0>"
      ]
     },
     "execution_count": 13,
     "metadata": {},
     "output_type": "execute_result"
    }
   ],
   "source": [
    "draw_plot(df_all, 'TRUMP 1st', 'TRUMP 2nd', 'speaker and debate')"
   ]
  },
  {
   "cell_type": "markdown",
   "metadata": {},
   "source": [
    "# Compare Clinton's 1st and 2nd Debates"
   ]
  },
  {
   "cell_type": "code",
   "execution_count": 14,
   "metadata": {
    "collapsed": false
   },
   "outputs": [
    {
     "data": {
      "text/html": [
       "\n",
       "        <iframe\n",
       "            width=\"1000\"\n",
       "            height=\"1000\"\n",
       "            src=\"clinton 1st-clinton 2nd.html\"\n",
       "            frameborder=\"0\"\n",
       "            allowfullscreen\n",
       "        ></iframe>\n",
       "        "
      ],
      "text/plain": [
       "<IPython.lib.display.IFrame at 0x1851d7470>"
      ]
     },
     "execution_count": 14,
     "metadata": {},
     "output_type": "execute_result"
    }
   ],
   "source": [
    "draw_plot(df_all, 'CLINTON 1st', 'CLINTON 2nd', 'speaker and debate')"
   ]
  },
  {
   "cell_type": "markdown",
   "metadata": {},
   "source": [
    "# Compare Clinton to Kaine"
   ]
  },
  {
   "cell_type": "code",
   "execution_count": 15,
   "metadata": {
    "collapsed": false
   },
   "outputs": [
    {
     "data": {
      "text/html": [
       "\n",
       "        <iframe\n",
       "            width=\"1000\"\n",
       "            height=\"1000\"\n",
       "            src=\"clinton-kaine.html\"\n",
       "            frameborder=\"0\"\n",
       "            allowfullscreen\n",
       "        ></iframe>\n",
       "        "
      ],
      "text/plain": [
       "<IPython.lib.display.IFrame at 0x11ed5c3c8>"
      ]
     },
     "execution_count": 15,
     "metadata": {},
     "output_type": "execute_result"
    }
   ],
   "source": [
    "draw_plot(df_all, 'CLINTON', 'KAINE', 'speaker')"
   ]
  },
  {
   "cell_type": "markdown",
   "metadata": {},
   "source": [
    "# Compare Trump to Pence"
   ]
  },
  {
   "cell_type": "code",
   "execution_count": 16,
   "metadata": {
    "collapsed": false
   },
   "outputs": [
    {
     "data": {
      "text/html": [
       "\n",
       "        <iframe\n",
       "            width=\"1000\"\n",
       "            height=\"1000\"\n",
       "            src=\"trump-pence.html\"\n",
       "            frameborder=\"0\"\n",
       "            allowfullscreen\n",
       "        ></iframe>\n",
       "        "
      ],
      "text/plain": [
       "<IPython.lib.display.IFrame at 0x11ece82e8>"
      ]
     },
     "execution_count": 16,
     "metadata": {},
     "output_type": "execute_result"
    }
   ],
   "source": [
    "draw_plot(df_all, 'TRUMP', 'PENCE', 'speaker')"
   ]
  },
  {
   "cell_type": "markdown",
   "metadata": {},
   "source": [
    "# The VP Debate"
   ]
  },
  {
   "cell_type": "code",
   "execution_count": 17,
   "metadata": {
    "collapsed": false
   },
   "outputs": [
    {
     "data": {
      "text/html": [
       "\n",
       "        <iframe\n",
       "            width=\"1000\"\n",
       "            height=\"1000\"\n",
       "            src=\"kaine-pence.html\"\n",
       "            frameborder=\"0\"\n",
       "            allowfullscreen\n",
       "        ></iframe>\n",
       "        "
      ],
      "text/plain": [
       "<IPython.lib.display.IFrame at 0x11ed26710>"
      ]
     },
     "execution_count": 17,
     "metadata": {},
     "output_type": "execute_result"
    }
   ],
   "source": [
    "draw_plot(df, 'KAINE', 'PENCE', 'speaker')"
   ]
  },
  {
   "cell_type": "markdown",
   "metadata": {},
   "source": [
    "# Compare Democrats to Republicans"
   ]
  },
  {
   "cell_type": "code",
   "execution_count": 18,
   "metadata": {
    "collapsed": false
   },
   "outputs": [
    {
     "data": {
      "text/html": [
       "\n",
       "        <iframe\n",
       "            width=\"1000\"\n",
       "            height=\"1000\"\n",
       "            src=\"democratic-republican.html\"\n",
       "            frameborder=\"0\"\n",
       "            allowfullscreen\n",
       "        ></iframe>\n",
       "        "
      ],
      "text/plain": [
       "<IPython.lib.display.IFrame at 0x106513a58>"
      ]
     },
     "execution_count": 18,
     "metadata": {},
     "output_type": "execute_result"
    }
   ],
   "source": [
    "draw_plot(df_all, 'Democratic', 'Republican', 'party')"
   ]
  },
  {
   "cell_type": "markdown",
   "metadata": {
    "collapsed": false
   },
   "source": [
    "# Compare the 1st to the 2nd debate"
   ]
  },
  {
   "cell_type": "code",
   "execution_count": 19,
   "metadata": {
    "collapsed": false
   },
   "outputs": [
    {
     "data": {
      "text/html": [
       "\n",
       "        <iframe\n",
       "            width=\"1000\"\n",
       "            height=\"1000\"\n",
       "            src=\"1st-2nd.html\"\n",
       "            frameborder=\"0\"\n",
       "            allowfullscreen\n",
       "        ></iframe>\n",
       "        "
      ],
      "text/plain": [
       "<IPython.lib.display.IFrame at 0x117d8fdd8>"
      ]
     },
     "execution_count": 19,
     "metadata": {},
     "output_type": "execute_result"
    }
   ],
   "source": [
    "draw_plot(df_all, '1st', '2nd', 'debate')"
   ]
  },
  {
   "cell_type": "code",
   "execution_count": 20,
   "metadata": {
    "collapsed": false
   },
   "outputs": [
    {
     "data": {
      "text/html": [
       "\n",
       "        <iframe\n",
       "            width=\"1000\"\n",
       "            height=\"1000\"\n",
       "            src=\"3rd-1st.html\"\n",
       "            frameborder=\"0\"\n",
       "            allowfullscreen\n",
       "        ></iframe>\n",
       "        "
      ],
      "text/plain": [
       "<IPython.lib.display.IFrame at 0x11ecf8a90>"
      ]
     },
     "execution_count": 20,
     "metadata": {},
     "output_type": "execute_result"
    }
   ],
   "source": [
    "draw_plot(df_all, '3rd', '1st', 'debate')"
   ]
  },
  {
   "cell_type": "code",
   "execution_count": null,
   "metadata": {
    "collapsed": true
   },
   "outputs": [],
   "source": []
  }
 ],
 "metadata": {
  "anaconda-cloud": {},
  "kernelspec": {
   "display_name": "Python [Root]",
   "language": "python",
   "name": "Python [Root]"
  },
  "language_info": {
   "codemirror_mode": {
    "name": "ipython",
    "version": 3
   },
   "file_extension": ".py",
   "mimetype": "text/x-python",
   "name": "python",
   "nbconvert_exporter": "python",
   "pygments_lexer": "ipython3",
   "version": "3.5.2"
  }
 },
 "nbformat": 4,
 "nbformat_minor": 0
}

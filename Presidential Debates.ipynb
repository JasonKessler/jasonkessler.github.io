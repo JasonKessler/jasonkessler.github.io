{
 "cells": [
  {
   "cell_type": "code",
   "execution_count": 1,
   "metadata": {
    "collapsed": false
   },
   "outputs": [],
   "source": [
    "import scattertext as st\n",
    "import re\n",
    "from pprint import pprint\n",
    "import pandas as pd\n",
    "import spacy.en\n",
    "from IPython.display import IFrame"
   ]
  },
  {
   "cell_type": "code",
   "execution_count": 2,
   "metadata": {
    "collapsed": true
   },
   "outputs": [],
   "source": [
    "nlp = spacy.en.English()"
   ]
  },
  {
   "cell_type": "code",
   "execution_count": 3,
   "metadata": {
    "collapsed": false
   },
   "outputs": [],
   "source": [
    "def debate_transcript_to_dataframe(fn, speakers):\n",
    "    lines = open(fn).read().split('\\n')\n",
    "    cur_speaker = None\n",
    "    speaker_start_re = re.compile(r'^([(]?[A-Z][A-Z][A-Z]+):?(.+)$')\n",
    "    transcript = []\n",
    "    cur_statement = ''\n",
    "    cur_speaker = None\n",
    "    for line in lines:\n",
    "        match = speaker_start_re.match(line)\n",
    "        if match:\n",
    "            if match.group(1).startswith('('):\n",
    "                continue\n",
    "            if cur_speaker is not None:\n",
    "                transcript.append({'speaker': cur_speaker, 'statement': cur_statement})\n",
    "            cur_speaker = match.group(1).strip()\n",
    "            cur_statement = match.group(2).strip() + '\\n'\n",
    "            for other_name in speakers:\n",
    "                if other_name+':' in cur_statement:\n",
    "                    cur_statement, other_statement = cur_statement.split(other_name)\n",
    "                    transcript.append({'speaker': cur_speaker, 'statement': cur_statement.strip()})\n",
    "                    transcript.append({'speaker': other_name, 'statement': other_statement.strip()})   \n",
    "        else:\n",
    "            cur_statement += line \n",
    "    df = pd.DataFrame(transcript)\n",
    "    return df"
   ]
  },
  {
   "cell_type": "code",
   "execution_count": 56,
   "metadata": {
    "collapsed": false
   },
   "outputs": [],
   "source": [
    "parties = {'QUIJANO':'Moderator', \n",
    "           'KAINE':'Democratic', \n",
    "           'PENCE':'Republican', \n",
    "           'HOLT':'Moderator', \n",
    "           'CLINTON':'Democratic', \n",
    "           'TRUMP':'Republican',\n",
    "           'COOPER':'Moderator',\n",
    "           'RADDATZ':'Moderator'}\n",
    "df = pd.concat([\n",
    "        debate_transcript_to_dataframe('presidential-debate-2016-09-26.txt', ['TRUMP','CLINTON','HOLT']),\n",
    "        debate_transcript_to_dataframe('vp-debate-2016-10-04.txt', ['PENCE','KAINE','QUIJANO'])\n",
    "])\n",
    "df['party'] = df['speaker'].apply(lambda x: parties[x])\n",
    "df['speaker and debate']=df['speaker'].apply(lambda x: x + ' 1st')"
   ]
  },
  {
   "cell_type": "code",
   "execution_count": 70,
   "metadata": {
    "collapsed": false
   },
   "outputs": [],
   "source": [
    "def draw_plot(df, category, other_category, category_col, extra=''):\n",
    "    corpus = st.CorpusFromPandas(data_frame = df[(df[category_col] == category) \n",
    "                                                              | (df[category_col] == other_category)], \n",
    "                                              category_col = category_col, \n",
    "                                              text_col = 'statement',\n",
    "                                              nlp = nlp).build()\n",
    "    html = st.produce_scattertext_html(corpus, \n",
    "                                       category=category, \n",
    "                                       category_name=category.lower() +' Term', \n",
    "                                       not_category_name=other_category.lower() + ' Term',\n",
    "                                       protocol='https',\n",
    "                                       pmi_filter_thresold=2,\n",
    "                                       minimum_term_frequency=2)\n",
    "    file_name = category.lower() + '-' + other_category.lower() + extra + '.html'\n",
    "    open(file_name, 'wb').write(html.encode('utf-8'))\n",
    "    return IFrame(src=file_name, width = 1000, height=1000)"
   ]
  },
  {
   "cell_type": "code",
   "execution_count": 24,
   "metadata": {
    "collapsed": true
   },
   "outputs": [],
   "source": [
    "category, other_category, category_col = 'CLINTON', 'TRUMP', 'speaker'\n",
    "corpus = st.CorpusFromPandas(data_frame = df[(df[category_col] == category) \n",
    "                                                              | (df[category_col] == other_category)], \n",
    "                                              category_col = category_col, \n",
    "                                              text_col = 'statement',\n",
    "                                              nlp = nlp).build()"
   ]
  },
  {
   "cell_type": "code",
   "execution_count": 36,
   "metadata": {
    "collapsed": false,
    "scrolled": false
   },
   "outputs": [
    {
     "name": "stdout",
     "output_type": "stream",
     "text": [
      "Index(['clinton', 'secretary clinton', 'tell you', 'leaving', 'agree',\n",
      "       'but you', 'i 'll', 'you were', 'politicians', 'the war', 'tremendous',\n",
      "       'wrong', 'should have', 'the way', 'chicago', 'i just', 'very very',\n",
      "       'she does', 'our jobs', 'i agree'],\n",
      "      dtype='object', name='term')\n",
      "Index(['need to', ''ve got', 'that he', 'information', 'proposed', 'justice',\n",
      "       'everyone', 'about what', 'national', 'people who', 'us to', 'part',\n",
      "       'plans', 'too many', 'looked at', 'criminal justice', 'incomes', 'hope',\n",
      "       'not just', 'the debt'],\n",
      "      dtype='object', name='term')\n"
     ]
    }
   ],
   "source": [
    "term_df = corpus.get_term_freq_df()\n",
    "\n",
    "term_df['Trump'] = corpus.get_scaled_f_scores('TRUMP')\n",
    "term_df['Clinton'] = corpus.get_scaled_f_scores('CLINTON')\n",
    "print(term_df.sort_values(by='Trump', ascending=False).iloc[:20].index)\n",
    "print(term_df.sort_values(by='Clinton', ascending=False).iloc[:20].index)"
   ]
  },
  {
   "cell_type": "code",
   "execution_count": 59,
   "metadata": {
    "collapsed": false
   },
   "outputs": [
    {
     "data": {
      "text/html": [
       "\n",
       "        <iframe\n",
       "            width=\"1000\"\n",
       "            height=\"1000\"\n",
       "            src=\"clinton-trump2nd.html\"\n",
       "            frameborder=\"0\"\n",
       "            allowfullscreen\n",
       "        ></iframe>\n",
       "        "
      ],
      "text/plain": [
       "<IPython.lib.display.IFrame at 0x1199b8710>"
      ]
     },
     "execution_count": 59,
     "metadata": {},
     "output_type": "execute_result"
    }
   ],
   "source": [
    "df_2nd = pd.concat([\n",
    "        debate_transcript_to_dataframe('debate-2016-10-09-rush.txt', ['TRUMP','CLINTON','COOPER','RADDATZ'])\n",
    "])\n",
    "df_2nd['speaker and debate']=df_2nd['speaker'].apply(lambda x: x + ' 2nd')\n",
    "df_2nd['party'] = df_2nd['speaker'].apply(lambda x: parties[x])\n",
    "\n",
    "draw_plot(df_2nd, 'CLINTON', 'TRUMP', 'speaker', '2nd')\n"
   ]
  },
  {
   "cell_type": "code",
   "execution_count": 64,
   "metadata": {
    "collapsed": true
   },
   "outputs": [],
   "source": [
    "df_all = pd.concat([df, df_2nd.dropna()])\n"
   ]
  },
  {
   "cell_type": "code",
   "execution_count": 67,
   "metadata": {
    "collapsed": false
   },
   "outputs": [
    {
     "data": {
      "text/html": [
       "<div>\n",
       "<table border=\"1\" class=\"dataframe\">\n",
       "  <thead>\n",
       "    <tr style=\"text-align: right;\">\n",
       "      <th></th>\n",
       "      <th>party</th>\n",
       "      <th>speaker</th>\n",
       "      <th>speaker and debate</th>\n",
       "      <th>statement</th>\n",
       "    </tr>\n",
       "  </thead>\n",
       "  <tbody>\n",
       "    <tr>\n",
       "      <th>0</th>\n",
       "      <td>Moderator</td>\n",
       "      <td>HOLT</td>\n",
       "      <td>HOLT 1st</td>\n",
       "      <td>Good evening from Hofstra University in Hempst...</td>\n",
       "    </tr>\n",
       "    <tr>\n",
       "      <th>1</th>\n",
       "      <td>Democratic</td>\n",
       "      <td>CLINTON</td>\n",
       "      <td>CLINTON 1st</td>\n",
       "      <td>How are you, Donald?\\n</td>\n",
       "    </tr>\n",
       "    <tr>\n",
       "      <th>2</th>\n",
       "      <td>Moderator</td>\n",
       "      <td>HOLT</td>\n",
       "      <td>HOLT 1st</td>\n",
       "      <td>Good luck to you.\\nWell, I don't expect us to ...</td>\n",
       "    </tr>\n",
       "    <tr>\n",
       "      <th>3</th>\n",
       "      <td>Democratic</td>\n",
       "      <td>CLINTON</td>\n",
       "      <td>CLINTON 1st</td>\n",
       "      <td>Well, thank you, Lester, and thanks to Hofstra...</td>\n",
       "    </tr>\n",
       "    <tr>\n",
       "      <th>4</th>\n",
       "      <td>Democratic</td>\n",
       "      <td>CLINTON</td>\n",
       "      <td>CLINTON 1st</td>\n",
       "      <td>I also want to see more companies do profit-sh...</td>\n",
       "    </tr>\n",
       "    <tr>\n",
       "      <th>5</th>\n",
       "      <td>Moderator</td>\n",
       "      <td>HOLT</td>\n",
       "      <td>HOLT 1st</td>\n",
       "      <td>Secretary Clinton, thank you.\\nMr. Trump, the ...</td>\n",
       "    </tr>\n",
       "    <tr>\n",
       "      <th>6</th>\n",
       "      <td>Republican</td>\n",
       "      <td>TRUMP</td>\n",
       "      <td>TRUMP 1st</td>\n",
       "      <td>Thank you, Lester. Our jobs are fleeing the co...</td>\n",
       "    </tr>\n",
       "    <tr>\n",
       "      <th>7</th>\n",
       "      <td>Republican</td>\n",
       "      <td>TRUMP</td>\n",
       "      <td>TRUMP 1st</td>\n",
       "      <td>We cannot let it happen. Under my plan, I'll b...</td>\n",
       "    </tr>\n",
       "    <tr>\n",
       "      <th>8</th>\n",
       "      <td>Moderator</td>\n",
       "      <td>HOLT</td>\n",
       "      <td>HOLT 1st</td>\n",
       "      <td>Secretary Clinton, would you like to respond?\\n</td>\n",
       "    </tr>\n",
       "    <tr>\n",
       "      <th>9</th>\n",
       "      <td>Democratic</td>\n",
       "      <td>CLINTON</td>\n",
       "      <td>CLINTON 1st</td>\n",
       "      <td>Well, I think that trade is an important issue...</td>\n",
       "    </tr>\n",
       "    <tr>\n",
       "      <th>10</th>\n",
       "      <td>Moderator</td>\n",
       "      <td>HOLT</td>\n",
       "      <td>HOLT 1st</td>\n",
       "      <td>Let me follow up with Mr. Trump, if you can. Y...</td>\n",
       "    </tr>\n",
       "    <tr>\n",
       "      <th>11</th>\n",
       "      <td>Republican</td>\n",
       "      <td>TRUMP</td>\n",
       "      <td>TRUMP 1st</td>\n",
       "      <td>Well, for one thing -- and before we start on ...</td>\n",
       "    </tr>\n",
       "    <tr>\n",
       "      <th>12</th>\n",
       "      <td>Moderator</td>\n",
       "      <td>HOLT</td>\n",
       "      <td>HOLT 1st</td>\n",
       "      <td>Let me interrupt just a moment, but...\\n</td>\n",
       "    </tr>\n",
       "    <tr>\n",
       "      <th>13</th>\n",
       "      <td>Republican</td>\n",
       "      <td>TRUMP</td>\n",
       "      <td>TRUMP 1st</td>\n",
       "      <td>Secretary Clinton and others, politicians, sho...</td>\n",
       "    </tr>\n",
       "    <tr>\n",
       "      <th>14</th>\n",
       "      <td>Moderator</td>\n",
       "      <td>HOLT</td>\n",
       "      <td>HOLT 1st</td>\n",
       "      <td>: Back to the question, though. How do you bri...</td>\n",
       "    </tr>\n",
       "    <tr>\n",
       "      <th>15</th>\n",
       "      <td>Republican</td>\n",
       "      <td>TRUMP</td>\n",
       "      <td>TRUMP 1st</td>\n",
       "      <td>Secretary Clinton and others, politicians, sho...</td>\n",
       "    </tr>\n",
       "    <tr>\n",
       "      <th>16</th>\n",
       "      <td>Republican</td>\n",
       "      <td>TRUMP</td>\n",
       "      <td>TRUMP 1st</td>\n",
       "      <td>Well, the first thing you do is don't let the ...</td>\n",
       "    </tr>\n",
       "    <tr>\n",
       "      <th>17</th>\n",
       "      <td>Moderator</td>\n",
       "      <td>HOLT</td>\n",
       "      <td>HOLT 1st</td>\n",
       "      <td>Let me let Secretary Clinton get in here.\\n</td>\n",
       "    </tr>\n",
       "    <tr>\n",
       "      <th>18</th>\n",
       "      <td>Democratic</td>\n",
       "      <td>CLINTON</td>\n",
       "      <td>CLINTON 1st</td>\n",
       "      <td>Well, let's stop for a second and remember whe...</td>\n",
       "    </tr>\n",
       "    <tr>\n",
       "      <th>19</th>\n",
       "      <td>Republican</td>\n",
       "      <td>TRUMP</td>\n",
       "      <td>TRUMP 1st</td>\n",
       "      <td>That's called business, by the way.\\n</td>\n",
       "    </tr>\n",
       "    <tr>\n",
       "      <th>20</th>\n",
       "      <td>Democratic</td>\n",
       "      <td>CLINTON</td>\n",
       "      <td>CLINTON 1st</td>\n",
       "      <td>Nine million people -- nine million people los...</td>\n",
       "    </tr>\n",
       "    <tr>\n",
       "      <th>21</th>\n",
       "      <td>Republican</td>\n",
       "      <td>TRUMP</td>\n",
       "      <td>TRUMP 1st</td>\n",
       "      <td>I did not. I did not. I do not say that.\\n</td>\n",
       "    </tr>\n",
       "    <tr>\n",
       "      <th>22</th>\n",
       "      <td>Democratic</td>\n",
       "      <td>CLINTON</td>\n",
       "      <td>CLINTON 1st</td>\n",
       "      <td>I think science is real.\\n</td>\n",
       "    </tr>\n",
       "    <tr>\n",
       "      <th>23</th>\n",
       "      <td>Republican</td>\n",
       "      <td>TRUMP</td>\n",
       "      <td>TRUMP 1st</td>\n",
       "      <td>I do not say that.\\n</td>\n",
       "    </tr>\n",
       "    <tr>\n",
       "      <th>24</th>\n",
       "      <td>Democratic</td>\n",
       "      <td>CLINTON</td>\n",
       "      <td>CLINTON 1st</td>\n",
       "      <td>And I think it's important that we grip this a...</td>\n",
       "    </tr>\n",
       "    <tr>\n",
       "      <th>25</th>\n",
       "      <td>Moderator</td>\n",
       "      <td>HOLT</td>\n",
       "      <td>HOLT 1st</td>\n",
       "      <td>Mr. Trump?\\n</td>\n",
       "    </tr>\n",
       "    <tr>\n",
       "      <th>26</th>\n",
       "      <td>Republican</td>\n",
       "      <td>TRUMP</td>\n",
       "      <td>TRUMP 1st</td>\n",
       "      <td>She talks about solar panels. We invested in a...</td>\n",
       "    </tr>\n",
       "    <tr>\n",
       "      <th>27</th>\n",
       "      <td>Democratic</td>\n",
       "      <td>CLINTON</td>\n",
       "      <td>CLINTON 1st</td>\n",
       "      <td>Well, actually...\\n</td>\n",
       "    </tr>\n",
       "    <tr>\n",
       "      <th>28</th>\n",
       "      <td>Republican</td>\n",
       "      <td>TRUMP</td>\n",
       "      <td>TRUMP 1st</td>\n",
       "      <td>I will bring -- excuse me. I will bring back j...</td>\n",
       "    </tr>\n",
       "    <tr>\n",
       "      <th>29</th>\n",
       "      <td>Democratic</td>\n",
       "      <td>CLINTON</td>\n",
       "      <td>CLINTON 1st</td>\n",
       "      <td>Well, actually, I have thought about this quit...</td>\n",
       "    </tr>\n",
       "    <tr>\n",
       "      <th>...</th>\n",
       "      <td>...</td>\n",
       "      <td>...</td>\n",
       "      <td>...</td>\n",
       "      <td>...</td>\n",
       "    </tr>\n",
       "    <tr>\n",
       "      <th>81</th>\n",
       "      <td>Moderator</td>\n",
       "      <td>RADDATZ</td>\n",
       "      <td>RADDATZ 2nd</td>\n",
       "      <td>Very quickly, please.\\n</td>\n",
       "    </tr>\n",
       "    <tr>\n",
       "      <th>82</th>\n",
       "      <td>Republican</td>\n",
       "      <td>TRUMP</td>\n",
       "      <td>TRUMP 2nd</td>\n",
       "      <td>Hillary Clinton in terms of having people come...</td>\n",
       "    </tr>\n",
       "    <tr>\n",
       "      <th>83</th>\n",
       "      <td>Moderator</td>\n",
       "      <td>COOPER</td>\n",
       "      <td>COOPER 2nd</td>\n",
       "      <td>I want to move op. This next question from the...</td>\n",
       "    </tr>\n",
       "    <tr>\n",
       "      <th>84</th>\n",
       "      <td>Democratic</td>\n",
       "      <td>CLINTON</td>\n",
       "      <td>CLINTON 2nd</td>\n",
       "      <td>Right, as I recall, that was something I said ...</td>\n",
       "    </tr>\n",
       "    <tr>\n",
       "      <th>85</th>\n",
       "      <td>Republican</td>\n",
       "      <td>TRUMP</td>\n",
       "      <td>TRUMP 2nd</td>\n",
       "      <td>I think I should respond because so ridiculous...</td>\n",
       "    </tr>\n",
       "    <tr>\n",
       "      <th>86</th>\n",
       "      <td>Moderator</td>\n",
       "      <td>COOPER</td>\n",
       "      <td>COOPER 2nd</td>\n",
       "      <td>We have a question from Spencer Moss. Spencer?...</td>\n",
       "    </tr>\n",
       "    <tr>\n",
       "      <th>87</th>\n",
       "      <td>Republican</td>\n",
       "      <td>TRUMP</td>\n",
       "      <td>TRUMP 2nd</td>\n",
       "      <td>One thing I would do is get rid of carried int...</td>\n",
       "    </tr>\n",
       "    <tr>\n",
       "      <th>88</th>\n",
       "      <td>Democratic</td>\n",
       "      <td>CLINTON</td>\n",
       "      <td>CLINTON 2nd</td>\n",
       "      <td>Well, everything you've heard everywhere Donal...</td>\n",
       "    </tr>\n",
       "    <tr>\n",
       "      <th>89</th>\n",
       "      <td>Moderator</td>\n",
       "      <td>COOPER</td>\n",
       "      <td>COOPER 2nd</td>\n",
       "      <td>Mr. Trump, I want to give you the chance to re...</td>\n",
       "    </tr>\n",
       "    <tr>\n",
       "      <th>90</th>\n",
       "      <td>Moderator</td>\n",
       "      <td>COOPER</td>\n",
       "      <td>COOPER 2nd</td>\n",
       "      <td>Have you paid personal federal tax?\\n</td>\n",
       "    </tr>\n",
       "    <tr>\n",
       "      <th>91</th>\n",
       "      <td>Republican</td>\n",
       "      <td>TRUMP</td>\n",
       "      <td>TRUMP 2nd</td>\n",
       "      <td>A lot of my write-off was depreciation and tha...</td>\n",
       "    </tr>\n",
       "    <tr>\n",
       "      <th>92</th>\n",
       "      <td>Moderator</td>\n",
       "      <td>COOPER</td>\n",
       "      <td>COOPER 2nd</td>\n",
       "      <td>Can you say how many years you have avoided pa...</td>\n",
       "    </tr>\n",
       "    <tr>\n",
       "      <th>93</th>\n",
       "      <td>Moderator</td>\n",
       "      <td>COOPER</td>\n",
       "      <td>COOPER 2nd</td>\n",
       "      <td>Have you paid personal federal tax?\\n</td>\n",
       "    </tr>\n",
       "    <tr>\n",
       "      <th>94</th>\n",
       "      <td>Republican</td>\n",
       "      <td>TRUMP</td>\n",
       "      <td>TRUMP 2nd</td>\n",
       "      <td>A lot of my write-off was depreciation and tha...</td>\n",
       "    </tr>\n",
       "    <tr>\n",
       "      <th>95</th>\n",
       "      <td>Moderator</td>\n",
       "      <td>COOPER</td>\n",
       "      <td>COOPER 2nd</td>\n",
       "      <td>Can you say how many years you have avoided pa...</td>\n",
       "    </tr>\n",
       "    <tr>\n",
       "      <th>96</th>\n",
       "      <td>Republican</td>\n",
       "      <td>TRUMP</td>\n",
       "      <td>TRUMP 2nd</td>\n",
       "      <td>No, but I pay tax and pay federal tax, too. I ...</td>\n",
       "    </tr>\n",
       "    <tr>\n",
       "      <th>97</th>\n",
       "      <td>Democratic</td>\n",
       "      <td>CLINTON</td>\n",
       "      <td>CLINTON 2nd</td>\n",
       "      <td>Well, here we go again. I've been in favor of ...</td>\n",
       "    </tr>\n",
       "    <tr>\n",
       "      <th>98</th>\n",
       "      <td>Republican</td>\n",
       "      <td>TRUMP</td>\n",
       "      <td>TRUMP 2nd</td>\n",
       "      <td>Why didn't you do it? Why didn't you do it.\\n</td>\n",
       "    </tr>\n",
       "    <tr>\n",
       "      <th>99</th>\n",
       "      <td>Democratic</td>\n",
       "      <td>CLINTON</td>\n",
       "      <td>CLINTON 2nd</td>\n",
       "      <td>Because I was a senator with a Republican pres...</td>\n",
       "    </tr>\n",
       "    <tr>\n",
       "      <th>100</th>\n",
       "      <td>Republican</td>\n",
       "      <td>TRUMP</td>\n",
       "      <td>TRUMP 2nd</td>\n",
       "      <td>You could have done it if you were an effectiv...</td>\n",
       "    </tr>\n",
       "    <tr>\n",
       "      <th>101</th>\n",
       "      <td>Democratic</td>\n",
       "      <td>CLINTON</td>\n",
       "      <td>CLINTON 2nd</td>\n",
       "      <td>That's exactly right.\\n</td>\n",
       "    </tr>\n",
       "    <tr>\n",
       "      <th>102</th>\n",
       "      <td>Republican</td>\n",
       "      <td>TRUMP</td>\n",
       "      <td>TRUMP 2nd</td>\n",
       "      <td>If you were an effective senator, could you ha...</td>\n",
       "    </tr>\n",
       "    <tr>\n",
       "      <th>103</th>\n",
       "      <td>Moderator</td>\n",
       "      <td>COOPER</td>\n",
       "      <td>COOPER 2nd</td>\n",
       "      <td>Please allow her to respond. She didn't interr...</td>\n",
       "    </tr>\n",
       "    <tr>\n",
       "      <th>104</th>\n",
       "      <td>Democratic</td>\n",
       "      <td>CLINTON</td>\n",
       "      <td>CLINTON 2nd</td>\n",
       "      <td>Under our constitution, presidents have someth...</td>\n",
       "    </tr>\n",
       "    <tr>\n",
       "      <th>105</th>\n",
       "      <td>Moderator</td>\n",
       "      <td>RADDATZ</td>\n",
       "      <td>RADDATZ 2nd</td>\n",
       "      <td>Thank you, secretary.\\n</td>\n",
       "    </tr>\n",
       "    <tr>\n",
       "      <th>106</th>\n",
       "      <td>Democratic</td>\n",
       "      <td>CLINTON</td>\n",
       "      <td>CLINTON 2nd</td>\n",
       "      <td>I've proven that I can and for 30 years, I've ...</td>\n",
       "    </tr>\n",
       "    <tr>\n",
       "      <th>107</th>\n",
       "      <td>Moderator</td>\n",
       "      <td>RADDATZ</td>\n",
       "      <td>RADDATZ 2nd</td>\n",
       "      <td>Thank you, secretary.\\n</td>\n",
       "    </tr>\n",
       "    <tr>\n",
       "      <th>108</th>\n",
       "      <td>Moderator</td>\n",
       "      <td>RADDATZ</td>\n",
       "      <td>RADDATZ 2nd</td>\n",
       "      <td>We're going to move on to Syria. Both of you h...</td>\n",
       "    </tr>\n",
       "    <tr>\n",
       "      <th>109</th>\n",
       "      <td>Republican</td>\n",
       "      <td>TRUMP</td>\n",
       "      <td>TRUMP 2nd</td>\n",
       "      <td>She said a lot of things that were false. I th...</td>\n",
       "    </tr>\n",
       "    <tr>\n",
       "      <th>110</th>\n",
       "      <td>Moderator</td>\n",
       "      <td>RADDATZ</td>\n",
       "      <td>RADDATZ 2nd</td>\n",
       "      <td>Mr. Trump, this is about the audience.\\n</td>\n",
       "    </tr>\n",
       "  </tbody>\n",
       "</table>\n",
       "<p>956 rows × 4 columns</p>\n",
       "</div>"
      ],
      "text/plain": [
       "          party  speaker speaker and debate  \\\n",
       "0     Moderator     HOLT           HOLT 1st   \n",
       "1    Democratic  CLINTON        CLINTON 1st   \n",
       "2     Moderator     HOLT           HOLT 1st   \n",
       "3    Democratic  CLINTON        CLINTON 1st   \n",
       "4    Democratic  CLINTON        CLINTON 1st   \n",
       "5     Moderator     HOLT           HOLT 1st   \n",
       "6    Republican    TRUMP          TRUMP 1st   \n",
       "7    Republican    TRUMP          TRUMP 1st   \n",
       "8     Moderator     HOLT           HOLT 1st   \n",
       "9    Democratic  CLINTON        CLINTON 1st   \n",
       "10    Moderator     HOLT           HOLT 1st   \n",
       "11   Republican    TRUMP          TRUMP 1st   \n",
       "12    Moderator     HOLT           HOLT 1st   \n",
       "13   Republican    TRUMP          TRUMP 1st   \n",
       "14    Moderator     HOLT           HOLT 1st   \n",
       "15   Republican    TRUMP          TRUMP 1st   \n",
       "16   Republican    TRUMP          TRUMP 1st   \n",
       "17    Moderator     HOLT           HOLT 1st   \n",
       "18   Democratic  CLINTON        CLINTON 1st   \n",
       "19   Republican    TRUMP          TRUMP 1st   \n",
       "20   Democratic  CLINTON        CLINTON 1st   \n",
       "21   Republican    TRUMP          TRUMP 1st   \n",
       "22   Democratic  CLINTON        CLINTON 1st   \n",
       "23   Republican    TRUMP          TRUMP 1st   \n",
       "24   Democratic  CLINTON        CLINTON 1st   \n",
       "25    Moderator     HOLT           HOLT 1st   \n",
       "26   Republican    TRUMP          TRUMP 1st   \n",
       "27   Democratic  CLINTON        CLINTON 1st   \n",
       "28   Republican    TRUMP          TRUMP 1st   \n",
       "29   Democratic  CLINTON        CLINTON 1st   \n",
       "..          ...      ...                ...   \n",
       "81    Moderator  RADDATZ        RADDATZ 2nd   \n",
       "82   Republican    TRUMP          TRUMP 2nd   \n",
       "83    Moderator   COOPER         COOPER 2nd   \n",
       "84   Democratic  CLINTON        CLINTON 2nd   \n",
       "85   Republican    TRUMP          TRUMP 2nd   \n",
       "86    Moderator   COOPER         COOPER 2nd   \n",
       "87   Republican    TRUMP          TRUMP 2nd   \n",
       "88   Democratic  CLINTON        CLINTON 2nd   \n",
       "89    Moderator   COOPER         COOPER 2nd   \n",
       "90    Moderator   COOPER         COOPER 2nd   \n",
       "91   Republican    TRUMP          TRUMP 2nd   \n",
       "92    Moderator   COOPER         COOPER 2nd   \n",
       "93    Moderator   COOPER         COOPER 2nd   \n",
       "94   Republican    TRUMP          TRUMP 2nd   \n",
       "95    Moderator   COOPER         COOPER 2nd   \n",
       "96   Republican    TRUMP          TRUMP 2nd   \n",
       "97   Democratic  CLINTON        CLINTON 2nd   \n",
       "98   Republican    TRUMP          TRUMP 2nd   \n",
       "99   Democratic  CLINTON        CLINTON 2nd   \n",
       "100  Republican    TRUMP          TRUMP 2nd   \n",
       "101  Democratic  CLINTON        CLINTON 2nd   \n",
       "102  Republican    TRUMP          TRUMP 2nd   \n",
       "103   Moderator   COOPER         COOPER 2nd   \n",
       "104  Democratic  CLINTON        CLINTON 2nd   \n",
       "105   Moderator  RADDATZ        RADDATZ 2nd   \n",
       "106  Democratic  CLINTON        CLINTON 2nd   \n",
       "107   Moderator  RADDATZ        RADDATZ 2nd   \n",
       "108   Moderator  RADDATZ        RADDATZ 2nd   \n",
       "109  Republican    TRUMP          TRUMP 2nd   \n",
       "110   Moderator  RADDATZ        RADDATZ 2nd   \n",
       "\n",
       "                                             statement  \n",
       "0    Good evening from Hofstra University in Hempst...  \n",
       "1                               How are you, Donald?\\n  \n",
       "2    Good luck to you.\\nWell, I don't expect us to ...  \n",
       "3    Well, thank you, Lester, and thanks to Hofstra...  \n",
       "4    I also want to see more companies do profit-sh...  \n",
       "5    Secretary Clinton, thank you.\\nMr. Trump, the ...  \n",
       "6    Thank you, Lester. Our jobs are fleeing the co...  \n",
       "7    We cannot let it happen. Under my plan, I'll b...  \n",
       "8      Secretary Clinton, would you like to respond?\\n  \n",
       "9    Well, I think that trade is an important issue...  \n",
       "10   Let me follow up with Mr. Trump, if you can. Y...  \n",
       "11   Well, for one thing -- and before we start on ...  \n",
       "12            Let me interrupt just a moment, but...\\n  \n",
       "13   Secretary Clinton and others, politicians, sho...  \n",
       "14   : Back to the question, though. How do you bri...  \n",
       "15   Secretary Clinton and others, politicians, sho...  \n",
       "16   Well, the first thing you do is don't let the ...  \n",
       "17         Let me let Secretary Clinton get in here.\\n  \n",
       "18   Well, let's stop for a second and remember whe...  \n",
       "19               That's called business, by the way.\\n  \n",
       "20   Nine million people -- nine million people los...  \n",
       "21          I did not. I did not. I do not say that.\\n  \n",
       "22                          I think science is real.\\n  \n",
       "23                                I do not say that.\\n  \n",
       "24   And I think it's important that we grip this a...  \n",
       "25                                        Mr. Trump?\\n  \n",
       "26   She talks about solar panels. We invested in a...  \n",
       "27                                 Well, actually...\\n  \n",
       "28   I will bring -- excuse me. I will bring back j...  \n",
       "29   Well, actually, I have thought about this quit...  \n",
       "..                                                 ...  \n",
       "81                             Very quickly, please.\\n  \n",
       "82   Hillary Clinton in terms of having people come...  \n",
       "83   I want to move op. This next question from the...  \n",
       "84   Right, as I recall, that was something I said ...  \n",
       "85   I think I should respond because so ridiculous...  \n",
       "86   We have a question from Spencer Moss. Spencer?...  \n",
       "87   One thing I would do is get rid of carried int...  \n",
       "88   Well, everything you've heard everywhere Donal...  \n",
       "89   Mr. Trump, I want to give you the chance to re...  \n",
       "90               Have you paid personal federal tax?\\n  \n",
       "91   A lot of my write-off was depreciation and tha...  \n",
       "92   Can you say how many years you have avoided pa...  \n",
       "93               Have you paid personal federal tax?\\n  \n",
       "94   A lot of my write-off was depreciation and tha...  \n",
       "95   Can you say how many years you have avoided pa...  \n",
       "96   No, but I pay tax and pay federal tax, too. I ...  \n",
       "97   Well, here we go again. I've been in favor of ...  \n",
       "98       Why didn't you do it? Why didn't you do it.\\n  \n",
       "99   Because I was a senator with a Republican pres...  \n",
       "100  You could have done it if you were an effectiv...  \n",
       "101                            That's exactly right.\\n  \n",
       "102  If you were an effective senator, could you ha...  \n",
       "103  Please allow her to respond. She didn't interr...  \n",
       "104  Under our constitution, presidents have someth...  \n",
       "105                            Thank you, secretary.\\n  \n",
       "106  I've proven that I can and for 30 years, I've ...  \n",
       "107                            Thank you, secretary.\\n  \n",
       "108  We're going to move on to Syria. Both of you h...  \n",
       "109  She said a lot of things that were false. I th...  \n",
       "110           Mr. Trump, this is about the audience.\\n  \n",
       "\n",
       "[956 rows x 4 columns]"
      ]
     },
     "execution_count": 67,
     "metadata": {},
     "output_type": "execute_result"
    }
   ],
   "source": [
    "df_all"
   ]
  },
  {
   "cell_type": "code",
   "execution_count": 72,
   "metadata": {
    "collapsed": false
   },
   "outputs": [
    {
     "data": {
      "text/html": [
       "\n",
       "        <iframe\n",
       "            width=\"1000\"\n",
       "            height=\"1000\"\n",
       "            src=\"clinton 1st-trump 1st.html\"\n",
       "            frameborder=\"0\"\n",
       "            allowfullscreen\n",
       "        ></iframe>\n",
       "        "
      ],
      "text/plain": [
       "<IPython.lib.display.IFrame at 0x1195e1550>"
      ]
     },
     "execution_count": 72,
     "metadata": {},
     "output_type": "execute_result"
    }
   ],
   "source": [
    "draw_plot(df, 'CLINTON 1st', 'TRUMP 1st', 'speaker and debate')"
   ]
  },
  {
   "cell_type": "code",
   "execution_count": 76,
   "metadata": {
    "collapsed": false,
    "scrolled": false
   },
   "outputs": [
    {
     "data": {
      "text/html": [
       "\n",
       "        <iframe\n",
       "            width=\"1000\"\n",
       "            height=\"1000\"\n",
       "            src=\"clinton 2nd-trump 2nd.html\"\n",
       "            frameborder=\"0\"\n",
       "            allowfullscreen\n",
       "        ></iframe>\n",
       "        "
      ],
      "text/plain": [
       "<IPython.lib.display.IFrame at 0x1190e9c50>"
      ]
     },
     "execution_count": 76,
     "metadata": {},
     "output_type": "execute_result"
    }
   ],
   "source": [
    "draw_plot(df_2nd, 'CLINTON 2nd', 'TRUMP 2nd', 'speaker and debate')"
   ]
  },
  {
   "cell_type": "code",
   "execution_count": 69,
   "metadata": {
    "collapsed": false
   },
   "outputs": [
    {
     "data": {
      "text/html": [
       "\n",
       "        <iframe\n",
       "            width=\"1000\"\n",
       "            height=\"1000\"\n",
       "            src=\"trump 1st-trump 2nd.html\"\n",
       "            frameborder=\"0\"\n",
       "            allowfullscreen\n",
       "        ></iframe>\n",
       "        "
      ],
      "text/plain": [
       "<IPython.lib.display.IFrame at 0x119982cf8>"
      ]
     },
     "execution_count": 69,
     "metadata": {},
     "output_type": "execute_result"
    }
   ],
   "source": [
    "draw_plot(df_all, 'TRUMP 1st', 'TRUMP 2nd', 'speaker and debate')"
   ]
  },
  {
   "cell_type": "code",
   "execution_count": 73,
   "metadata": {
    "collapsed": false
   },
   "outputs": [
    {
     "data": {
      "text/html": [
       "\n",
       "        <iframe\n",
       "            width=\"1000\"\n",
       "            height=\"1000\"\n",
       "            src=\"clinton 1st-clinton 2nd.html\"\n",
       "            frameborder=\"0\"\n",
       "            allowfullscreen\n",
       "        ></iframe>\n",
       "        "
      ],
      "text/plain": [
       "<IPython.lib.display.IFrame at 0x1195df5f8>"
      ]
     },
     "execution_count": 73,
     "metadata": {},
     "output_type": "execute_result"
    }
   ],
   "source": [
    "draw_plot(df_all, 'CLINTON 1st', 'CLINTON 2nd', 'speaker and debate')"
   ]
  },
  {
   "cell_type": "code",
   "execution_count": 7,
   "metadata": {
    "collapsed": false
   },
   "outputs": [
    {
     "data": {
      "text/html": [
       "\n",
       "        <iframe\n",
       "            width=\"1000\"\n",
       "            height=\"1000\"\n",
       "            src=\"clinton-kaine.html\"\n",
       "            frameborder=\"0\"\n",
       "            allowfullscreen\n",
       "        ></iframe>\n",
       "        "
      ],
      "text/plain": [
       "<IPython.lib.display.IFrame at 0x185a06d30>"
      ]
     },
     "execution_count": 7,
     "metadata": {},
     "output_type": "execute_result"
    }
   ],
   "source": [
    "draw_plot(df, 'CLINTON', 'KAINE', 'speaker')"
   ]
  },
  {
   "cell_type": "code",
   "execution_count": 21,
   "metadata": {
    "collapsed": false
   },
   "outputs": [
    {
     "data": {
      "text/html": [
       "\n",
       "        <iframe\n",
       "            width=\"1000\"\n",
       "            height=\"1000\"\n",
       "            src=\"trump-pence.html\"\n",
       "            frameborder=\"0\"\n",
       "            allowfullscreen\n",
       "        ></iframe>\n",
       "        "
      ],
      "text/plain": [
       "<IPython.lib.display.IFrame at 0x150e740f0>"
      ]
     },
     "execution_count": 21,
     "metadata": {},
     "output_type": "execute_result"
    }
   ],
   "source": [
    "draw_plot(df, 'TRUMP', 'PENCE', 'speaker')"
   ]
  },
  {
   "cell_type": "code",
   "execution_count": 22,
   "metadata": {
    "collapsed": false
   },
   "outputs": [
    {
     "data": {
      "text/html": [
       "\n",
       "        <iframe\n",
       "            width=\"1000\"\n",
       "            height=\"1000\"\n",
       "            src=\"kaine-pence.html\"\n",
       "            frameborder=\"0\"\n",
       "            allowfullscreen\n",
       "        ></iframe>\n",
       "        "
      ],
      "text/plain": [
       "<IPython.lib.display.IFrame at 0x150e79f98>"
      ]
     },
     "execution_count": 22,
     "metadata": {},
     "output_type": "execute_result"
    }
   ],
   "source": [
    "draw_plot(df, 'KAINE', 'PENCE', 'speaker')"
   ]
  },
  {
   "cell_type": "code",
   "execution_count": 23,
   "metadata": {
    "collapsed": false
   },
   "outputs": [
    {
     "data": {
      "text/html": [
       "\n",
       "        <iframe\n",
       "            width=\"1000\"\n",
       "            height=\"1000\"\n",
       "            src=\"democratic-republican.html\"\n",
       "            frameborder=\"0\"\n",
       "            allowfullscreen\n",
       "        ></iframe>\n",
       "        "
      ],
      "text/plain": [
       "<IPython.lib.display.IFrame at 0x1190efb70>"
      ]
     },
     "execution_count": 23,
     "metadata": {},
     "output_type": "execute_result"
    }
   ],
   "source": [
    "draw_plot(df, 'Democratic', 'Republican', 'party')"
   ]
  },
  {
   "cell_type": "code",
   "execution_count": null,
   "metadata": {
    "collapsed": false
   },
   "outputs": [],
   "source": []
  },
  {
   "cell_type": "code",
   "execution_count": null,
   "metadata": {
    "collapsed": true
   },
   "outputs": [],
   "source": []
  }
 ],
 "metadata": {
  "anaconda-cloud": {},
  "kernelspec": {
   "display_name": "Python [Root]",
   "language": "python",
   "name": "Python [Root]"
  },
  "language_info": {
   "codemirror_mode": {
    "name": "ipython",
    "version": 3
   },
   "file_extension": ".py",
   "mimetype": "text/x-python",
   "name": "python",
   "nbconvert_exporter": "python",
   "pygments_lexer": "ipython3",
   "version": "3.5.2"
  }
 },
 "nbformat": 4,
 "nbformat_minor": 0
}

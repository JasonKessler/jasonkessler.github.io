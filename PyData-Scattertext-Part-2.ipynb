{
 "cells": [
  {
   "cell_type": "markdown",
   "metadata": {},
   "source": [
    "# Using Scattertext and AgeFromName to find gender-discriminating terms\n",
    "\n",
    "https://github.com/JasonKessler/scattertext\n",
    "\n",
    "https://github.com/JasonKessler/agefromname\n",
    "\n",
    "Cite as:\n",
    "Jason S. Kessler. Scattertext: a Browser-Based Tool for Visualizing how Corpora Differ. Proceedings of the 54th Annual Meeting of the Association for Computational Linguistics (ACL): System Demonstrations. 2017.\n",
    "\n",
    "Link to preprint: https://arxiv.org/abs/1703.00565\n",
    "\n",
    "`\n",
    "@article{kessler2017scattertext,\n",
    "  author    = {Kessler, Jason S.},\n",
    "  title     = {Scattertext: a Browser-Based Tool for Visualizing how Corpora Differ},\n",
    "  booktitle = {Proceedings of ACL-2017 System Demonstrations},\n",
    "  year      = {2017},\n",
    "  address   = {Vancouver, Canada},\n",
    "  publisher = {Association for Computational Linguistics},\n",
    "}\n",
    "`"
   ]
  },
  {
   "cell_type": "code",
   "execution_count": 1,
   "metadata": {},
   "outputs": [
    {
     "data": {
      "text/html": [
       "<style>.container { width:98% !important; }</style>"
      ],
      "text/plain": [
       "<IPython.core.display.HTML object>"
      ]
     },
     "metadata": {},
     "output_type": "display_data"
    }
   ],
   "source": [
    "%matplotlib inline\n",
    "import scattertext as st\n",
    "from gensim.models import word2vec\n",
    "import re, io, itertools\n",
    "from pprint import pprint\n",
    "import pandas as pd\n",
    "import numpy as np\n",
    "import spacy.en\n",
    "import os, pkgutil, json, urllib\n",
    "from urllib.request import urlopen\n",
    "from IPython.display import IFrame\n",
    "from IPython.core.display import display, HTML\n",
    "display(HTML(\"<style>.container { width:98% !important; }</style>\"))"
   ]
  },
  {
   "cell_type": "code",
   "execution_count": 2,
   "metadata": {
    "collapsed": true
   },
   "outputs": [],
   "source": [
    "import scattertext as st\n"
   ]
  },
  {
   "cell_type": "code",
   "execution_count": 3,
   "metadata": {
    "collapsed": true
   },
   "outputs": [],
   "source": [
    "nlp = spacy.en.English()\n",
    "convention_df = st.SampleCorpora.ConventionData2012.get_data()\n",
    "convention_df['parsed'] = convention_df.text.apply(nlp)"
   ]
  },
  {
   "cell_type": "markdown",
   "metadata": {},
   "source": [
    "## The `agefromname` package takes \n",
    "### - a first name and, optionally, a minimum age and current year\n",
    "## and returns\n",
    "### - the probablity someone is male or female\n",
    "### `pip install agefromname`"
   ]
  },
  {
   "cell_type": "code",
   "execution_count": 4,
   "metadata": {},
   "outputs": [],
   "source": [
    "from agefromname import AgeFromName"
   ]
  },
  {
   "cell_type": "code",
   "execution_count": 5,
   "metadata": {
    "collapsed": true
   },
   "outputs": [],
   "source": [
    "gender_imputer = AgeFromName()"
   ]
  },
  {
   "cell_type": "code",
   "execution_count": 6,
   "metadata": {},
   "outputs": [
    {
     "data": {
      "text/plain": [
       "0.03137094193268891"
      ]
     },
     "execution_count": 6,
     "metadata": {},
     "output_type": "execute_result"
    }
   ],
   "source": [
    "gender_imputer.prob_male('kelsey')"
   ]
  },
  {
   "cell_type": "code",
   "execution_count": 7,
   "metadata": {},
   "outputs": [
    {
     "data": {
      "text/plain": [
       "0.833774227446812"
      ]
     },
     "execution_count": 7,
     "metadata": {},
     "output_type": "execute_result"
    }
   ],
   "source": [
    "gender_imputer.prob_male('kelsey', minimum_age=70)"
   ]
  },
  {
   "cell_type": "code",
   "execution_count": 8,
   "metadata": {},
   "outputs": [
    {
     "data": {
      "text/plain": [
       "0.03137094193268891"
      ]
     },
     "execution_count": 8,
     "metadata": {},
     "output_type": "execute_result"
    }
   ],
   "source": [
    "gender_imputer.prob_male('kelsey', minimum_age=0)"
   ]
  },
  {
   "cell_type": "code",
   "execution_count": 9,
   "metadata": {},
   "outputs": [
    {
     "data": {
      "text/plain": [
       "<matplotlib.axes._subplots.AxesSubplot at 0x1a7e22d68>"
      ]
     },
     "execution_count": 9,
     "metadata": {},
     "output_type": "execute_result"
    },
    {
     "data": {
      "image/png": "[encoded data removed]",
      "text/plain": [
       "<matplotlib.figure.Figure at 0x1190542e8>"
      ]
     },
     "metadata": {},
     "output_type": "display_data"
    }
   ],
   "source": [
    "(pd.DataFrame([{'year': year, \n",
    "                'P(Male)': gender_imputer.prob_male('kelsey', current_year=year)}\n",
    "               for year in range(1930, 2015)])\n",
    " .set_index('year')\n",
    " .plot())"
   ]
  },
  {
   "cell_type": "markdown",
   "metadata": {},
   "source": [
    "## Let's assign speakers a gender if, assuming they're at least 35, \n",
    "## there's a 90% someone with their name is male or female.\n",
    "## Otherwise, drop their speech from the dataset."
   ]
  },
  {
   "cell_type": "code",
   "execution_count": 10,
   "metadata": {
    "collapsed": true
   },
   "outputs": [],
   "source": [
    "convention_df['speaker_gender'] = (convention_df.speaker\n",
    " .apply(lambda x: (gender_imputer.prob_male(x.split()[0], minimum_age = 35) if x else 0.5))\n",
    " .apply(lambda x: 'Male' if x > 0.9 else 'Female' if x < 0.1 else '?')\n",
    ")"
   ]
  },
  {
   "cell_type": "code",
   "execution_count": 11,
   "metadata": {},
   "outputs": [
    {
     "data": {
      "text/html": [
       "<div>\n",
       "<style>\n",
       "    .dataframe thead tr:only-child th {\n",
       "        text-align: right;\n",
       "    }\n",
       "\n",
       "    .dataframe thead th {\n",
       "        text-align: left;\n",
       "    }\n",
       "\n",
       "    .dataframe tbody tr th {\n",
       "        vertical-align: top;\n",
       "    }\n",
       "</style>\n",
       "<table border=\"1\" class=\"dataframe\">\n",
       "  <thead>\n",
       "    <tr style=\"text-align: right;\">\n",
       "      <th></th>\n",
       "      <th>party</th>\n",
       "      <th>speaker</th>\n",
       "      <th>text</th>\n",
       "      <th>parsed</th>\n",
       "      <th>speaker_gender</th>\n",
       "    </tr>\n",
       "  </thead>\n",
       "  <tbody>\n",
       "    <tr>\n",
       "      <th>0</th>\n",
       "      <td>democrat</td>\n",
       "      <td>BARACK OBAMA</td>\n",
       "      <td>Thank you. Thank you. Thank you. Thank you so ...</td>\n",
       "      <td>(Thank, you, ., Thank, you, ., Thank, you, ., ...</td>\n",
       "      <td>?</td>\n",
       "    </tr>\n",
       "    <tr>\n",
       "      <th>1</th>\n",
       "      <td>democrat</td>\n",
       "      <td>MICHELLE OBAMA</td>\n",
       "      <td>Thank you so much. Tonight, I am so thrilled a...</td>\n",
       "      <td>(Thank, you, so, much, ., Tonight, ,, I, am, s...</td>\n",
       "      <td>Female</td>\n",
       "    </tr>\n",
       "    <tr>\n",
       "      <th>2</th>\n",
       "      <td>democrat</td>\n",
       "      <td>RICHARD DURBIN</td>\n",
       "      <td>Thank you. It is a singular honor to be here t...</td>\n",
       "      <td>(Thank, you, ., It, is, a, singular, honor, to...</td>\n",
       "      <td>Male</td>\n",
       "    </tr>\n",
       "  </tbody>\n",
       "</table>\n",
       "</div>"
      ],
      "text/plain": [
       "      party         speaker  \\\n",
       "0  democrat    BARACK OBAMA   \n",
       "1  democrat  MICHELLE OBAMA   \n",
       "2  democrat  RICHARD DURBIN   \n",
       "\n",
       "                                                text  \\\n",
       "0  Thank you. Thank you. Thank you. Thank you so ...   \n",
       "1  Thank you so much. Tonight, I am so thrilled a...   \n",
       "2  Thank you. It is a singular honor to be here t...   \n",
       "\n",
       "                                              parsed speaker_gender  \n",
       "0  (Thank, you, ., Thank, you, ., Thank, you, ., ...              ?  \n",
       "1  (Thank, you, so, much, ., Tonight, ,, I, am, s...         Female  \n",
       "2  (Thank, you, ., It, is, a, singular, honor, to...           Male  "
      ]
     },
     "execution_count": 11,
     "metadata": {},
     "output_type": "execute_result"
    }
   ],
   "source": [
    "convention_df.iloc[:3]"
   ]
  },
  {
   "cell_type": "code",
   "execution_count": 12,
   "metadata": {},
   "outputs": [
    {
     "data": {
      "text/plain": [
       "Male      105\n",
       "Female     65\n",
       "?          19\n",
       "Name: speaker_gender, dtype: int64"
      ]
     },
     "execution_count": 12,
     "metadata": {},
     "output_type": "execute_result"
    }
   ],
   "source": [
    "convention_df.speaker_gender.value_counts()"
   ]
  },
  {
   "cell_type": "code",
   "execution_count": 13,
   "metadata": {
    "collapsed": true
   },
   "outputs": [],
   "source": [
    "convention_df_gender = convention_df[convention_df.speaker_gender.isin(['Male', 'Female'])]\n",
    "convention_df_gender['speaker_party'] = (convention_df_gender['speaker'] \n",
    "                                         + ' (' + convention_df_gender['party'].apply(lambda x: x.upper()[0])  + ')')"
   ]
  },
  {
   "cell_type": "markdown",
   "metadata": {},
   "source": [
    "## Let's plot the differences in language use by gender"
   ]
  },
  {
   "cell_type": "code",
   "execution_count": 14,
   "metadata": {
    "scrolled": false
   },
   "outputs": [
    {
     "data": {
      "text/html": [
       "\n",
       "        <iframe\n",
       "            width=\"1200\"\n",
       "            height=\"700\"\n",
       "            src=\"Conventions2012Gender.html\"\n",
       "            frameborder=\"0\"\n",
       "            allowfullscreen\n",
       "        ></iframe>\n",
       "        "
      ],
      "text/plain": [
       "<IPython.lib.display.IFrame at 0x118fd45c0>"
      ]
     },
     "execution_count": 14,
     "metadata": {},
     "output_type": "execute_result"
    }
   ],
   "source": [
    "corpus_gender = st.CorpusFromParsedDocuments(convention_df_gender, \n",
    "                                             category_col='speaker_gender', \n",
    "                                             parsed_col='parsed').build()\n",
    "html = st.produce_scattertext_explorer(corpus_gender,\n",
    "                                       category='Female',\n",
    "                                       category_name='Female',\n",
    "                                       not_category_name='Male',\n",
    "                                       minimum_term_frequency=5,\n",
    "                                       pmi_filter_thresold=4,                                       \n",
    "                                       width_in_pixels=1000,\n",
    "                                       metadata=convention_df_gender['speaker_party'])\n",
    "file_name = 'Conventions2012Gender.html'\n",
    "open(file_name, 'wb').write(html.encode('utf-8'))\n",
    "IFrame(src=file_name, width = 1200, height=700)"
   ]
  },
  {
   "cell_type": "markdown",
   "metadata": {},
   "source": [
    "# Let's see how gender and party-associated terms differ"
   ]
  },
  {
   "cell_type": "markdown",
   "metadata": {},
   "source": [
    "## Compute gender and party scaled f-scores"
   ]
  },
  {
   "cell_type": "code",
   "execution_count": 15,
   "metadata": {},
   "outputs": [],
   "source": [
    "female_scores = corpus_gender.get_scaled_f_scores('Female')\n",
    "democratic_scores = (st.CorpusFromParsedDocuments(convention_df_gender, \n",
    "                                                  category_col='party', \n",
    "                                                  parsed_col='parsed')\n",
    "                     .build()\n",
    "                     .get_scaled_f_scores('democrat'))"
   ]
  },
  {
   "cell_type": "code",
   "execution_count": 16,
   "metadata": {},
   "outputs": [
    {
     "data": {
      "text/plain": [
       "0.58614198263692963"
      ]
     },
     "execution_count": 16,
     "metadata": {},
     "output_type": "execute_result"
    }
   ],
   "source": [
    "tdf = corpus_gender.get_term_freq_df()# get_scaled_f_scores('Female')\n",
    "#st.termscoring.ScaledFScore.get_category_scores(tdf['Male freq'], tdf['Female freq']).min()\n",
    "cat_scores = st.termscoring.ScaledFScore.get_scores_for_category(tdf['Female freq'], tdf['Male freq'])\n",
    "np.percentile(cat_scores, 90)\n"
   ]
  },
  {
   "cell_type": "markdown",
   "metadata": {},
   "source": [
    "# Use custom coordinates to plot the gender scaled f-score vs. the party scaled f-score"
   ]
  },
  {
   "cell_type": "code",
   "execution_count": 17,
   "metadata": {
    "scrolled": false
   },
   "outputs": [
    {
     "data": {
      "text/html": [
       "\n",
       "        <iframe\n",
       "            width=\"1200\"\n",
       "            height=\"700\"\n",
       "            src=\"Conventions2012GenderAndParty.html\"\n",
       "            frameborder=\"0\"\n",
       "            allowfullscreen\n",
       "        ></iframe>\n",
       "        "
      ],
      "text/plain": [
       "<IPython.lib.display.IFrame at 0x1528c87f0>"
      ]
     },
     "execution_count": 17,
     "metadata": {},
     "output_type": "execute_result"
    }
   ],
   "source": [
    "html = st.produce_scattertext_explorer(corpus_gender,\n",
    "                                       category='Female',\n",
    "                                       category_name='Female',\n",
    "                                       not_category_name='Male',\n",
    "                                       minimum_term_frequency=5,\n",
    "                                       pmi_filter_thresold=4,\n",
    "                                       width_in_pixels=1000,\n",
    "                                       scores=female_scores,\n",
    "                                       sort_by_dist=False,\n",
    "                                       x_coords=democratic_scores,\n",
    "                                       y_coords=female_scores,\n",
    "                                       show_characteristic=False,\n",
    "                                       metadata=(convention_df_gender['speaker'] \n",
    "                                                 + ' (' \n",
    "                                                 + convention_df_gender['party'].apply(lambda x: x.upper()[0]) \n",
    "                                                 + ')'),\n",
    "                                       x_label='More Democratic',\n",
    "                                       y_label='More Female')\n",
    "file_name = 'Conventions2012GenderAndParty.html'\n",
    "open(file_name, 'wb').write(html.encode('utf-8'))\n",
    "IFrame(src=file_name, width = 1200, height=700)"
   ]
  },
  {
   "cell_type": "markdown",
   "metadata": {
    "collapsed": true
   },
   "source": [
    "# Women and men appear to discuss different topics \n",
    "## The package Empath uses a crowd-sourced topic model to categorize a given document\n",
    "\n",
    "Fast, Ethan, Binbin Chen, and Michael S. Bernstein. \"Empath: Understanding topic signals in large-scale text.\" Proceedings of the 2016 CHI Conference on Human Factors in Computing Systems. ACM, 2016."
   ]
  },
  {
   "cell_type": "code",
   "execution_count": 18,
   "metadata": {},
   "outputs": [
    {
     "data": {
      "text/html": [
       "\n",
       "        <iframe\n",
       "            width=\"1200\"\n",
       "            height=\"700\"\n",
       "            src=\"EmpathGender.html\"\n",
       "            frameborder=\"0\"\n",
       "            allowfullscreen\n",
       "        ></iframe>\n",
       "        "
      ],
      "text/plain": [
       "<IPython.lib.display.IFrame at 0x1011180f0>"
      ]
     },
     "execution_count": 18,
     "metadata": {},
     "output_type": "execute_result"
    }
   ],
   "source": [
    "empath_corpus = st.CorpusFromParsedDocuments(convention_df_gender,\n",
    "                                             category_col='speaker_gender',\n",
    "                                             feats_from_spacy_doc=st.FeatsFromOnlyEmpath(),\n",
    "                                             parsed_col='text').build()\n",
    "html = st.produce_scattertext_explorer(empath_corpus,\n",
    "                                       category='Female',\n",
    "                                       category_name='Female',\n",
    "                                       not_category_name='Male',\n",
    "                                       width_in_pixels=1000,\n",
    "                                       metadata=convention_df_gender['speaker_party'],\n",
    "                                       use_non_text_features=True,\n",
    "                                       use_full_doc=True)\n",
    "file_name = 'EmpathGender.html'\n",
    "open(file_name, 'wb').write(html.encode('utf-8'))\n",
    "IFrame(src=file_name, width = 1200, height=700)\n"
   ]
  },
  {
   "cell_type": "code",
   "execution_count": null,
   "metadata": {
    "collapsed": true
   },
   "outputs": [],
   "source": []
  }
 ],
 "metadata": {
  "anaconda-cloud": {},
  "kernelspec": {
   "display_name": "Python [Root]",
   "language": "python",
   "name": "Python [Root]"
  },
  "language_info": {
   "codemirror_mode": {
    "name": "ipython",
    "version": 3
   },
   "file_extension": ".py",
   "mimetype": "text/x-python",
   "name": "python",
   "nbconvert_exporter": "python",
   "pygments_lexer": "ipython3",
   "version": "3.5.2"
  }
 },
 "nbformat": 4,
 "nbformat_minor": 1
}

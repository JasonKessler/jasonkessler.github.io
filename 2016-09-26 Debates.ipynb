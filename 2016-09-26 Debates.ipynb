{
 "cells": [
  {
   "cell_type": "code",
   "execution_count": 66,
   "metadata": {
    "collapsed": true
   },
   "outputs": [],
   "source": [
    "import scattertext as ST\n",
    "import re\n",
    "from pprint import pprint\n",
    "import pandas as pd\n",
    "import spacy.en\n",
    "from IPython.display import IFrame"
   ]
  },
  {
   "cell_type": "code",
   "execution_count": 58,
   "metadata": {
    "collapsed": true
   },
   "outputs": [],
   "source": [
    "nlp = spacy.en.English()"
   ]
  },
  {
   "cell_type": "code",
   "execution_count": 9,
   "metadata": {
    "collapsed": false
   },
   "outputs": [],
   "source": [
    "lines = open('presidential-debate-2016-09-26.txt').read().split('\\n')"
   ]
  },
  {
   "cell_type": "code",
   "execution_count": 53,
   "metadata": {
    "collapsed": false
   },
   "outputs": [],
   "source": [
    "cur_speaker = None\n",
    "speaker_start_re = re.compile(r'^([(]?[A-Z][A-Z][A-Z]+):?(.+)$')\n",
    "transcript = []\n",
    "cur_statement = ''\n",
    "cur_speaker = None\n",
    "for line in lines:\n",
    "    match = speaker_start_re.match(line)\n",
    "    if match:\n",
    "        if match.group(1).startswith('('):\n",
    "            continue\n",
    "        if cur_speaker is not None:\n",
    "            transcript.append({'speaker': cur_speaker, 'statement': cur_statement})\n",
    "        cur_speaker = match.group(1).strip()\n",
    "        cur_statement = match.group(2).strip() + '\\n'\n",
    "        for other_name in ['TRUMP','CLINTON','HOLT']:\n",
    "            if other_name+':' in cur_statement:\n",
    "                cur_statement, other_statement = cur_statement.split(other_name)\n",
    "                transcript.append({'speaker': cur_speaker, 'statement': cur_statement.strip()})\n",
    "                transcript.append({'speaker': other_name, 'statement': other_statement.strip()})   \n",
    "    else:\n",
    "        cur_statement += line \n",
    "df = pd.DataFrame(transcript)\n"
   ]
  },
  {
   "cell_type": "code",
   "execution_count": 55,
   "metadata": {
    "collapsed": false,
    "scrolled": true
   },
   "outputs": [
    {
     "data": {
      "text/html": [
       "<div>\n",
       "<table border=\"1\" class=\"dataframe\">\n",
       "  <thead>\n",
       "    <tr style=\"text-align: right;\">\n",
       "      <th></th>\n",
       "      <th>speaker</th>\n",
       "      <th>statement</th>\n",
       "    </tr>\n",
       "  </thead>\n",
       "  <tbody>\n",
       "    <tr>\n",
       "      <th>0</th>\n",
       "      <td>HOLT</td>\n",
       "      <td>Good evening from Hofstra University in Hempst...</td>\n",
       "    </tr>\n",
       "    <tr>\n",
       "      <th>1</th>\n",
       "      <td>CLINTON</td>\n",
       "      <td>How are you, Donald?\\n</td>\n",
       "    </tr>\n",
       "    <tr>\n",
       "      <th>2</th>\n",
       "      <td>HOLT</td>\n",
       "      <td>Good luck to you.\\nWell, I don't expect us to ...</td>\n",
       "    </tr>\n",
       "    <tr>\n",
       "      <th>3</th>\n",
       "      <td>CLINTON</td>\n",
       "      <td>Well, thank you, Lester, and thanks to Hofstra...</td>\n",
       "    </tr>\n",
       "  </tbody>\n",
       "</table>\n",
       "</div>"
      ],
      "text/plain": [
       "   speaker                                          statement\n",
       "0     HOLT  Good evening from Hofstra University in Hempst...\n",
       "1  CLINTON                             How are you, Donald?\\n\n",
       "2     HOLT  Good luck to you.\\nWell, I don't expect us to ...\n",
       "3  CLINTON  Well, thank you, Lester, and thanks to Hofstra..."
      ]
     },
     "execution_count": 55,
     "metadata": {},
     "output_type": "execute_result"
    }
   ],
   "source": [
    "df.iloc[:4]"
   ]
  },
  {
   "cell_type": "code",
   "execution_count": 61,
   "metadata": {
    "collapsed": false
   },
   "outputs": [],
   "source": [
    "term_doc_mat = ST.TermDocMatrixFromPandas(data_frame = df[(df['speaker'] == 'CLINTON') | (df['speaker'] == 'TRUMP')], \n",
    "                                          category_col = 'speaker', \n",
    "                                          text_col = 'statement',\n",
    "                                          nlp = nlp).build()"
   ]
  },
  {
   "cell_type": "code",
   "execution_count": 64,
   "metadata": {
    "collapsed": false
   },
   "outputs": [],
   "source": [
    "html = st.produce_scattertext_html(term_doc_mat, category='CLINTON', \n",
    "                                   category_name='Clinton', not_category_name='Trump')"
   ]
  },
  {
   "cell_type": "code",
   "execution_count": 68,
   "metadata": {
    "collapsed": false
   },
   "outputs": [
    {
     "data": {
      "text/html": [
       "\n",
       "        <iframe\n",
       "            width=\"1000\"\n",
       "            height=\"1000\"\n",
       "            src=\"20160926debate.html\"\n",
       "            frameborder=\"0\"\n",
       "            allowfullscreen\n",
       "        ></iframe>\n",
       "        "
      ],
      "text/plain": [
       "<IPython.lib.display.IFrame at 0x1164f70b8>"
      ]
     },
     "execution_count": 68,
     "metadata": {},
     "output_type": "execute_result"
    }
   ],
   "source": [
    "open('20160926debate.html', 'wb').write(html.encode('utf-8'))\n",
    "IFrame(src='20160926debate.html', width = 1000, height=1000)"
   ]
  },
  {
   "cell_type": "code",
   "execution_count": null,
   "metadata": {
    "collapsed": true
   },
   "outputs": [],
   "source": []
  }
 ],
 "metadata": {
  "anaconda-cloud": {},
  "kernelspec": {
   "display_name": "Python [Root]",
   "language": "python",
   "name": "Python [Root]"
  },
  "language_info": {
   "codemirror_mode": {
    "name": "ipython",
    "version": 3
   },
   "file_extension": ".py",
   "mimetype": "text/x-python",
   "name": "python",
   "nbconvert_exporter": "python",
   "pygments_lexer": "ipython3",
   "version": "3.5.2"
  }
 },
 "nbformat": 4,
 "nbformat_minor": 0
}

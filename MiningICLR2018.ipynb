{
 "cells": [
  {
   "cell_type": "code",
   "execution_count": 1,
   "metadata": {},
   "outputs": [
    {
     "data": {
      "text/html": [
       "\n",
       "    <div class=\"bk-root\">\n",
       "        <a href=\"http://bokeh.pydata.org\" target=\"_blank\" class=\"bk-logo bk-logo-small bk-logo-notebook\"></a>\n",
       "        <span id=\"9ed25c53-b786-4bc8-a51e-1d026310af78\">Loading BokehJS ...</span>\n",
       "    </div>"
      ]
     },
     "metadata": {},
     "output_type": "display_data"
    },
    {
     "data": {
      "application/javascript": [
       "\n",
       "(function(global) {\n",
       "  function now() {\n",
       "    return new Date();\n",
       "  }\n",
       "\n",
       "  var force = true;\n",
       "\n",
       "  if (typeof (window._bokeh_onload_callbacks) === \"undefined\" || force === true) {\n",
       "    window._bokeh_onload_callbacks = [];\n",
       "    window._bokeh_is_loading = undefined;\n",
       "  }\n",
       "\n",
       "\n",
       "  \n",
       "  if (typeof (window._bokeh_timeout) === \"undefined\" || force === true) {\n",
       "    window._bokeh_timeout = Date.now() + 5000;\n",
       "    window._bokeh_failed_load = false;\n",
       "  }\n",
       "\n",
       "  var NB_LOAD_WARNING = {'data': {'text/html':\n",
       "     \"<div style='background-color: #fdd'>\\n\"+\n",
       "     \"<p>\\n\"+\n",
       "     \"BokehJS does not appear to have successfully loaded. If loading BokehJS from CDN, this \\n\"+\n",
       "     \"may be due to a slow or bad network connection. Possible fixes:\\n\"+\n",
       "     \"</p>\\n\"+\n",
       "     \"<ul>\\n\"+\n",
       "     \"<li>re-rerun `output_notebook()` to attempt to load from CDN again, or</li>\\n\"+\n",
       "     \"<li>use INLINE resources instead, as so:</li>\\n\"+\n",
       "     \"</ul>\\n\"+\n",
       "     \"<code>\\n\"+\n",
       "     \"from bokeh.resources import INLINE\\n\"+\n",
       "     \"output_notebook(resources=INLINE)\\n\"+\n",
       "     \"</code>\\n\"+\n",
       "     \"</div>\"}};\n",
       "\n",
       "  function display_loaded() {\n",
       "    if (window.Bokeh !== undefined) {\n",
       "      var el = document.getElementById(\"9ed25c53-b786-4bc8-a51e-1d026310af78\");\n",
       "      el.textContent = \"BokehJS \" + Bokeh.version + \" successfully loaded.\";\n",
       "    } else if (Date.now() < window._bokeh_timeout) {\n",
       "      setTimeout(display_loaded, 100)\n",
       "    }\n",
       "  }\n",
       "\n",
       "  function run_callbacks() {\n",
       "    try {\n",
       "      window._bokeh_onload_callbacks.forEach(function(callback) { callback() });\n",
       "    }\n",
       "    finally {\n",
       "      delete window._bokeh_onload_callbacks\n",
       "    }\n",
       "    console.info(\"Bokeh: all callbacks have finished\");\n",
       "  }\n",
       "\n",
       "  function load_libs(js_urls, callback) {\n",
       "    window._bokeh_onload_callbacks.push(callback);\n",
       "    if (window._bokeh_is_loading > 0) {\n",
       "      console.log(\"Bokeh: BokehJS is being loaded, scheduling callback at\", now());\n",
       "      return null;\n",
       "    }\n",
       "    if (js_urls == null || js_urls.length === 0) {\n",
       "      run_callbacks();\n",
       "      return null;\n",
       "    }\n",
       "    console.log(\"Bokeh: BokehJS not loaded, scheduling load and callback at\", now());\n",
       "    window._bokeh_is_loading = js_urls.length;\n",
       "    for (var i = 0; i < js_urls.length; i++) {\n",
       "      var url = js_urls[i];\n",
       "      var s = document.createElement('script');\n",
       "      s.src = url;\n",
       "      s.async = false;\n",
       "      s.onreadystatechange = s.onload = function() {\n",
       "        window._bokeh_is_loading--;\n",
       "        if (window._bokeh_is_loading === 0) {\n",
       "          console.log(\"Bokeh: all BokehJS libraries loaded\");\n",
       "          run_callbacks()\n",
       "        }\n",
       "      };\n",
       "      s.onerror = function() {\n",
       "        console.warn(\"failed to load library \" + url);\n",
       "      };\n",
       "      console.log(\"Bokeh: injecting script tag for BokehJS library: \", url);\n",
       "      document.getElementsByTagName(\"head\")[0].appendChild(s);\n",
       "    }\n",
       "  };var element = document.getElementById(\"9ed25c53-b786-4bc8-a51e-1d026310af78\");\n",
       "  if (element == null) {\n",
       "    console.log(\"Bokeh: ERROR: autoload.js configured with elementid '9ed25c53-b786-4bc8-a51e-1d026310af78' but no matching script tag was found. \")\n",
       "    return false;\n",
       "  }\n",
       "\n",
       "  var js_urls = [\"https://cdn.pydata.org/bokeh/release/bokeh-0.12.6.min.js\", \"https://cdn.pydata.org/bokeh/release/bokeh-widgets-0.12.6.min.js\"];\n",
       "\n",
       "  var inline_js = [\n",
       "    function(Bokeh) {\n",
       "      Bokeh.set_log_level(\"info\");\n",
       "    },\n",
       "    \n",
       "    function(Bokeh) {\n",
       "      \n",
       "    },\n",
       "    \n",
       "    function(Bokeh) {\n",
       "      \n",
       "      document.getElementById(\"9ed25c53-b786-4bc8-a51e-1d026310af78\").textContent = \"BokehJS is loading...\";\n",
       "    },\n",
       "    function(Bokeh) {\n",
       "      console.log(\"Bokeh: injecting CSS: https://cdn.pydata.org/bokeh/release/bokeh-0.12.6.min.css\");\n",
       "      Bokeh.embed.inject_css(\"https://cdn.pydata.org/bokeh/release/bokeh-0.12.6.min.css\");\n",
       "      console.log(\"Bokeh: injecting CSS: https://cdn.pydata.org/bokeh/release/bokeh-widgets-0.12.6.min.css\");\n",
       "      Bokeh.embed.inject_css(\"https://cdn.pydata.org/bokeh/release/bokeh-widgets-0.12.6.min.css\");\n",
       "    }\n",
       "  ];\n",
       "\n",
       "  function run_inline_js() {\n",
       "    \n",
       "    if ((window.Bokeh !== undefined) || (force === true)) {\n",
       "      for (var i = 0; i < inline_js.length; i++) {\n",
       "        inline_js[i](window.Bokeh);\n",
       "      }if (force === true) {\n",
       "        display_loaded();\n",
       "      }} else if (Date.now() < window._bokeh_timeout) {\n",
       "      setTimeout(run_inline_js, 100);\n",
       "    } else if (!window._bokeh_failed_load) {\n",
       "      console.log(\"Bokeh: BokehJS failed to load within specified timeout.\");\n",
       "      window._bokeh_failed_load = true;\n",
       "    } else if (force !== true) {\n",
       "      var cell = $(document.getElementById(\"9ed25c53-b786-4bc8-a51e-1d026310af78\")).parents('.cell').data().cell;\n",
       "      cell.output_area.append_execute_result(NB_LOAD_WARNING)\n",
       "    }\n",
       "\n",
       "  }\n",
       "\n",
       "  if (window._bokeh_is_loading === 0) {\n",
       "    console.log(\"Bokeh: BokehJS loaded, going straight to plotting\");\n",
       "    run_inline_js();\n",
       "  } else {\n",
       "    load_libs(js_urls, function() {\n",
       "      console.log(\"Bokeh: BokehJS plotting callback run at\", now());\n",
       "      run_inline_js();\n",
       "    });\n",
       "  }\n",
       "}(this));"
      ]
     },
     "metadata": {},
     "output_type": "display_data"
    },
    {
     "data": {
      "text/html": [
       "<style>.container { width:98% !important; }</style>"
      ],
      "text/plain": [
       "<IPython.core.display.HTML object>"
      ]
     },
     "metadata": {},
     "output_type": "display_data"
    }
   ],
   "source": [
    "import requests\n",
    "import pandas as pd\n",
    "import numpy as np\n",
    "import scattertext as st\n",
    "import spacy\n",
    "import time\n",
    "from IPython.display import IFrame\n",
    "from IPython.core.display import display, HTML\n",
    "from bokeh.palettes import PuBu\n",
    "from bokeh.io import show, output_notebook\n",
    "from bokeh.models import ColumnDataSource, ranges, LabelSet\n",
    "from bokeh.plotting import figure\n",
    "output_notebook()\n",
    "display(HTML(\"<style>.container { width:98% !important; }</style>\"))\n",
    "%matplotlib inline"
   ]
  },
  {
   "cell_type": "code",
   "execution_count": 11,
   "metadata": {},
   "outputs": [],
   "source": [
    "url = 'https://openreview.net/notes?invitation=ICLR.cc%2F2018%2FConference%2F-%2FBlind_Submission&offset=0&limit=1000'\n",
    "df = pd.DataFrame(requests.get(url).json()['notes'])"
   ]
  },
  {
   "cell_type": "code",
   "execution_count": 154,
   "metadata": {
    "scrolled": true
   },
   "outputs": [],
   "source": [
    "forum_content = []\n",
    "for i, forum_id in list(enumerate(df.forum)):\n",
    "    notes_url = 'https://openreview.net/notes?forum={}&trash=true'.format(forum_id)\n",
    "    try:\n",
    "        forum_content.append(requests.get(notes_url).json())\n",
    "    except:\n",
    "        print('err', i, forum_id)\n",
    "        forum_content = {}\n",
    "    time.sleep(.3)\n",
    "df['forumContent'] = pd.Series(forum_content)   \n",
    "df.to_csv('iclr2018raw.csv.bz2', index=False, compression='bz2')"
   ]
  },
  {
   "cell_type": "code",
   "execution_count": 2,
   "metadata": {},
   "outputs": [],
   "source": [
    "#\n",
    "# Code here is to read locally:\n",
    "read_local = True\n",
    "if read_local:\n",
    "    df = pd.read_csv('iclr2018reviews.csv.bz2')\n",
    "    df['forumContent'] = df.forumContent.apply(eval) # totally unsafe\n",
    "    df['content'] = df.content.apply(eval) "
   ]
  },
  {
   "cell_type": "code",
   "execution_count": 3,
   "metadata": {},
   "outputs": [
    {
     "data": {
      "text/plain": [
       "Reject                      504\n",
       "Accept (Poster)             313\n",
       "Invite to Workshop Track     90\n",
       "Accept (Oral)                23\n",
       "Name: decision_raw, dtype: int64"
      ]
     },
     "execution_count": 3,
     "metadata": {},
     "output_type": "execute_result"
    }
   ],
   "source": [
    "df['decision_raw'] = df.forumContent.apply(lambda x:[n['content']['decision'] \n",
    "                                                     for n in x['notes'] \n",
    "                                                     if 'decision' in n['content']][0])\n",
    "df['decision_raw'].value_counts()"
   ]
  },
  {
   "cell_type": "code",
   "execution_count": 4,
   "metadata": {},
   "outputs": [
    {
     "data": {
      "text/plain": [
       "930"
      ]
     },
     "execution_count": 4,
     "metadata": {},
     "output_type": "execute_result"
    }
   ],
   "source": [
    "len(df)"
   ]
  },
  {
   "cell_type": "code",
   "execution_count": 6,
   "metadata": {},
   "outputs": [],
   "source": [
    "df['title'] = df.content.apply(lambda x: x['title'])\n",
    "df['authors'] = df.content.apply(lambda x: x['authors'])\n",
    "\n",
    "only_reviews_df = pd.concat(df.forumContent.apply(lambda c: pd.DataFrame([\n",
    "    {'review': n['content']['review'], \n",
    "     'rating': n['content']['rating'],  \n",
    "     'confidence': n['content']['confidence'],\n",
    "     'forum': n['forum']} \n",
    "    for n in c['notes'] \n",
    "    if 'content' in n and 'review' in n['content']\n",
    "])).tolist())\n",
    "reviews_df = pd.merge(df[['title', 'authors', 'decision_raw', 'forum']], only_reviews_df, on='forum')\n",
    "#reviews_df.groupby('decision_raw')['rating'].value_counts()\n",
    "reviews_df['decision'] = (reviews_df['decision_raw']\n",
    "                          .apply(lambda x: 'Reject' if x == 'Reject' \n",
    "                                 else ('Accept' if x.startswith('Accept') \n",
    "                                       else 'Workshop')))\n",
    "reviews_df['rating_bin'] = (reviews_df['rating']\n",
    "                            .apply(lambda x: (lambda s: 'Negative' if s < 5 \n",
    "                                              else ('Positive' if s > 6 else 'Neutral'))\n",
    "                                   (int(x.split(':')[0].strip()))))\n",
    "reviews_df['category'] = reviews_df['decision'] + ', ' + reviews_df['rating_bin']"
   ]
  },
  {
   "cell_type": "code",
   "execution_count": 6,
   "metadata": {},
   "outputs": [],
   "source": []
  },
  {
   "cell_type": "code",
   "execution_count": 7,
   "metadata": {},
   "outputs": [
    {
     "data": {
      "text/html": [
       "\n",
       "<div class=\"bk-root\">\n",
       "    <div class=\"bk-plotdiv\" id=\"a7ac1fc1-d8dc-4943-8713-8eaa635969ee\"></div>\n",
       "</div>"
      ]
     },
     "metadata": {},
     "output_type": "display_data"
    },
    {
     "data": {
      "application/javascript": [
       "(function(root) {\n",
       "  function embed_document(root) {\n",
       "    \n",
       "  var docs_json = {\"04c8c15c-980f-4431-b62b-a6dcc72ef801\":{\"roots\":{\"references\":[{\"attributes\":{\"axis_label\":\"Paper Count\",\"formatter\":{\"id\":\"3c397ccd-8924-451a-a3dc-9af7e9230903\",\"type\":\"BasicTickFormatter\"},\"plot\":{\"id\":\"e08dad28-652d-461f-8edd-1e4bd2a3c114\",\"subtype\":\"Figure\",\"type\":\"Plot\"},\"ticker\":{\"id\":\"86920c3e-d9f3-4110-b1cf-874d7f3c4af3\",\"type\":\"BasicTicker\"}},\"id\":\"586cf370-3e20-48cd-9274-225a237cb4cc\",\"type\":\"LinearAxis\"},{\"attributes\":{\"plot\":{\"id\":\"e08dad28-652d-461f-8edd-1e4bd2a3c114\",\"subtype\":\"Figure\",\"type\":\"Plot\"},\"ticker\":{\"id\":\"a0d191bb-0042-407e-82e3-6bc2458b8158\",\"type\":\"CategoricalTicker\"}},\"id\":\"cf6b767a-0362-4d8a-adc0-415ab6e34ae8\",\"type\":\"Grid\"},{\"attributes\":{\"source\":{\"id\":\"0ec96012-280e-40e6-b18f-9433ffa3d58e\",\"type\":\"ColumnDataSource\"}},\"id\":\"1afc5c41-ab48-4f9d-aa62-8c66034500c6\",\"type\":\"CDSView\"},{\"attributes\":{},\"id\":\"3c397ccd-8924-451a-a3dc-9af7e9230903\",\"type\":\"BasicTickFormatter\"},{\"attributes\":{},\"id\":\"a0d191bb-0042-407e-82e3-6bc2458b8158\",\"type\":\"CategoricalTicker\"},{\"attributes\":{},\"id\":\"44bbb868-46d5-46bd-bd88-c8774d33fa9b\",\"type\":\"SaveTool\"},{\"attributes\":{\"level\":\"glyph\",\"plot\":{\"id\":\"e08dad28-652d-461f-8edd-1e4bd2a3c114\",\"subtype\":\"Figure\",\"type\":\"Plot\"},\"source\":{\"id\":\"0ec96012-280e-40e6-b18f-9433ffa3d58e\",\"type\":\"ColumnDataSource\"},\"text\":{\"field\":\"y\"},\"x\":{\"field\":\"x\"},\"x_offset\":{\"value\":-13.5},\"y\":{\"field\":\"y\"}},\"id\":\"66b3bebd-5172-4f50-9042-499885e6d33b\",\"type\":\"LabelSet\"},{\"attributes\":{\"fill_alpha\":{\"value\":0.1},\"fill_color\":{\"value\":\"#1f77b4\"},\"line_alpha\":{\"value\":0.1},\"line_color\":{\"value\":\"#1f77b4\"},\"top\":{\"field\":\"y\"},\"width\":{\"value\":0.3},\"x\":{\"field\":\"x\"}},\"id\":\"a1223a80-602a-467a-8756-7da9f4fa7dbf\",\"type\":\"VBar\"},{\"attributes\":{\"dimension\":1,\"plot\":{\"id\":\"e08dad28-652d-461f-8edd-1e4bd2a3c114\",\"subtype\":\"Figure\",\"type\":\"Plot\"},\"ticker\":{\"id\":\"86920c3e-d9f3-4110-b1cf-874d7f3c4af3\",\"type\":\"BasicTicker\"}},\"id\":\"5d732d58-a986-4351-84f4-9405c08c0d15\",\"type\":\"Grid\"},{\"attributes\":{\"data_source\":{\"id\":\"0ec96012-280e-40e6-b18f-9433ffa3d58e\",\"type\":\"ColumnDataSource\"},\"glyph\":{\"id\":\"4907ffff-249f-455f-8a8c-646f68c597b0\",\"type\":\"VBar\"},\"hover_glyph\":null,\"muted_glyph\":null,\"nonselection_glyph\":{\"id\":\"a1223a80-602a-467a-8756-7da9f4fa7dbf\",\"type\":\"VBar\"},\"selection_glyph\":null,\"view\":{\"id\":\"1afc5c41-ab48-4f9d-aa62-8c66034500c6\",\"type\":\"CDSView\"}},\"id\":\"8a0bf3e0-ef0a-4326-986c-7dcdf781867f\",\"type\":\"GlyphRenderer\"},{\"attributes\":{},\"id\":\"86920c3e-d9f3-4110-b1cf-874d7f3c4af3\",\"type\":\"BasicTicker\"},{\"attributes\":{},\"id\":\"cf2a9102-8691-4eec-a72c-a978e9f6e1a7\",\"type\":\"CategoricalScale\"},{\"attributes\":{\"plot\":null,\"text\":\"\"},\"id\":\"06197a5f-0441-4cc1-9957-b9ba00feb06b\",\"type\":\"Title\"},{\"attributes\":{\"callback\":null,\"column_names\":[\"y\",\"x\"],\"data\":{\"x\":[\"Reject\",\"Accept (Poster)\",\"Invite to Workshop Track\",\"Accept (Oral)\"],\"y\":[503,313,90,23]}},\"id\":\"0ec96012-280e-40e6-b18f-9433ffa3d58e\",\"type\":\"ColumnDataSource\"},{\"attributes\":{\"active_drag\":\"auto\",\"active_inspect\":\"auto\",\"active_scroll\":\"auto\",\"active_tap\":\"auto\",\"tools\":[{\"id\":\"44bbb868-46d5-46bd-bd88-c8774d33fa9b\",\"type\":\"SaveTool\"}]},\"id\":\"37ae1413-538f-4b21-b190-439ba28d7543\",\"type\":\"Toolbar\"},{\"attributes\":{\"below\":[{\"id\":\"02ccde59-350b-4d45-94d0-ca67ca1b40f6\",\"type\":\"CategoricalAxis\"}],\"left\":[{\"id\":\"586cf370-3e20-48cd-9274-225a237cb4cc\",\"type\":\"LinearAxis\"}],\"plot_height\":300,\"renderers\":[{\"id\":\"02ccde59-350b-4d45-94d0-ca67ca1b40f6\",\"type\":\"CategoricalAxis\"},{\"id\":\"cf6b767a-0362-4d8a-adc0-415ab6e34ae8\",\"type\":\"Grid\"},{\"id\":\"586cf370-3e20-48cd-9274-225a237cb4cc\",\"type\":\"LinearAxis\"},{\"id\":\"5d732d58-a986-4351-84f4-9405c08c0d15\",\"type\":\"Grid\"},{\"id\":\"8a0bf3e0-ef0a-4326-986c-7dcdf781867f\",\"type\":\"GlyphRenderer\"},{\"id\":\"66b3bebd-5172-4f50-9042-499885e6d33b\",\"type\":\"LabelSet\"}],\"title\":{\"id\":\"06197a5f-0441-4cc1-9957-b9ba00feb06b\",\"type\":\"Title\"},\"toolbar\":{\"id\":\"37ae1413-538f-4b21-b190-439ba28d7543\",\"type\":\"Toolbar\"},\"x_range\":{\"id\":\"bb66180b-3575-4b26-bd58-94a327b11ee0\",\"type\":\"FactorRange\"},\"x_scale\":{\"id\":\"cf2a9102-8691-4eec-a72c-a978e9f6e1a7\",\"type\":\"CategoricalScale\"},\"y_range\":{\"id\":\"0fb28cfb-111c-41f1-8d18-411fde8c005c\",\"type\":\"Range1d\"},\"y_scale\":{\"id\":\"dbaaec8b-fb9b-4ce6-bfaa-d4a08c80fc8e\",\"type\":\"LinearScale\"}},\"id\":\"e08dad28-652d-461f-8edd-1e4bd2a3c114\",\"subtype\":\"Figure\",\"type\":\"Plot\"},{\"attributes\":{\"fill_color\":{\"value\":\"#3690c0\"},\"line_color\":{\"value\":\"#3690c0\"},\"top\":{\"field\":\"y\"},\"width\":{\"value\":0.3},\"x\":{\"field\":\"x\"}},\"id\":\"4907ffff-249f-455f-8a8c-646f68c597b0\",\"type\":\"VBar\"},{\"attributes\":{},\"id\":\"dbaaec8b-fb9b-4ce6-bfaa-d4a08c80fc8e\",\"type\":\"LinearScale\"},{\"attributes\":{\"callback\":null,\"end\":600},\"id\":\"0fb28cfb-111c-41f1-8d18-411fde8c005c\",\"type\":\"Range1d\"},{\"attributes\":{},\"id\":\"0258166d-9faf-4814-8706-9b336777b00a\",\"type\":\"CategoricalTickFormatter\"},{\"attributes\":{\"callback\":null,\"factors\":[\"Reject\",\"Accept (Poster)\",\"Invite to Workshop Track\",\"Accept (Oral)\"]},\"id\":\"bb66180b-3575-4b26-bd58-94a327b11ee0\",\"type\":\"FactorRange\"},{\"attributes\":{\"axis_label\":\"Decision\",\"formatter\":{\"id\":\"0258166d-9faf-4814-8706-9b336777b00a\",\"type\":\"CategoricalTickFormatter\"},\"plot\":{\"id\":\"e08dad28-652d-461f-8edd-1e4bd2a3c114\",\"subtype\":\"Figure\",\"type\":\"Plot\"},\"ticker\":{\"id\":\"a0d191bb-0042-407e-82e3-6bc2458b8158\",\"type\":\"CategoricalTicker\"}},\"id\":\"02ccde59-350b-4d45-94d0-ca67ca1b40f6\",\"type\":\"CategoricalAxis\"}],\"root_ids\":[\"e08dad28-652d-461f-8edd-1e4bd2a3c114\"]},\"title\":\"Bokeh Application\",\"version\":\"0.12.13\"}};\n",
       "  var render_items = [{\"docid\":\"04c8c15c-980f-4431-b62b-a6dcc72ef801\",\"elementid\":\"a7ac1fc1-d8dc-4943-8713-8eaa635969ee\",\"modelid\":\"e08dad28-652d-461f-8edd-1e4bd2a3c114\"}];\n",
       "  root.Bokeh.embed.embed_items_notebook(docs_json, render_items);\n",
       "\n",
       "  }\n",
       "  if (root.Bokeh !== undefined) {\n",
       "    embed_document(root);\n",
       "  } else {\n",
       "    var attempts = 0;\n",
       "    var timer = setInterval(function(root) {\n",
       "      if (root.Bokeh !== undefined) {\n",
       "        embed_document(root);\n",
       "        clearInterval(timer);\n",
       "      }\n",
       "      attempts++;\n",
       "      if (attempts > 100) {\n",
       "        console.log(\"Bokeh: ERROR: Unable to run BokehJS code because BokehJS library is missing\")\n",
       "        clearInterval(timer);\n",
       "      }\n",
       "    }, 10, root)\n",
       "  }\n",
       "})(window);"
      ],
      "application/vnd.bokehjs_exec.v0+json": ""
     },
     "metadata": {
      "application/vnd.bokehjs_exec.v0+json": {
       "id": "e08dad28-652d-461f-8edd-1e4bd2a3c114"
      }
     },
     "output_type": "display_data"
    }
   ],
   "source": [
    "decisions = reviews_df[['forum','decision_raw']].drop_duplicates()['decision_raw'].value_counts()\n",
    "source = ColumnDataSource(dict(x=list(decisions.index),y=decisions.values))\n",
    "\n",
    "#source = ColumnDataSource({'x': decisions.index, 'y': decisions.values}\n",
    "\n",
    "plot = figure(plot_width=600, plot_height=300, tools=\"save\",\n",
    "        x_axis_label = \"Decision\",\n",
    "        y_axis_label = \"Paper Count\",\n",
    "        title=\"\",\n",
    "        x_minor_ticks=2,\n",
    "        x_range = source.data[\"x\"],\n",
    "        y_range= ranges.Range1d(start=0,end=600))\n",
    "\n",
    "\n",
    "labels = LabelSet(x='x', y='y', text='y', level='glyph',\n",
    "        x_offset=-13.5, y_offset=0, source=source, render_mode='canvas')\n",
    "\n",
    "plot.vbar(source=source,x='x',top='y',bottom=0,width=0.3,color=PuBu[7][2])\n",
    "\n",
    "plot.add_layout(labels)\n",
    "show(plot)"
   ]
  },
  {
   "cell_type": "code",
   "execution_count": 8,
   "metadata": {},
   "outputs": [
    {
     "name": "stderr",
     "output_type": "stream",
     "text": [
      "/Users/kesslej/anaconda3/lib/python3.5/site-packages/bokeh/core/json_encoder.py:80: FutureWarning: Conversion of the second argument of issubdtype from `float` to `np.floating` is deprecated. In future, it will be treated as `np.float64 == np.dtype(float).type`.\n",
      "  elif np.issubdtype(type(obj), np.float):\n"
     ]
    },
    {
     "data": {
      "text/html": [
       "\n",
       "<div class=\"bk-root\">\n",
       "    <div class=\"bk-plotdiv\" id=\"5e279a98-1f57-43ac-9e66-3a4931885037\"></div>\n",
       "</div>"
      ]
     },
     "metadata": {},
     "output_type": "display_data"
    },
    {
     "data": {
      "application/javascript": [
       "(function(root) {\n",
       "  function embed_document(root) {\n",
       "    \n",
       "  var docs_json = {\"3992f4c1-1c27-41f0-95d0-459441571f79\":{\"roots\":{\"references\":[{\"attributes\":{\"source\":{\"id\":\"3d18162c-6726-4ca0-9a04-66b34e6acc93\",\"type\":\"ColumnDataSource\"}},\"id\":\"cbf4d423-e941-4de1-b1e8-7d5c14dbc49f\",\"type\":\"CDSView\"},{\"attributes\":{\"active_drag\":\"auto\",\"active_inspect\":\"auto\",\"active_scroll\":\"auto\",\"active_tap\":\"auto\",\"tools\":[{\"id\":\"7ca8c5c4-5132-4a72-9349-5ff57e5478eb\",\"type\":\"SaveTool\"}]},\"id\":\"04c36a4c-7afb-4b07-afd0-d938f933a67f\",\"type\":\"Toolbar\"},{\"attributes\":{\"fill_color\":{\"value\":\"#3690c0\"},\"line_color\":{\"value\":\"#3690c0\"},\"top\":{\"field\":\"y\"},\"width\":{\"value\":0.3},\"x\":{\"field\":\"x\"}},\"id\":\"7e9e282f-9711-49c8-aff6-8a547f42590c\",\"type\":\"VBar\"},{\"attributes\":{\"callback\":null,\"factors\":[\"1\",\"2\",\"3\",\"4\",\"5\",\"6\",\"7\",\"8\",\"9\",\"10\"]},\"id\":\"2d77e4a6-b55e-45ec-9b05-57756cae6a52\",\"type\":\"FactorRange\"},{\"attributes\":{\"data_source\":{\"id\":\"3d18162c-6726-4ca0-9a04-66b34e6acc93\",\"type\":\"ColumnDataSource\"},\"glyph\":{\"id\":\"7e9e282f-9711-49c8-aff6-8a547f42590c\",\"type\":\"VBar\"},\"hover_glyph\":null,\"muted_glyph\":null,\"nonselection_glyph\":{\"id\":\"718454da-4d02-44ec-91cf-e45407ab3171\",\"type\":\"VBar\"},\"selection_glyph\":null,\"view\":{\"id\":\"cbf4d423-e941-4de1-b1e8-7d5c14dbc49f\",\"type\":\"CDSView\"}},\"id\":\"b6254c76-91a8-41c0-9c11-7f125b45f4cd\",\"type\":\"GlyphRenderer\"},{\"attributes\":{\"axis_label\":\"Rating\",\"formatter\":{\"id\":\"ff7aec16-5f93-40dc-a810-1b0afd4d23cc\",\"type\":\"CategoricalTickFormatter\"},\"plot\":{\"id\":\"409a6481-03e6-4a1b-a9c7-ff130ed0c75c\",\"subtype\":\"Figure\",\"type\":\"Plot\"},\"ticker\":{\"id\":\"05a341e8-b9a6-411f-8200-16fcdd1ed9db\",\"type\":\"CategoricalTicker\"}},\"id\":\"cc64e842-04e8-4d3c-9a9e-ddb01066e387\",\"type\":\"CategoricalAxis\"},{\"attributes\":{},\"id\":\"4c20e64f-7e69-4552-a33d-a8d4744fe3cb\",\"type\":\"LinearScale\"},{\"attributes\":{},\"id\":\"7ca8c5c4-5132-4a72-9349-5ff57e5478eb\",\"type\":\"SaveTool\"},{\"attributes\":{},\"id\":\"ce818dfa-c79d-4a08-aa91-f035ed3cacee\",\"type\":\"BasicTickFormatter\"},{\"attributes\":{},\"id\":\"ff7aec16-5f93-40dc-a810-1b0afd4d23cc\",\"type\":\"CategoricalTickFormatter\"},{\"attributes\":{\"dimension\":1,\"plot\":{\"id\":\"409a6481-03e6-4a1b-a9c7-ff130ed0c75c\",\"subtype\":\"Figure\",\"type\":\"Plot\"},\"ticker\":{\"id\":\"6fe4df45-f5b6-4457-a258-7612e69f3e73\",\"type\":\"BasicTicker\"}},\"id\":\"5d0affcf-a6c3-4b09-8644-b9dcc44c91b0\",\"type\":\"Grid\"},{\"attributes\":{},\"id\":\"6fe4df45-f5b6-4457-a258-7612e69f3e73\",\"type\":\"BasicTicker\"},{\"attributes\":{\"callback\":null,\"column_names\":[\"y\",\"x\"],\"data\":{\"x\":[\"1\",\"2\",\"3\",\"4\",\"5\",\"6\",\"7\",\"8\",\"9\",\"10\"],\"y\":[5,63,234,557,576,626,526,170,47,2]}},\"id\":\"3d18162c-6726-4ca0-9a04-66b34e6acc93\",\"type\":\"ColumnDataSource\"},{\"attributes\":{\"plot\":{\"id\":\"409a6481-03e6-4a1b-a9c7-ff130ed0c75c\",\"subtype\":\"Figure\",\"type\":\"Plot\"},\"ticker\":{\"id\":\"05a341e8-b9a6-411f-8200-16fcdd1ed9db\",\"type\":\"CategoricalTicker\"}},\"id\":\"cf5ed539-ae32-4ec8-9156-5cb47e9d3dfd\",\"type\":\"Grid\"},{\"attributes\":{\"callback\":null,\"end\":726},\"id\":\"58b3d85b-ba67-4d16-881f-316baa7349dc\",\"type\":\"Range1d\"},{\"attributes\":{},\"id\":\"6498ef77-52c7-4804-8e6e-a271b63c34c9\",\"type\":\"CategoricalScale\"},{\"attributes\":{\"axis_label\":\"Review Count\",\"formatter\":{\"id\":\"ce818dfa-c79d-4a08-aa91-f035ed3cacee\",\"type\":\"BasicTickFormatter\"},\"plot\":{\"id\":\"409a6481-03e6-4a1b-a9c7-ff130ed0c75c\",\"subtype\":\"Figure\",\"type\":\"Plot\"},\"ticker\":{\"id\":\"6fe4df45-f5b6-4457-a258-7612e69f3e73\",\"type\":\"BasicTicker\"}},\"id\":\"0d11ad06-89cd-4e26-a278-3ea5cb624918\",\"type\":\"LinearAxis\"},{\"attributes\":{\"below\":[{\"id\":\"cc64e842-04e8-4d3c-9a9e-ddb01066e387\",\"type\":\"CategoricalAxis\"}],\"left\":[{\"id\":\"0d11ad06-89cd-4e26-a278-3ea5cb624918\",\"type\":\"LinearAxis\"}],\"plot_height\":300,\"renderers\":[{\"id\":\"cc64e842-04e8-4d3c-9a9e-ddb01066e387\",\"type\":\"CategoricalAxis\"},{\"id\":\"cf5ed539-ae32-4ec8-9156-5cb47e9d3dfd\",\"type\":\"Grid\"},{\"id\":\"0d11ad06-89cd-4e26-a278-3ea5cb624918\",\"type\":\"LinearAxis\"},{\"id\":\"5d0affcf-a6c3-4b09-8644-b9dcc44c91b0\",\"type\":\"Grid\"},{\"id\":\"b6254c76-91a8-41c0-9c11-7f125b45f4cd\",\"type\":\"GlyphRenderer\"},{\"id\":\"caadb636-d409-48ec-aca2-7fa38fb1db68\",\"type\":\"LabelSet\"}],\"title\":{\"id\":\"49435357-01d4-4cf1-8ead-7fb214572b45\",\"type\":\"Title\"},\"toolbar\":{\"id\":\"04c36a4c-7afb-4b07-afd0-d938f933a67f\",\"type\":\"Toolbar\"},\"x_range\":{\"id\":\"2d77e4a6-b55e-45ec-9b05-57756cae6a52\",\"type\":\"FactorRange\"},\"x_scale\":{\"id\":\"6498ef77-52c7-4804-8e6e-a271b63c34c9\",\"type\":\"CategoricalScale\"},\"y_range\":{\"id\":\"58b3d85b-ba67-4d16-881f-316baa7349dc\",\"type\":\"Range1d\"},\"y_scale\":{\"id\":\"4c20e64f-7e69-4552-a33d-a8d4744fe3cb\",\"type\":\"LinearScale\"}},\"id\":\"409a6481-03e6-4a1b-a9c7-ff130ed0c75c\",\"subtype\":\"Figure\",\"type\":\"Plot\"},{\"attributes\":{\"plot\":null,\"text\":\"\"},\"id\":\"49435357-01d4-4cf1-8ead-7fb214572b45\",\"type\":\"Title\"},{\"attributes\":{\"fill_alpha\":{\"value\":0.1},\"fill_color\":{\"value\":\"#1f77b4\"},\"line_alpha\":{\"value\":0.1},\"line_color\":{\"value\":\"#1f77b4\"},\"top\":{\"field\":\"y\"},\"width\":{\"value\":0.3},\"x\":{\"field\":\"x\"}},\"id\":\"718454da-4d02-44ec-91cf-e45407ab3171\",\"type\":\"VBar\"},{\"attributes\":{},\"id\":\"05a341e8-b9a6-411f-8200-16fcdd1ed9db\",\"type\":\"CategoricalTicker\"},{\"attributes\":{\"level\":\"glyph\",\"plot\":{\"id\":\"409a6481-03e6-4a1b-a9c7-ff130ed0c75c\",\"subtype\":\"Figure\",\"type\":\"Plot\"},\"source\":{\"id\":\"3d18162c-6726-4ca0-9a04-66b34e6acc93\",\"type\":\"ColumnDataSource\"},\"text\":{\"field\":\"y\"},\"x\":{\"field\":\"x\"},\"x_offset\":{\"value\":-13.5},\"y\":{\"field\":\"y\"}},\"id\":\"caadb636-d409-48ec-aca2-7fa38fb1db68\",\"type\":\"LabelSet\"}],\"root_ids\":[\"409a6481-03e6-4a1b-a9c7-ff130ed0c75c\"]},\"title\":\"Bokeh Application\",\"version\":\"0.12.13\"}};\n",
       "  var render_items = [{\"docid\":\"3992f4c1-1c27-41f0-95d0-459441571f79\",\"elementid\":\"5e279a98-1f57-43ac-9e66-3a4931885037\",\"modelid\":\"409a6481-03e6-4a1b-a9c7-ff130ed0c75c\"}];\n",
       "  root.Bokeh.embed.embed_items_notebook(docs_json, render_items);\n",
       "\n",
       "  }\n",
       "  if (root.Bokeh !== undefined) {\n",
       "    embed_document(root);\n",
       "  } else {\n",
       "    var attempts = 0;\n",
       "    var timer = setInterval(function(root) {\n",
       "      if (root.Bokeh !== undefined) {\n",
       "        embed_document(root);\n",
       "        clearInterval(timer);\n",
       "      }\n",
       "      attempts++;\n",
       "      if (attempts > 100) {\n",
       "        console.log(\"Bokeh: ERROR: Unable to run BokehJS code because BokehJS library is missing\")\n",
       "        clearInterval(timer);\n",
       "      }\n",
       "    }, 10, root)\n",
       "  }\n",
       "})(window);"
      ],
      "application/vnd.bokehjs_exec.v0+json": ""
     },
     "metadata": {
      "application/vnd.bokehjs_exec.v0+json": {
       "id": "409a6481-03e6-4a1b-a9c7-ff130ed0c75c"
      }
     },
     "output_type": "display_data"
    }
   ],
   "source": [
    "ratings = reviews_df['rating'].value_counts()\n",
    "ratings.index = [int(c.split(':')[0]) for c in ratings.index]\n",
    "ratings = ratings.sort_index()\n",
    "source = ColumnDataSource(dict(x=[str(x) for x in ratings.index],y=ratings.values))\n",
    "\n",
    "plot = figure(plot_width=600, plot_height=300, tools=\"save\",\n",
    "        x_axis_label = \"Rating\",\n",
    "        y_axis_label = \"Review Count\",\n",
    "        title=\"\",\n",
    "        x_minor_ticks=2,\n",
    "        x_range = source.data[\"x\"],\n",
    "        y_range= ranges.Range1d(start=0,end=ratings.max() + 100))\n",
    "\n",
    "\n",
    "labels = LabelSet(x='x', y='y', text='y', level='glyph',\n",
    "        x_offset=-13.5, y_offset=0, source=source, render_mode='canvas')\n",
    "\n",
    "plot.vbar(source=source,x='x',top='y',bottom=0,width=0.3,color=PuBu[7][2])\n",
    "\n",
    "plot.add_layout(labels)\n",
    "show(plot)"
   ]
  },
  {
   "cell_type": "code",
   "execution_count": 172,
   "metadata": {},
   "outputs": [],
   "source": [
    "reviews_df.to_csv('iclr2018_reviews.csv.bz2', index=False, compression='bz2')"
   ]
  },
  {
   "cell_type": "code",
   "execution_count": 2,
   "metadata": {},
   "outputs": [],
   "source": [
    "reviews_df = pd.read_csv('iclr2018_reviews.csv.bz2')"
   ]
  },
  {
   "cell_type": "code",
   "execution_count": 3,
   "metadata": {},
   "outputs": [],
   "source": [
    "reviews_df['parse'] = reviews_df.review.apply(st.whitespace_nlp_with_sentences)"
   ]
  },
  {
   "cell_type": "code",
   "execution_count": 4,
   "metadata": {},
   "outputs": [
    {
     "data": {
      "text/plain": [
       "Reject, Negative      737\n",
       "Reject, Neutral       649\n",
       "Accept, Positive      572\n",
       "Accept, Neutral       386\n",
       "Workshop, Neutral     167\n",
       "Reject, Positive      130\n",
       "Workshop, Negative     65\n",
       "Accept, Negative       57\n",
       "Workshop, Positive     43\n",
       "Name: category, dtype: int64"
      ]
     },
     "execution_count": 4,
     "metadata": {},
     "output_type": "execute_result"
    }
   ],
   "source": [
    "reviews_df.category.value_counts()"
   ]
  },
  {
   "cell_type": "code",
   "execution_count": 5,
   "metadata": {},
   "outputs": [],
   "source": [
    "polar_df = reviews_df[reviews_df.category.isin(['Reject, Negative', 'Reject, Positive', 'Accept, Negative', 'Accept, Positive'])]"
   ]
  },
  {
   "cell_type": "code",
   "execution_count": 6,
   "metadata": {},
   "outputs": [],
   "source": [
    "four_square_corpus = (st.CorpusFromParsedDocuments(reviews_df, category_col = 'category', parsed_col = 'parse')\n",
    "                      .build()\n",
    "                      #.compact(st.CompactTerms(minimum_term_count=2, slack=5))\n",
    "                      .compact(st.ClassPercentageCompactor(term_count=1)))"
   ]
  },
  {
   "cell_type": "code",
   "execution_count": 8,
   "metadata": {},
   "outputs": [],
   "source": [
    "four_square_axes = st.FourSquareAxes(four_square_corpus, \n",
    "                                     ['Accept, Positive'], \n",
    "                                     ['Accept, Negative'], \n",
    "                                     ['Reject, Positive'], \n",
    "                                     ['Reject, Negative'], \n",
    "                                     labels = {'a_and_not_b': 'Positive',\n",
    "                                               'a_and_b': 'Accept',\n",
    "                                               'not_a_and_not_b': 'Reject',\n",
    "                                               'b_and_not_a': 'Negative'})\n",
    "html = st.produce_four_square_axes_explorer(\n",
    "    four_square_axes=four_square_axes,\n",
    "    x_label='NYT: Hi-Lo',\n",
    "    y_label='Buzz: Hi-Lo',\n",
    "    use_full_doc=True,\n",
    "    pmi_threshold_coefficient=0)"
   ]
  },
  {
   "cell_type": "code",
   "execution_count": 11,
   "metadata": {},
   "outputs": [
    {
     "data": {
      "text/html": [
       "\n",
       "        <iframe\n",
       "            width=\"1600\"\n",
       "            height=\"900\"\n",
       "            src=\"output/semiotic_axes.html\"\n",
       "            frameborder=\"0\"\n",
       "            allowfullscreen\n",
       "        ></iframe>\n",
       "        "
      ],
      "text/plain": [
       "<IPython.lib.display.IFrame at 0x1429d1be0>"
      ]
     },
     "execution_count": 11,
     "metadata": {},
     "output_type": "execute_result"
    }
   ],
   "source": [
    "file_name = 'output/semiotic_axes.html'\n",
    "open(file_name, 'wb').write('<center><h2>The Semiotics of Reviews</h2></center>'.encode('utf-8') + html.encode('utf-8'))\n",
    "IFrame(src=file_name, width = 1600, height=900)"
   ]
  },
  {
   "cell_type": "code",
   "execution_count": null,
   "metadata": {},
   "outputs": [],
   "source": []
  }
 ],
 "metadata": {
  "anaconda-cloud": {},
  "kernelspec": {
   "display_name": "Python [py36]",
   "language": "python",
   "name": "Python [py36]"
  },
  "language_info": {
   "codemirror_mode": {
    "name": "ipython",
    "version": 3
   },
   "file_extension": ".py",
   "mimetype": "text/x-python",
   "name": "python",
   "nbconvert_exporter": "python",
   "pygments_lexer": "ipython3",
   "version": "3.6.1"
  }
 },
 "nbformat": 4,
 "nbformat_minor": 2
}

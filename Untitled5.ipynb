{
 "cells": [
  {
   "cell_type": "code",
   "execution_count": 1,
   "metadata": {},
   "outputs": [
    {
     "data": {
      "text/html": [
       "<style>.container { width:98% !important; }</style>"
      ],
      "text/plain": [
       "<IPython.core.display.HTML object>"
      ]
     },
     "metadata": {},
     "output_type": "display_data"
    }
   ],
   "source": [
    "from sklearn.datasets import fetch_20newsgroups_vectorized, fetch_20newsgroups\n",
    "from sklearn.feature_extraction.text import TfidfVectorizer,CountVectorizer\n",
    "from lightning.classification import CDClassifier\n",
    "from scipy.sparse import csr_matrix\n",
    "import pandas as pd\n",
    "import scattertext as st\n",
    "import numpy as np\n",
    "import spacy\n",
    "from IPython.display import IFrame\n",
    "from IPython.core.display import display, HTML\n",
    "display(HTML(\"<style>.container { width:98% !important; }</style>\"))\n",
    "%matplotlib inline  "
   ]
  },
  {
   "cell_type": "code",
   "execution_count": null,
   "metadata": {
    "collapsed": true
   },
   "outputs": [],
   "source": []
  },
  {
   "cell_type": "code",
   "execution_count": 2,
   "metadata": {
    "collapsed": true
   },
   "outputs": [],
   "source": [
    "newsgroups_train = fetch_20newsgroups(subset='train', remove=('headers', 'footers', 'quotes'))\n",
    "vectorizer = TfidfVectorizer()\n",
    "X = vectorizer.fit_transform(newsgroups_train.data)\n",
    "count_vectorizer = CountVectorizer(vocabulary=vectorizer.vocabulary_)\n",
    "feature_vocabulary = vectorizer.vocabulary_"
   ]
  },
  {
   "cell_type": "code",
   "execution_count": 3,
   "metadata": {},
   "outputs": [
    {
     "data": {
      "text/plain": [
       "101631"
      ]
     },
     "execution_count": 3,
     "metadata": {},
     "output_type": "execute_result"
    }
   ],
   "source": [
    "st.IndexStoreFromDict.build(feature_vocabulary).getnumvals()"
   ]
  },
  {
   "cell_type": "code",
   "execution_count": 4,
   "metadata": {
    "collapsed": true
   },
   "outputs": [],
   "source": [
    "corpus = st.Corpus(\n",
    "    X=count_vectorizer.fit_transform(newsgroups_train.data),\n",
    "    mX=csr_matrix((0,0)),\n",
    "    y=newsgroups_train.target,\n",
    "    term_idx_store=st.IndexStoreFromDict.build(feature_vocabulary),\n",
    "    metadata_idx_store=st.IndexStore(),\n",
    "    category_idx_store=st.IndexStoreFromList.build(newsgroups_train.target_names),\n",
    "    raw_texts = np.array(newsgroups_train.data)\n",
    ")"
   ]
  },
  {
   "cell_type": "code",
   "execution_count": 5,
   "metadata": {},
   "outputs": [
    {
     "data": {
      "text/plain": [
       "'0000'"
      ]
     },
     "execution_count": 5,
     "metadata": {},
     "output_type": "execute_result"
    }
   ],
   "source": [
    "corpus._term_idx_store._i2val[2]"
   ]
  },
  {
   "cell_type": "code",
   "execution_count": 6,
   "metadata": {},
   "outputs": [
    {
     "data": {
      "text/plain": [
       "CDClassifier(C=1.0, Cd=1.0, alpha=0.0001, beta=0.5, callback=None,\n",
       "       debiasing=False, loss='squared_hinge', max_iter=20,\n",
       "       max_steps='auto', multiclass=True, n_calls=100, n_jobs=1,\n",
       "       penalty='l1/l2', permute=True, random_state=None,\n",
       "       selection='cyclic', shrinking=True, sigma=0.01,\n",
       "       termination='violation_sum', tol=0.001, verbose=0,\n",
       "       warm_debiasing=False, warm_start=False)"
      ]
     },
     "execution_count": 6,
     "metadata": {},
     "output_type": "execute_result"
    }
   ],
   "source": [
    "clf = CDClassifier(penalty=\"l1/l2\",\n",
    "                   loss=\"squared_hinge\",\n",
    "                   multiclass=True,\n",
    "                   max_iter=20,\n",
    "                   alpha=1e-4,\n",
    "                   C=1.0,\n",
    "                   tol=1e-3)\n",
    "clf.fit(X, newsgroups_train.target)"
   ]
  },
  {
   "cell_type": "code",
   "execution_count": 7,
   "metadata": {},
   "outputs": [],
   "source": [
    "tdm = corpus.get_term_freq_df()\n",
    "tdm['score'] = clf.coef_[0]\n"
   ]
  },
  {
   "cell_type": "code",
   "execution_count": 8,
   "metadata": {
    "collapsed": true
   },
   "outputs": [],
   "source": [
    "nonzero_corpus = corpus.remove_terms(tdm[tdm.score == 0].index)\n"
   ]
  },
  {
   "cell_type": "code",
   "execution_count": 9,
   "metadata": {},
   "outputs": [
    {
     "data": {
      "text/plain": [
       "3679"
      ]
     },
     "execution_count": 9,
     "metadata": {},
     "output_type": "execute_result"
    }
   ],
   "source": [
    "sum(tdm[[c for c in tdm.columns if c != 'score']].sum(axis=1) > 60)"
   ]
  },
  {
   "cell_type": "code",
   "execution_count": 10,
   "metadata": {},
   "outputs": [],
   "source": [
    "html = st.produce_fightin_words_explorer(nonzero_corpus, \n",
    "                                         category='alt.atheism',\n",
    "                                         minimum_term_frequency=60,\n",
    "                                         #scores = tdm.loc[nonzero_corpus.get_terms()].score,\n",
    "                                         max_docs_per_category=100)"
   ]
  },
  {
   "cell_type": "code",
   "execution_count": 19,
   "metadata": {},
   "outputs": [],
   "source": [
    "from scattertext.Scalers import scale_neg_1_to_1_with_zero_mean_abs_max, scale\n",
    "from scattertext.termsignificance.LogOddsRatioUninformativeDirichletPrior import LogOddsRatioUninformativeDirichletPrior\n",
    "produce_scattertext_explorer = st.produce_scattertext_explorer\n",
    "\n",
    "category = 'alt.atheism'\n",
    "DEFAULT_MINIMUM_TERM_FREQUENCY = 3\n",
    "category_name= None\n",
    "not_category_name = None\n",
    "kwargs = {}\n",
    "kwargs['minimum_term_frequency'] = 60\n",
    "term_ranker=st.termranking.AbsoluteFrequencyRanker\n",
    "alpha=0.01\n",
    "use_term_significance=True\n",
    "\n",
    "if category_name is None:\n",
    "    category_name = category\n",
    "if not_category_name is None:\n",
    "    not_category_name = \"Not \" + category_name\n",
    "    \n",
    "scale_offset = DEFAULT_MINIMUM_TERM_FREQUENCY\n",
    "if 'minimum_term_frequency' in kwargs:\n",
    "    scale_offset = kwargs['minimum_term_frequency']\n",
    "term_freq_df = term_ranker(corpus).get_ranks()\n",
    "frequencies_log_scaled = scale(np.log(term_freq_df.sum(axis=1).values) - np.log(scale_offset))\n",
    "\n",
    "if 'scores' not in kwargs:\n",
    "    zeta_i_j = (LogOddsRatioUninformativeDirichletPrior(alpha)\n",
    "                .get_zeta_i_j_given_separate_counts(term_freq_df[category + ' freq'],\n",
    "                                                    term_freq_df[[c + ' freq'\n",
    "                                                                  for c in corpus.get_categories()\n",
    "                                                                  if c != category]].sum(axis=1)))\n",
    "    kwargs['scores'] = kwargs.get('scores', zeta_i_j)\n",
    "\n",
    "scores_scaled_for_charting = scale_neg_1_to_1_with_zero_mean_abs_max(kwargs['scores'])\n",
    "# kwargs['metadata'] = kwargs.get('metadata', None),\n",
    "if use_term_significance:\n",
    "    kwargs['term_significance'] = LogOddsRatioUninformativeDirichletPrior(alpha)\n",
    "\n",
    "html = produce_scattertext_explorer(corpus,\n",
    "                                    category=category,\n",
    "                                    category_name=category_name,\n",
    "                                    not_category_name=not_category_name,\n",
    "                                    x_coords=frequencies_log_scaled,\n",
    "                                    y_coords=scores_scaled_for_charting,\n",
    "                                    sort_by_dist=False,\n",
    "                                    term_ranker=term_ranker,\n",
    "                                    p_value_colors=True,\n",
    "                                    # x_label=kwargs.get('x_label', 'Log Frequency'),\n",
    "                                    # y_label=kwargs.get('y_label', 'Z-Score: Log Odds Ratio w/ Prior'),\n",
    "                                    **kwargs)\n"
   ]
  },
  {
   "cell_type": "code",
   "execution_count": 23,
   "metadata": {},
   "outputs": [
    {
     "data": {
      "text/plain": [
       "1.0"
      ]
     },
     "execution_count": 23,
     "metadata": {},
     "output_type": "execute_result"
    }
   ],
   "source": [
    "max(frequencies_log_scaled)"
   ]
  },
  {
   "cell_type": "code",
   "execution_count": 20,
   "metadata": {},
   "outputs": [
    {
     "data": {
      "text/html": [
       "\n",
       "        <iframe\n",
       "            width=\"1200\"\n",
       "            height=\"1000\"\n",
       "            src=\"alt.atheism.html\"\n",
       "            frameborder=\"0\"\n",
       "            allowfullscreen\n",
       "        ></iframe>\n",
       "        "
      ],
      "text/plain": [
       "<IPython.lib.display.IFrame at 0x115ce4160>"
      ]
     },
     "execution_count": 20,
     "metadata": {},
     "output_type": "execute_result"
    }
   ],
   "source": [
    "file_name = \"alt.atheism.html\"\n",
    "open(file_name, 'wb').write(html.encode('utf-8'))\n",
    "IFrame(src=file_name, width = 1200, height=1000)"
   ]
  },
  {
   "cell_type": "code",
   "execution_count": 18,
   "metadata": {},
   "outputs": [
    {
     "ename": "NameError",
     "evalue": "name 'tdf' is not defined",
     "output_type": "error",
     "traceback": [
      "\u001b[0;31m---------------------------------------------------------------------------\u001b[0m",
      "\u001b[0;31mNameError\u001b[0m                                 Traceback (most recent call last)",
      "\u001b[0;32m<ipython-input-18-ac79097d827f>\u001b[0m in \u001b[0;36m<module>\u001b[0;34m()\u001b[0m\n\u001b[1;32m      3\u001b[0m \u001b[0mnot_category_max\u001b[0m \u001b[0;34m=\u001b[0m \u001b[0;36m3000\u001b[0m\u001b[0;34m\u001b[0m\u001b[0m\n\u001b[1;32m      4\u001b[0m \u001b[0;34m\u001b[0m\u001b[0m\n\u001b[0;32m----> 5\u001b[0;31m \u001b[0mcatdf\u001b[0m \u001b[0;34m=\u001b[0m \u001b[0mpd\u001b[0m\u001b[0;34m.\u001b[0m\u001b[0mDataFrame\u001b[0m\u001b[0;34m(\u001b[0m\u001b[0;34m{\u001b[0m\u001b[0mcategory\u001b[0m\u001b[0;34m:\u001b[0m \u001b[0mtdf\u001b[0m\u001b[0;34m[\u001b[0m\u001b[0mcategory\u001b[0m \u001b[0;34m+\u001b[0m \u001b[0;34m' freq'\u001b[0m\u001b[0;34m]\u001b[0m\u001b[0;34m,\u001b[0m \u001b[0;34m'not '\u001b[0m \u001b[0;34m+\u001b[0m \u001b[0mcategory\u001b[0m\u001b[0;34m:\u001b[0m \u001b[0mtdf\u001b[0m\u001b[0;34m.\u001b[0m\u001b[0msum\u001b[0m\u001b[0;34m(\u001b[0m\u001b[0maxis\u001b[0m\u001b[0;34m=\u001b[0m\u001b[0;36m1\u001b[0m\u001b[0;34m)\u001b[0m \u001b[0;34m-\u001b[0m \u001b[0mtdf\u001b[0m\u001b[0;34m[\u001b[0m\u001b[0mcategory\u001b[0m \u001b[0;34m+\u001b[0m \u001b[0;34m' freq'\u001b[0m\u001b[0;34m]\u001b[0m\u001b[0;34m}\u001b[0m\u001b[0;34m)\u001b[0m\u001b[0;34m\u001b[0m\u001b[0m\n\u001b[0m\u001b[1;32m      6\u001b[0m \u001b[0mcatdf\u001b[0m\u001b[0;34m[\u001b[0m\u001b[0;34m'score'\u001b[0m\u001b[0;34m]\u001b[0m \u001b[0;34m=\u001b[0m \u001b[0mcorpus\u001b[0m\u001b[0;34m.\u001b[0m\u001b[0mget_scaled_f_scores\u001b[0m\u001b[0;34m(\u001b[0m\u001b[0mcategory\u001b[0m\u001b[0;34m)\u001b[0m\u001b[0;34m\u001b[0m\u001b[0m\n\u001b[1;32m      7\u001b[0m \u001b[0;34m\u001b[0m\u001b[0m\n",
      "\u001b[0;31mNameError\u001b[0m: name 'tdf' is not defined"
     ]
    }
   ],
   "source": [
    "category = 'alt.atheism'\n",
    "category_max = 3000\n",
    "not_category_max = 3000\n",
    "\n",
    "catdf = pd.DataFrame({category: tdf[category + ' freq'], \n",
    "                      'not ' + category: tdf.sum(axis=1) - tdf[category + ' freq']})\n",
    "catdf['score'] = corpus.get_scaled_f_scores(category)\n",
    "\n"
   ]
  },
  {
   "cell_type": "code",
   "execution_count": null,
   "metadata": {
    "collapsed": true
   },
   "outputs": [],
   "source": []
  },
  {
   "cell_type": "code",
   "execution_count": null,
   "metadata": {
    "collapsed": true
   },
   "outputs": [],
   "source": []
  },
  {
   "cell_type": "code",
   "execution_count": null,
   "metadata": {
    "collapsed": true
   },
   "outputs": [],
   "source": [
    "html = st.produce_scattertext_explorer(corpus, \n",
    "                                       category='alt.atheism', \n",
    "                                       category_name='alt.atheism', \n",
    "                                       not_category_name='Not alt.atheism',\n",
    "                                       minimum_term_frequency=20,\n",
    "                                       not_category_term_frequency=[20]\n",
    "                                       use_full_doc=True,\n",
    "                                       width_in_pixels=1000)\n",
    "file_name = \"alt.atheism.html\"\n",
    "open(file_name, 'wb').write(html.encode('utf-8'))\n",
    "IFrame(src=file_name, width = 1200, height=1000)"
   ]
  },
  {
   "cell_type": "code",
   "execution_count": null,
   "metadata": {
    "collapsed": true
   },
   "outputs": [],
   "source": [
    "X.shape == (len(y), len(vectorizer.vocabulary_))"
   ]
  },
  {
   "cell_type": "code",
   "execution_count": null,
   "metadata": {
    "collapsed": true
   },
   "outputs": [],
   "source": [
    "# Set classifier options.\n"
   ]
  },
  {
   "cell_type": "code",
   "execution_count": null,
   "metadata": {
    "collapsed": true
   },
   "outputs": [],
   "source": [
    "clf.fit(X_train, data_train.target)"
   ]
  },
  {
   "cell_type": "code",
   "execution_count": null,
   "metadata": {
    "collapsed": true
   },
   "outputs": [],
   "source": [
    "clf.coef_.shape"
   ]
  },
  {
   "cell_type": "code",
   "execution_count": null,
   "metadata": {
    "collapsed": true
   },
   "outputs": [],
   "source": [
    "sum(clf.coef_[0] != 0)"
   ]
  },
  {
   "cell_type": "code",
   "execution_count": null,
   "metadata": {
    "collapsed": true
   },
   "outputs": [],
   "source": []
  }
 ],
 "metadata": {
  "anaconda-cloud": {},
  "kernelspec": {
   "display_name": "Python [py36]",
   "language": "python",
   "name": "Python [py36]"
  },
  "language_info": {
   "codemirror_mode": {
    "name": "ipython",
    "version": 3
   },
   "file_extension": ".py",
   "mimetype": "text/x-python",
   "name": "python",
   "nbconvert_exporter": "python",
   "pygments_lexer": "ipython3",
   "version": "3.6.1"
  }
 },
 "nbformat": 4,
 "nbformat_minor": 2
}
